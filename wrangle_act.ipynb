{
 "cells": [
  {
   "cell_type": "markdown",
   "metadata": {
    "extensions": {
     "jupyter_dashboards": {
      "version": 1,
      "views": {
       "grid_default": {
        "col": 0,
        "height": 4,
        "hidden": false,
        "row": 0,
        "width": 4
       },
       "report_default": {
        "hidden": false
       }
      }
     }
    }
   },
   "source": [
    "# Project: Wrangling and Analyze Data"
   ]
  },
  {
   "cell_type": "markdown",
   "metadata": {},
   "source": [
    "#### Wrangle and Analyze the WeRateDogs Twitter Archive\n",
    "\n",
    "#### Joshua Emmanuelaudu"
   ]
  },
  {
   "cell_type": "markdown",
   "metadata": {},
   "source": [
    "## Table of Contents\n",
    "### <ul>\n",
    "<li><a href=\"#intro\">Introduction</a></li>\n",
    "<li><a href=\"#gathering\">Data Gathering</a></li>\n",
    "<li><a href=\"#assessing\">Assessing</a></li>\n",
    "<li><a href=\"#summary\">Summary of Assessment</a></li>\n",
    "<li><a href=\"#cleaning\">Cleaning</a></li>\n",
    "<li><a href=\"#storing\">Storing</a></li>\n",
    "<li><a href=\"#analysis\">Analyzing and Visualizing Data</a></li>\n",
    "</ul>"
   ]
  },
  {
   "cell_type": "markdown",
   "metadata": {},
   "source": [
    "<a id='intro'></a>\n",
    "# Introduction\n",
    "\n",
    "The twitter archive is based on the \"We Rate Dogs\" twitter account. This data quality and tidyness has been validated and cleaned to create an enhanced data for the purpose of effective data wrangling and analysis."
   ]
  },
  {
   "cell_type": "markdown",
   "metadata": {},
   "source": [
    "<a id='gathering'></a>\n",
    "## Data Gathering\n",
    "In the cell below, gather **all** three pieces of data for this project and load them in the notebook. **Note:** the methods required to gather each data are different.\n",
    "1. Directly download the WeRateDogs Twitter archive data (twitter_archive_enhanced.csv)"
   ]
  },
  {
   "cell_type": "code",
   "execution_count": 1,
   "metadata": {},
   "outputs": [],
   "source": [
    "import pandas as pd\n",
    "import numpy as np\n",
    "import matplotlib.pyplot as plt\n",
    "%matplotlib inline\n",
    "import seaborn as sns"
   ]
  },
  {
   "cell_type": "code",
   "execution_count": 2,
   "metadata": {
    "extensions": {
     "jupyter_dashboards": {
      "version": 1,
      "views": {
       "grid_default": {
        "hidden": true
       },
       "report_default": {
        "hidden": true
       }
      }
     }
    }
   },
   "outputs": [],
   "source": [
    "df_archive = pd.read_csv(r'C:\\Users\\hp\\Documents\\ALX Files\\Data Wrangling\\project_2\\twitter-archive-enhanced.csv')"
   ]
  },
  {
   "cell_type": "code",
   "execution_count": 3,
   "metadata": {
    "scrolled": true
   },
   "outputs": [
    {
     "data": {
      "text/html": [
       "<div>\n",
       "<style scoped>\n",
       "    .dataframe tbody tr th:only-of-type {\n",
       "        vertical-align: middle;\n",
       "    }\n",
       "\n",
       "    .dataframe tbody tr th {\n",
       "        vertical-align: top;\n",
       "    }\n",
       "\n",
       "    .dataframe thead th {\n",
       "        text-align: right;\n",
       "    }\n",
       "</style>\n",
       "<table border=\"1\" class=\"dataframe\">\n",
       "  <thead>\n",
       "    <tr style=\"text-align: right;\">\n",
       "      <th></th>\n",
       "      <th>tweet_id</th>\n",
       "      <th>in_reply_to_status_id</th>\n",
       "      <th>in_reply_to_user_id</th>\n",
       "      <th>timestamp</th>\n",
       "      <th>source</th>\n",
       "      <th>text</th>\n",
       "      <th>retweeted_status_id</th>\n",
       "      <th>retweeted_status_user_id</th>\n",
       "      <th>retweeted_status_timestamp</th>\n",
       "      <th>expanded_urls</th>\n",
       "      <th>rating_numerator</th>\n",
       "      <th>rating_denominator</th>\n",
       "      <th>name</th>\n",
       "      <th>doggo</th>\n",
       "      <th>floofer</th>\n",
       "      <th>pupper</th>\n",
       "      <th>puppo</th>\n",
       "    </tr>\n",
       "  </thead>\n",
       "  <tbody>\n",
       "    <tr>\n",
       "      <th>0</th>\n",
       "      <td>892420643555336193</td>\n",
       "      <td>NaN</td>\n",
       "      <td>NaN</td>\n",
       "      <td>2017-08-01 16:23:56 +0000</td>\n",
       "      <td>&lt;a href=\"http://twitter.com/download/iphone\" r...</td>\n",
       "      <td>This is Phineas. He's a mystical boy. Only eve...</td>\n",
       "      <td>NaN</td>\n",
       "      <td>NaN</td>\n",
       "      <td>NaN</td>\n",
       "      <td>https://twitter.com/dog_rates/status/892420643...</td>\n",
       "      <td>13</td>\n",
       "      <td>10</td>\n",
       "      <td>Phineas</td>\n",
       "      <td>None</td>\n",
       "      <td>None</td>\n",
       "      <td>None</td>\n",
       "      <td>None</td>\n",
       "    </tr>\n",
       "    <tr>\n",
       "      <th>1</th>\n",
       "      <td>892177421306343426</td>\n",
       "      <td>NaN</td>\n",
       "      <td>NaN</td>\n",
       "      <td>2017-08-01 00:17:27 +0000</td>\n",
       "      <td>&lt;a href=\"http://twitter.com/download/iphone\" r...</td>\n",
       "      <td>This is Tilly. She's just checking pup on you....</td>\n",
       "      <td>NaN</td>\n",
       "      <td>NaN</td>\n",
       "      <td>NaN</td>\n",
       "      <td>https://twitter.com/dog_rates/status/892177421...</td>\n",
       "      <td>13</td>\n",
       "      <td>10</td>\n",
       "      <td>Tilly</td>\n",
       "      <td>None</td>\n",
       "      <td>None</td>\n",
       "      <td>None</td>\n",
       "      <td>None</td>\n",
       "    </tr>\n",
       "    <tr>\n",
       "      <th>2</th>\n",
       "      <td>891815181378084864</td>\n",
       "      <td>NaN</td>\n",
       "      <td>NaN</td>\n",
       "      <td>2017-07-31 00:18:03 +0000</td>\n",
       "      <td>&lt;a href=\"http://twitter.com/download/iphone\" r...</td>\n",
       "      <td>This is Archie. He is a rare Norwegian Pouncin...</td>\n",
       "      <td>NaN</td>\n",
       "      <td>NaN</td>\n",
       "      <td>NaN</td>\n",
       "      <td>https://twitter.com/dog_rates/status/891815181...</td>\n",
       "      <td>12</td>\n",
       "      <td>10</td>\n",
       "      <td>Archie</td>\n",
       "      <td>None</td>\n",
       "      <td>None</td>\n",
       "      <td>None</td>\n",
       "      <td>None</td>\n",
       "    </tr>\n",
       "    <tr>\n",
       "      <th>3</th>\n",
       "      <td>891689557279858688</td>\n",
       "      <td>NaN</td>\n",
       "      <td>NaN</td>\n",
       "      <td>2017-07-30 15:58:51 +0000</td>\n",
       "      <td>&lt;a href=\"http://twitter.com/download/iphone\" r...</td>\n",
       "      <td>This is Darla. She commenced a snooze mid meal...</td>\n",
       "      <td>NaN</td>\n",
       "      <td>NaN</td>\n",
       "      <td>NaN</td>\n",
       "      <td>https://twitter.com/dog_rates/status/891689557...</td>\n",
       "      <td>13</td>\n",
       "      <td>10</td>\n",
       "      <td>Darla</td>\n",
       "      <td>None</td>\n",
       "      <td>None</td>\n",
       "      <td>None</td>\n",
       "      <td>None</td>\n",
       "    </tr>\n",
       "    <tr>\n",
       "      <th>4</th>\n",
       "      <td>891327558926688256</td>\n",
       "      <td>NaN</td>\n",
       "      <td>NaN</td>\n",
       "      <td>2017-07-29 16:00:24 +0000</td>\n",
       "      <td>&lt;a href=\"http://twitter.com/download/iphone\" r...</td>\n",
       "      <td>This is Franklin. He would like you to stop ca...</td>\n",
       "      <td>NaN</td>\n",
       "      <td>NaN</td>\n",
       "      <td>NaN</td>\n",
       "      <td>https://twitter.com/dog_rates/status/891327558...</td>\n",
       "      <td>12</td>\n",
       "      <td>10</td>\n",
       "      <td>Franklin</td>\n",
       "      <td>None</td>\n",
       "      <td>None</td>\n",
       "      <td>None</td>\n",
       "      <td>None</td>\n",
       "    </tr>\n",
       "  </tbody>\n",
       "</table>\n",
       "</div>"
      ],
      "text/plain": [
       "             tweet_id  in_reply_to_status_id  in_reply_to_user_id  \\\n",
       "0  892420643555336193                    NaN                  NaN   \n",
       "1  892177421306343426                    NaN                  NaN   \n",
       "2  891815181378084864                    NaN                  NaN   \n",
       "3  891689557279858688                    NaN                  NaN   \n",
       "4  891327558926688256                    NaN                  NaN   \n",
       "\n",
       "                   timestamp  \\\n",
       "0  2017-08-01 16:23:56 +0000   \n",
       "1  2017-08-01 00:17:27 +0000   \n",
       "2  2017-07-31 00:18:03 +0000   \n",
       "3  2017-07-30 15:58:51 +0000   \n",
       "4  2017-07-29 16:00:24 +0000   \n",
       "\n",
       "                                              source  \\\n",
       "0  <a href=\"http://twitter.com/download/iphone\" r...   \n",
       "1  <a href=\"http://twitter.com/download/iphone\" r...   \n",
       "2  <a href=\"http://twitter.com/download/iphone\" r...   \n",
       "3  <a href=\"http://twitter.com/download/iphone\" r...   \n",
       "4  <a href=\"http://twitter.com/download/iphone\" r...   \n",
       "\n",
       "                                                text  retweeted_status_id  \\\n",
       "0  This is Phineas. He's a mystical boy. Only eve...                  NaN   \n",
       "1  This is Tilly. She's just checking pup on you....                  NaN   \n",
       "2  This is Archie. He is a rare Norwegian Pouncin...                  NaN   \n",
       "3  This is Darla. She commenced a snooze mid meal...                  NaN   \n",
       "4  This is Franklin. He would like you to stop ca...                  NaN   \n",
       "\n",
       "   retweeted_status_user_id retweeted_status_timestamp  \\\n",
       "0                       NaN                        NaN   \n",
       "1                       NaN                        NaN   \n",
       "2                       NaN                        NaN   \n",
       "3                       NaN                        NaN   \n",
       "4                       NaN                        NaN   \n",
       "\n",
       "                                       expanded_urls  rating_numerator  \\\n",
       "0  https://twitter.com/dog_rates/status/892420643...                13   \n",
       "1  https://twitter.com/dog_rates/status/892177421...                13   \n",
       "2  https://twitter.com/dog_rates/status/891815181...                12   \n",
       "3  https://twitter.com/dog_rates/status/891689557...                13   \n",
       "4  https://twitter.com/dog_rates/status/891327558...                12   \n",
       "\n",
       "   rating_denominator      name doggo floofer pupper puppo  \n",
       "0                  10   Phineas  None    None   None  None  \n",
       "1                  10     Tilly  None    None   None  None  \n",
       "2                  10    Archie  None    None   None  None  \n",
       "3                  10     Darla  None    None   None  None  \n",
       "4                  10  Franklin  None    None   None  None  "
      ]
     },
     "execution_count": 3,
     "metadata": {},
     "output_type": "execute_result"
    }
   ],
   "source": [
    "df_archive.head(5)"
   ]
  },
  {
   "cell_type": "code",
   "execution_count": 4,
   "metadata": {
    "scrolled": false
   },
   "outputs": [
    {
     "name": "stdout",
     "output_type": "stream",
     "text": [
      "<class 'pandas.core.frame.DataFrame'>\n",
      "RangeIndex: 2356 entries, 0 to 2355\n",
      "Data columns (total 17 columns):\n",
      " #   Column                      Non-Null Count  Dtype  \n",
      "---  ------                      --------------  -----  \n",
      " 0   tweet_id                    2356 non-null   int64  \n",
      " 1   in_reply_to_status_id       78 non-null     float64\n",
      " 2   in_reply_to_user_id         78 non-null     float64\n",
      " 3   timestamp                   2356 non-null   object \n",
      " 4   source                      2356 non-null   object \n",
      " 5   text                        2356 non-null   object \n",
      " 6   retweeted_status_id         181 non-null    float64\n",
      " 7   retweeted_status_user_id    181 non-null    float64\n",
      " 8   retweeted_status_timestamp  181 non-null    object \n",
      " 9   expanded_urls               2297 non-null   object \n",
      " 10  rating_numerator            2356 non-null   int64  \n",
      " 11  rating_denominator          2356 non-null   int64  \n",
      " 12  name                        2356 non-null   object \n",
      " 13  doggo                       2356 non-null   object \n",
      " 14  floofer                     2356 non-null   object \n",
      " 15  pupper                      2356 non-null   object \n",
      " 16  puppo                       2356 non-null   object \n",
      "dtypes: float64(4), int64(3), object(10)\n",
      "memory usage: 313.0+ KB\n"
     ]
    }
   ],
   "source": [
    "df_archive.info()"
   ]
  },
  {
   "cell_type": "markdown",
   "metadata": {},
   "source": [
    "2. Use the Requests library to download the tweet image prediction (image_predictions.tsv)"
   ]
  },
  {
   "cell_type": "code",
   "execution_count": 5,
   "metadata": {},
   "outputs": [],
   "source": [
    "import requests\n",
    "import os"
   ]
  },
  {
   "cell_type": "code",
   "execution_count": 6,
   "metadata": {},
   "outputs": [
    {
     "data": {
      "text/plain": [
       "<Response [200]>"
      ]
     },
     "execution_count": 6,
     "metadata": {},
     "output_type": "execute_result"
    }
   ],
   "source": [
    "# Programmatically downloading the file\n",
    "url = 'https://d17h27t6h515a5.cloudfront.net/topher/2017/August/599fd2ad_image-predictions/image-predictions.tsv'\n",
    "response = requests.get(url)\n",
    "response"
   ]
  },
  {
   "cell_type": "markdown",
   "metadata": {},
   "source": [
    "#### status code response 200 means the downloading operation was successful"
   ]
  },
  {
   "cell_type": "code",
   "execution_count": 7,
   "metadata": {},
   "outputs": [],
   "source": [
    "with open('image_predictions.tsv', mode ='wb') as file:\n",
    "    file.write(response.content)"
   ]
  },
  {
   "cell_type": "code",
   "execution_count": 8,
   "metadata": {},
   "outputs": [],
   "source": [
    "# read downloaded image prediction file\n",
    "df_images = pd.read_csv('image_predictions.tsv', sep='\\t' )"
   ]
  },
  {
   "cell_type": "code",
   "execution_count": 9,
   "metadata": {},
   "outputs": [
    {
     "data": {
      "text/html": [
       "<div>\n",
       "<style scoped>\n",
       "    .dataframe tbody tr th:only-of-type {\n",
       "        vertical-align: middle;\n",
       "    }\n",
       "\n",
       "    .dataframe tbody tr th {\n",
       "        vertical-align: top;\n",
       "    }\n",
       "\n",
       "    .dataframe thead th {\n",
       "        text-align: right;\n",
       "    }\n",
       "</style>\n",
       "<table border=\"1\" class=\"dataframe\">\n",
       "  <thead>\n",
       "    <tr style=\"text-align: right;\">\n",
       "      <th></th>\n",
       "      <th>tweet_id</th>\n",
       "      <th>jpg_url</th>\n",
       "      <th>img_num</th>\n",
       "      <th>p1</th>\n",
       "      <th>p1_conf</th>\n",
       "      <th>p1_dog</th>\n",
       "      <th>p2</th>\n",
       "      <th>p2_conf</th>\n",
       "      <th>p2_dog</th>\n",
       "      <th>p3</th>\n",
       "      <th>p3_conf</th>\n",
       "      <th>p3_dog</th>\n",
       "    </tr>\n",
       "  </thead>\n",
       "  <tbody>\n",
       "    <tr>\n",
       "      <th>0</th>\n",
       "      <td>666020888022790149</td>\n",
       "      <td>https://pbs.twimg.com/media/CT4udn0WwAA0aMy.jpg</td>\n",
       "      <td>1</td>\n",
       "      <td>Welsh_springer_spaniel</td>\n",
       "      <td>0.465074</td>\n",
       "      <td>True</td>\n",
       "      <td>collie</td>\n",
       "      <td>0.156665</td>\n",
       "      <td>True</td>\n",
       "      <td>Shetland_sheepdog</td>\n",
       "      <td>0.061428</td>\n",
       "      <td>True</td>\n",
       "    </tr>\n",
       "    <tr>\n",
       "      <th>1</th>\n",
       "      <td>666029285002620928</td>\n",
       "      <td>https://pbs.twimg.com/media/CT42GRgUYAA5iDo.jpg</td>\n",
       "      <td>1</td>\n",
       "      <td>redbone</td>\n",
       "      <td>0.506826</td>\n",
       "      <td>True</td>\n",
       "      <td>miniature_pinscher</td>\n",
       "      <td>0.074192</td>\n",
       "      <td>True</td>\n",
       "      <td>Rhodesian_ridgeback</td>\n",
       "      <td>0.072010</td>\n",
       "      <td>True</td>\n",
       "    </tr>\n",
       "    <tr>\n",
       "      <th>2</th>\n",
       "      <td>666033412701032449</td>\n",
       "      <td>https://pbs.twimg.com/media/CT4521TWwAEvMyu.jpg</td>\n",
       "      <td>1</td>\n",
       "      <td>German_shepherd</td>\n",
       "      <td>0.596461</td>\n",
       "      <td>True</td>\n",
       "      <td>malinois</td>\n",
       "      <td>0.138584</td>\n",
       "      <td>True</td>\n",
       "      <td>bloodhound</td>\n",
       "      <td>0.116197</td>\n",
       "      <td>True</td>\n",
       "    </tr>\n",
       "    <tr>\n",
       "      <th>3</th>\n",
       "      <td>666044226329800704</td>\n",
       "      <td>https://pbs.twimg.com/media/CT5Dr8HUEAA-lEu.jpg</td>\n",
       "      <td>1</td>\n",
       "      <td>Rhodesian_ridgeback</td>\n",
       "      <td>0.408143</td>\n",
       "      <td>True</td>\n",
       "      <td>redbone</td>\n",
       "      <td>0.360687</td>\n",
       "      <td>True</td>\n",
       "      <td>miniature_pinscher</td>\n",
       "      <td>0.222752</td>\n",
       "      <td>True</td>\n",
       "    </tr>\n",
       "    <tr>\n",
       "      <th>4</th>\n",
       "      <td>666049248165822465</td>\n",
       "      <td>https://pbs.twimg.com/media/CT5IQmsXIAAKY4A.jpg</td>\n",
       "      <td>1</td>\n",
       "      <td>miniature_pinscher</td>\n",
       "      <td>0.560311</td>\n",
       "      <td>True</td>\n",
       "      <td>Rottweiler</td>\n",
       "      <td>0.243682</td>\n",
       "      <td>True</td>\n",
       "      <td>Doberman</td>\n",
       "      <td>0.154629</td>\n",
       "      <td>True</td>\n",
       "    </tr>\n",
       "  </tbody>\n",
       "</table>\n",
       "</div>"
      ],
      "text/plain": [
       "             tweet_id                                          jpg_url  \\\n",
       "0  666020888022790149  https://pbs.twimg.com/media/CT4udn0WwAA0aMy.jpg   \n",
       "1  666029285002620928  https://pbs.twimg.com/media/CT42GRgUYAA5iDo.jpg   \n",
       "2  666033412701032449  https://pbs.twimg.com/media/CT4521TWwAEvMyu.jpg   \n",
       "3  666044226329800704  https://pbs.twimg.com/media/CT5Dr8HUEAA-lEu.jpg   \n",
       "4  666049248165822465  https://pbs.twimg.com/media/CT5IQmsXIAAKY4A.jpg   \n",
       "\n",
       "   img_num                      p1   p1_conf  p1_dog                  p2  \\\n",
       "0        1  Welsh_springer_spaniel  0.465074    True              collie   \n",
       "1        1                 redbone  0.506826    True  miniature_pinscher   \n",
       "2        1         German_shepherd  0.596461    True            malinois   \n",
       "3        1     Rhodesian_ridgeback  0.408143    True             redbone   \n",
       "4        1      miniature_pinscher  0.560311    True          Rottweiler   \n",
       "\n",
       "    p2_conf  p2_dog                   p3   p3_conf  p3_dog  \n",
       "0  0.156665    True    Shetland_sheepdog  0.061428    True  \n",
       "1  0.074192    True  Rhodesian_ridgeback  0.072010    True  \n",
       "2  0.138584    True           bloodhound  0.116197    True  \n",
       "3  0.360687    True   miniature_pinscher  0.222752    True  \n",
       "4  0.243682    True             Doberman  0.154629    True  "
      ]
     },
     "execution_count": 9,
     "metadata": {},
     "output_type": "execute_result"
    }
   ],
   "source": [
    "df_images.head(5)"
   ]
  },
  {
   "cell_type": "code",
   "execution_count": 12,
   "metadata": {},
   "outputs": [
    {
     "name": "stdout",
     "output_type": "stream",
     "text": [
      "<class 'pandas.core.frame.DataFrame'>\n",
      "RangeIndex: 2075 entries, 0 to 2074\n",
      "Data columns (total 12 columns):\n",
      " #   Column    Non-Null Count  Dtype  \n",
      "---  ------    --------------  -----  \n",
      " 0   tweet_id  2075 non-null   int64  \n",
      " 1   jpg_url   2075 non-null   object \n",
      " 2   img_num   2075 non-null   int64  \n",
      " 3   p1        2075 non-null   object \n",
      " 4   p1_conf   2075 non-null   float64\n",
      " 5   p1_dog    2075 non-null   bool   \n",
      " 6   p2        2075 non-null   object \n",
      " 7   p2_conf   2075 non-null   float64\n",
      " 8   p2_dog    2075 non-null   bool   \n",
      " 9   p3        2075 non-null   object \n",
      " 10  p3_conf   2075 non-null   float64\n",
      " 11  p3_dog    2075 non-null   bool   \n",
      "dtypes: bool(3), float64(3), int64(2), object(4)\n",
      "memory usage: 152.1+ KB\n"
     ]
    }
   ],
   "source": [
    "df_images.info()"
   ]
  },
  {
   "cell_type": "markdown",
   "metadata": {},
   "source": [
    "3. Use the Tweepy library to query additional data via the Twitter API (tweet_json.txt)"
   ]
  },
  {
   "cell_type": "code",
   "execution_count": 10,
   "metadata": {},
   "outputs": [],
   "source": [
    "import json"
   ]
  },
  {
   "cell_type": "code",
   "execution_count": 11,
   "metadata": {},
   "outputs": [],
   "source": [
    "#read in already downloaded Json data provided by Udacity\n",
    "\n",
    "tweets = []\n",
    "for line in open('tweet-json.txt', 'r'):\n",
    "    tweets.append(json.loads(line))   \n"
   ]
  },
  {
   "cell_type": "code",
   "execution_count": 12,
   "metadata": {},
   "outputs": [],
   "source": [
    "#creating a list of data from tweet_json.txt\n",
    "list_tweets = []\n",
    "for json_data in tweets:\n",
    "    list_tweets.append({'id' : json_data['id'],\n",
    "                       'retweet_count': int(json_data['retweet_count']),\n",
    "                       'favorite_count' : int(json_data['favorite_count'])})\n",
    "   \n",
    " #creating a Dataframe\n",
    "df_tweets = pd.DataFrame(list_tweets, columns = ['id', 'retweet_count' , 'favorite_count'])\n"
   ]
  },
  {
   "cell_type": "code",
   "execution_count": 13,
   "metadata": {
    "scrolled": true
   },
   "outputs": [
    {
     "data": {
      "text/html": [
       "<div>\n",
       "<style scoped>\n",
       "    .dataframe tbody tr th:only-of-type {\n",
       "        vertical-align: middle;\n",
       "    }\n",
       "\n",
       "    .dataframe tbody tr th {\n",
       "        vertical-align: top;\n",
       "    }\n",
       "\n",
       "    .dataframe thead th {\n",
       "        text-align: right;\n",
       "    }\n",
       "</style>\n",
       "<table border=\"1\" class=\"dataframe\">\n",
       "  <thead>\n",
       "    <tr style=\"text-align: right;\">\n",
       "      <th></th>\n",
       "      <th>id</th>\n",
       "      <th>retweet_count</th>\n",
       "      <th>favorite_count</th>\n",
       "    </tr>\n",
       "  </thead>\n",
       "  <tbody>\n",
       "    <tr>\n",
       "      <th>0</th>\n",
       "      <td>892420643555336193</td>\n",
       "      <td>8853</td>\n",
       "      <td>39467</td>\n",
       "    </tr>\n",
       "    <tr>\n",
       "      <th>1</th>\n",
       "      <td>892177421306343426</td>\n",
       "      <td>6514</td>\n",
       "      <td>33819</td>\n",
       "    </tr>\n",
       "    <tr>\n",
       "      <th>2</th>\n",
       "      <td>891815181378084864</td>\n",
       "      <td>4328</td>\n",
       "      <td>25461</td>\n",
       "    </tr>\n",
       "    <tr>\n",
       "      <th>3</th>\n",
       "      <td>891689557279858688</td>\n",
       "      <td>8964</td>\n",
       "      <td>42908</td>\n",
       "    </tr>\n",
       "    <tr>\n",
       "      <th>4</th>\n",
       "      <td>891327558926688256</td>\n",
       "      <td>9774</td>\n",
       "      <td>41048</td>\n",
       "    </tr>\n",
       "  </tbody>\n",
       "</table>\n",
       "</div>"
      ],
      "text/plain": [
       "                   id  retweet_count  favorite_count\n",
       "0  892420643555336193           8853           39467\n",
       "1  892177421306343426           6514           33819\n",
       "2  891815181378084864           4328           25461\n",
       "3  891689557279858688           8964           42908\n",
       "4  891327558926688256           9774           41048"
      ]
     },
     "execution_count": 13,
     "metadata": {},
     "output_type": "execute_result"
    }
   ],
   "source": [
    "df_tweets.head(5)"
   ]
  },
  {
   "cell_type": "code",
   "execution_count": 51,
   "metadata": {},
   "outputs": [
    {
     "name": "stdout",
     "output_type": "stream",
     "text": [
      "<class 'pandas.core.frame.DataFrame'>\n",
      "RangeIndex: 2354 entries, 0 to 2353\n",
      "Data columns (total 3 columns):\n",
      " #   Column          Non-Null Count  Dtype\n",
      "---  ------          --------------  -----\n",
      " 0   id              2354 non-null   int64\n",
      " 1   retweet_count   2354 non-null   int64\n",
      " 2   favorite_count  2354 non-null   int64\n",
      "dtypes: int64(3)\n",
      "memory usage: 55.3 KB\n"
     ]
    }
   ],
   "source": [
    "df_tweets.info()"
   ]
  },
  {
   "cell_type": "code",
   "execution_count": 14,
   "metadata": {},
   "outputs": [],
   "source": [
    "#convert to csv\n",
    "df_tweets.to_csv('df_tweets.csv', index = False)"
   ]
  },
  {
   "cell_type": "markdown",
   "metadata": {
    "extensions": {
     "jupyter_dashboards": {
      "version": 1,
      "views": {
       "grid_default": {
        "col": 4,
        "height": 4,
        "hidden": false,
        "row": 28,
        "width": 4
       },
       "report_default": {
        "hidden": false
       }
      }
     }
    }
   },
   "source": [
    "<a id='assessing'></a>\n",
    "\n",
    "## Assessing Data\n"
   ]
  },
  {
   "cell_type": "markdown",
   "metadata": {},
   "source": [
    "#### The datasets gathered are: \n",
    "- twiiter archive = ```df_archive```\n",
    "\n",
    "- images predictions = ```df_images```\n",
    "\n",
    "- twitter json = ```df_tweets```"
   ]
  },
  {
   "cell_type": "markdown",
   "metadata": {},
   "source": [
    "## ``Twitter Archive``\n",
    "\n",
    "We check the `df_archive.info()` inorder to outline the quality or tidyness issues if there are any"
   ]
  },
  {
   "cell_type": "code",
   "execution_count": 84,
   "metadata": {
    "scrolled": false
   },
   "outputs": [
    {
     "name": "stdout",
     "output_type": "stream",
     "text": [
      "<class 'pandas.core.frame.DataFrame'>\n",
      "RangeIndex: 2356 entries, 0 to 2355\n",
      "Data columns (total 17 columns):\n",
      " #   Column                      Non-Null Count  Dtype  \n",
      "---  ------                      --------------  -----  \n",
      " 0   tweet_id                    2356 non-null   int64  \n",
      " 1   in_reply_to_status_id       78 non-null     float64\n",
      " 2   in_reply_to_user_id         78 non-null     float64\n",
      " 3   timestamp                   2356 non-null   object \n",
      " 4   source                      2356 non-null   object \n",
      " 5   text                        2356 non-null   object \n",
      " 6   retweeted_status_id         181 non-null    float64\n",
      " 7   retweeted_status_user_id    181 non-null    float64\n",
      " 8   retweeted_status_timestamp  181 non-null    object \n",
      " 9   expanded_urls               2297 non-null   object \n",
      " 10  rating_numerator            2356 non-null   int64  \n",
      " 11  rating_denominator          2356 non-null   int64  \n",
      " 12  name                        2356 non-null   object \n",
      " 13  doggo                       2356 non-null   object \n",
      " 14  floofer                     2356 non-null   object \n",
      " 15  pupper                      2356 non-null   object \n",
      " 16  puppo                       2356 non-null   object \n",
      "dtypes: float64(4), int64(3), object(10)\n",
      "memory usage: 313.0+ KB\n"
     ]
    }
   ],
   "source": [
    "df_archive.info()"
   ]
  },
  {
   "cell_type": "code",
   "execution_count": 89,
   "metadata": {},
   "outputs": [
    {
     "data": {
      "text/html": [
       "<div>\n",
       "<style scoped>\n",
       "    .dataframe tbody tr th:only-of-type {\n",
       "        vertical-align: middle;\n",
       "    }\n",
       "\n",
       "    .dataframe tbody tr th {\n",
       "        vertical-align: top;\n",
       "    }\n",
       "\n",
       "    .dataframe thead th {\n",
       "        text-align: right;\n",
       "    }\n",
       "</style>\n",
       "<table border=\"1\" class=\"dataframe\">\n",
       "  <thead>\n",
       "    <tr style=\"text-align: right;\">\n",
       "      <th></th>\n",
       "      <th>tweet_id</th>\n",
       "      <th>in_reply_to_status_id</th>\n",
       "      <th>in_reply_to_user_id</th>\n",
       "      <th>retweeted_status_id</th>\n",
       "      <th>retweeted_status_user_id</th>\n",
       "      <th>rating_numerator</th>\n",
       "      <th>rating_denominator</th>\n",
       "    </tr>\n",
       "  </thead>\n",
       "  <tbody>\n",
       "    <tr>\n",
       "      <th>count</th>\n",
       "      <td>2.356000e+03</td>\n",
       "      <td>7.800000e+01</td>\n",
       "      <td>7.800000e+01</td>\n",
       "      <td>1.810000e+02</td>\n",
       "      <td>1.810000e+02</td>\n",
       "      <td>2356.000000</td>\n",
       "      <td>2356.000000</td>\n",
       "    </tr>\n",
       "    <tr>\n",
       "      <th>mean</th>\n",
       "      <td>7.427716e+17</td>\n",
       "      <td>7.455079e+17</td>\n",
       "      <td>2.014171e+16</td>\n",
       "      <td>7.720400e+17</td>\n",
       "      <td>1.241698e+16</td>\n",
       "      <td>13.126486</td>\n",
       "      <td>10.455433</td>\n",
       "    </tr>\n",
       "    <tr>\n",
       "      <th>std</th>\n",
       "      <td>6.856705e+16</td>\n",
       "      <td>7.582492e+16</td>\n",
       "      <td>1.252797e+17</td>\n",
       "      <td>6.236928e+16</td>\n",
       "      <td>9.599254e+16</td>\n",
       "      <td>45.876648</td>\n",
       "      <td>6.745237</td>\n",
       "    </tr>\n",
       "    <tr>\n",
       "      <th>min</th>\n",
       "      <td>6.660209e+17</td>\n",
       "      <td>6.658147e+17</td>\n",
       "      <td>1.185634e+07</td>\n",
       "      <td>6.661041e+17</td>\n",
       "      <td>7.832140e+05</td>\n",
       "      <td>0.000000</td>\n",
       "      <td>0.000000</td>\n",
       "    </tr>\n",
       "    <tr>\n",
       "      <th>25%</th>\n",
       "      <td>6.783989e+17</td>\n",
       "      <td>6.757419e+17</td>\n",
       "      <td>3.086374e+08</td>\n",
       "      <td>7.186315e+17</td>\n",
       "      <td>4.196984e+09</td>\n",
       "      <td>10.000000</td>\n",
       "      <td>10.000000</td>\n",
       "    </tr>\n",
       "    <tr>\n",
       "      <th>50%</th>\n",
       "      <td>7.196279e+17</td>\n",
       "      <td>7.038708e+17</td>\n",
       "      <td>4.196984e+09</td>\n",
       "      <td>7.804657e+17</td>\n",
       "      <td>4.196984e+09</td>\n",
       "      <td>11.000000</td>\n",
       "      <td>10.000000</td>\n",
       "    </tr>\n",
       "    <tr>\n",
       "      <th>75%</th>\n",
       "      <td>7.993373e+17</td>\n",
       "      <td>8.257804e+17</td>\n",
       "      <td>4.196984e+09</td>\n",
       "      <td>8.203146e+17</td>\n",
       "      <td>4.196984e+09</td>\n",
       "      <td>12.000000</td>\n",
       "      <td>10.000000</td>\n",
       "    </tr>\n",
       "    <tr>\n",
       "      <th>max</th>\n",
       "      <td>8.924206e+17</td>\n",
       "      <td>8.862664e+17</td>\n",
       "      <td>8.405479e+17</td>\n",
       "      <td>8.874740e+17</td>\n",
       "      <td>7.874618e+17</td>\n",
       "      <td>1776.000000</td>\n",
       "      <td>170.000000</td>\n",
       "    </tr>\n",
       "  </tbody>\n",
       "</table>\n",
       "</div>"
      ],
      "text/plain": [
       "           tweet_id  in_reply_to_status_id  in_reply_to_user_id  \\\n",
       "count  2.356000e+03           7.800000e+01         7.800000e+01   \n",
       "mean   7.427716e+17           7.455079e+17         2.014171e+16   \n",
       "std    6.856705e+16           7.582492e+16         1.252797e+17   \n",
       "min    6.660209e+17           6.658147e+17         1.185634e+07   \n",
       "25%    6.783989e+17           6.757419e+17         3.086374e+08   \n",
       "50%    7.196279e+17           7.038708e+17         4.196984e+09   \n",
       "75%    7.993373e+17           8.257804e+17         4.196984e+09   \n",
       "max    8.924206e+17           8.862664e+17         8.405479e+17   \n",
       "\n",
       "       retweeted_status_id  retweeted_status_user_id  rating_numerator  \\\n",
       "count         1.810000e+02              1.810000e+02       2356.000000   \n",
       "mean          7.720400e+17              1.241698e+16         13.126486   \n",
       "std           6.236928e+16              9.599254e+16         45.876648   \n",
       "min           6.661041e+17              7.832140e+05          0.000000   \n",
       "25%           7.186315e+17              4.196984e+09         10.000000   \n",
       "50%           7.804657e+17              4.196984e+09         11.000000   \n",
       "75%           8.203146e+17              4.196984e+09         12.000000   \n",
       "max           8.874740e+17              7.874618e+17       1776.000000   \n",
       "\n",
       "       rating_denominator  \n",
       "count         2356.000000  \n",
       "mean            10.455433  \n",
       "std              6.745237  \n",
       "min              0.000000  \n",
       "25%             10.000000  \n",
       "50%             10.000000  \n",
       "75%             10.000000  \n",
       "max            170.000000  "
      ]
     },
     "execution_count": 89,
     "metadata": {},
     "output_type": "execute_result"
    }
   ],
   "source": [
    "df_archive.describe()"
   ]
  },
  {
   "cell_type": "markdown",
   "metadata": {},
   "source": [
    "#### Observations\n",
    "- The *retweeted_status_user_id*, *retweeted_status_id*  *in_reply_to_status_id*, *in_reply_to_user_id*, *retweeted_status_timestamp* columns does not relate to the original tweet with a lot of missing data.\n",
    "- There are 59 tweets with missing data in *expanded_urls* column\n",
    "- The `source` column would be more clearer if the html rows are removed\n",
    "- The _timestamp_ column is in `string` format instead of `datetime`\n",
    "- The _timestamp_ column has a quality issue of unneccessary value added which is the +0000\n",
    "- The dog types have 4 different columns (*doggo*, *floofer*,*pupper*, *puppo*)\n"
   ]
  },
  {
   "cell_type": "code",
   "execution_count": 63,
   "metadata": {
    "scrolled": true
   },
   "outputs": [
    {
     "data": {
      "text/html": [
       "<div>\n",
       "<style scoped>\n",
       "    .dataframe tbody tr th:only-of-type {\n",
       "        vertical-align: middle;\n",
       "    }\n",
       "\n",
       "    .dataframe tbody tr th {\n",
       "        vertical-align: top;\n",
       "    }\n",
       "\n",
       "    .dataframe thead th {\n",
       "        text-align: right;\n",
       "    }\n",
       "</style>\n",
       "<table border=\"1\" class=\"dataframe\">\n",
       "  <thead>\n",
       "    <tr style=\"text-align: right;\">\n",
       "      <th></th>\n",
       "      <th>tweet_id</th>\n",
       "      <th>in_reply_to_status_id</th>\n",
       "      <th>in_reply_to_user_id</th>\n",
       "      <th>timestamp</th>\n",
       "      <th>source</th>\n",
       "      <th>text</th>\n",
       "      <th>retweeted_status_id</th>\n",
       "      <th>retweeted_status_user_id</th>\n",
       "      <th>retweeted_status_timestamp</th>\n",
       "      <th>expanded_urls</th>\n",
       "      <th>rating_numerator</th>\n",
       "      <th>rating_denominator</th>\n",
       "      <th>name</th>\n",
       "      <th>doggo</th>\n",
       "      <th>floofer</th>\n",
       "      <th>pupper</th>\n",
       "      <th>puppo</th>\n",
       "    </tr>\n",
       "  </thead>\n",
       "  <tbody>\n",
       "    <tr>\n",
       "      <th>334</th>\n",
       "      <td>832682457690300417</td>\n",
       "      <td>NaN</td>\n",
       "      <td>NaN</td>\n",
       "      <td>2017-02-17 20:05:43 +0000</td>\n",
       "      <td>&lt;a href=\"http://twitter.com/download/iphone\" r...</td>\n",
       "      <td>Prosperous good boy 13/10 socioeconomic af htt...</td>\n",
       "      <td>NaN</td>\n",
       "      <td>NaN</td>\n",
       "      <td>NaN</td>\n",
       "      <td>https://twitter.com/telegraph/status/832268302...</td>\n",
       "      <td>13</td>\n",
       "      <td>10</td>\n",
       "      <td>None</td>\n",
       "      <td>None</td>\n",
       "      <td>None</td>\n",
       "      <td>None</td>\n",
       "      <td>None</td>\n",
       "    </tr>\n",
       "    <tr>\n",
       "      <th>86</th>\n",
       "      <td>875747767867523072</td>\n",
       "      <td>NaN</td>\n",
       "      <td>NaN</td>\n",
       "      <td>2017-06-16 16:11:53 +0000</td>\n",
       "      <td>&lt;a href=\"http://twitter.com/download/iphone\" r...</td>\n",
       "      <td>This is Goose. He's a womanizer. Cheeky as h*c...</td>\n",
       "      <td>NaN</td>\n",
       "      <td>NaN</td>\n",
       "      <td>NaN</td>\n",
       "      <td>https://twitter.com/dog_rates/status/875747767...</td>\n",
       "      <td>13</td>\n",
       "      <td>10</td>\n",
       "      <td>Goose</td>\n",
       "      <td>None</td>\n",
       "      <td>None</td>\n",
       "      <td>None</td>\n",
       "      <td>None</td>\n",
       "    </tr>\n",
       "    <tr>\n",
       "      <th>1717</th>\n",
       "      <td>680191257256136705</td>\n",
       "      <td>NaN</td>\n",
       "      <td>NaN</td>\n",
       "      <td>2015-12-25 01:00:07 +0000</td>\n",
       "      <td>&lt;a href=\"http://twitter.com/download/iphone\" r...</td>\n",
       "      <td>Here's a sleepy Christmas pupper 11/10 https:/...</td>\n",
       "      <td>NaN</td>\n",
       "      <td>NaN</td>\n",
       "      <td>NaN</td>\n",
       "      <td>https://twitter.com/dog_rates/status/680191257...</td>\n",
       "      <td>11</td>\n",
       "      <td>10</td>\n",
       "      <td>None</td>\n",
       "      <td>None</td>\n",
       "      <td>None</td>\n",
       "      <td>pupper</td>\n",
       "      <td>None</td>\n",
       "    </tr>\n",
       "    <tr>\n",
       "      <th>2038</th>\n",
       "      <td>671550332464455680</td>\n",
       "      <td>6.715449e+17</td>\n",
       "      <td>4.196984e+09</td>\n",
       "      <td>2015-12-01 04:44:10 +0000</td>\n",
       "      <td>&lt;a href=\"http://twitter.com/download/iphone\" r...</td>\n",
       "      <td>After 22 minutes of careful deliberation this ...</td>\n",
       "      <td>NaN</td>\n",
       "      <td>NaN</td>\n",
       "      <td>NaN</td>\n",
       "      <td>NaN</td>\n",
       "      <td>1</td>\n",
       "      <td>10</td>\n",
       "      <td>None</td>\n",
       "      <td>None</td>\n",
       "      <td>None</td>\n",
       "      <td>None</td>\n",
       "      <td>None</td>\n",
       "    </tr>\n",
       "    <tr>\n",
       "      <th>309</th>\n",
       "      <td>835536468978302976</td>\n",
       "      <td>NaN</td>\n",
       "      <td>NaN</td>\n",
       "      <td>2017-02-25 17:06:32 +0000</td>\n",
       "      <td>&lt;a href=\"http://twitter.com/download/iphone\" r...</td>\n",
       "      <td>RT @dog_rates: Meet Lola. Her hobbies include ...</td>\n",
       "      <td>8.352641e+17</td>\n",
       "      <td>4.196984e+09</td>\n",
       "      <td>2017-02-24 23:04:14 +0000</td>\n",
       "      <td>https://www.gofundme.com/lolas-life-saving-sur...</td>\n",
       "      <td>12</td>\n",
       "      <td>10</td>\n",
       "      <td>Lola</td>\n",
       "      <td>None</td>\n",
       "      <td>None</td>\n",
       "      <td>None</td>\n",
       "      <td>None</td>\n",
       "    </tr>\n",
       "    <tr>\n",
       "      <th>197</th>\n",
       "      <td>854482394044301312</td>\n",
       "      <td>NaN</td>\n",
       "      <td>NaN</td>\n",
       "      <td>2017-04-18 23:50:52 +0000</td>\n",
       "      <td>&lt;a href=\"http://twitter.com/download/iphone\" r...</td>\n",
       "      <td>This is Arya. She can barely contain her excit...</td>\n",
       "      <td>NaN</td>\n",
       "      <td>NaN</td>\n",
       "      <td>NaN</td>\n",
       "      <td>https://twitter.com/dog_rates/status/854482394...</td>\n",
       "      <td>13</td>\n",
       "      <td>10</td>\n",
       "      <td>Arya</td>\n",
       "      <td>None</td>\n",
       "      <td>None</td>\n",
       "      <td>None</td>\n",
       "      <td>None</td>\n",
       "    </tr>\n",
       "    <tr>\n",
       "      <th>1069</th>\n",
       "      <td>740365076218183684</td>\n",
       "      <td>NaN</td>\n",
       "      <td>NaN</td>\n",
       "      <td>2016-06-08 02:09:24 +0000</td>\n",
       "      <td>&lt;a href=\"http://twitter.com/download/iphone\" r...</td>\n",
       "      <td>When the photographer forgets to tell you wher...</td>\n",
       "      <td>NaN</td>\n",
       "      <td>NaN</td>\n",
       "      <td>NaN</td>\n",
       "      <td>https://twitter.com/dog_rates/status/740365076...</td>\n",
       "      <td>10</td>\n",
       "      <td>10</td>\n",
       "      <td>None</td>\n",
       "      <td>None</td>\n",
       "      <td>None</td>\n",
       "      <td>None</td>\n",
       "      <td>None</td>\n",
       "    </tr>\n",
       "    <tr>\n",
       "      <th>2262</th>\n",
       "      <td>667546741521195010</td>\n",
       "      <td>NaN</td>\n",
       "      <td>NaN</td>\n",
       "      <td>2015-11-20 03:35:20 +0000</td>\n",
       "      <td>&lt;a href=\"http://twitter.com\" rel=\"nofollow\"&gt;Tw...</td>\n",
       "      <td>Here is George. George took a selfie of his ne...</td>\n",
       "      <td>NaN</td>\n",
       "      <td>NaN</td>\n",
       "      <td>NaN</td>\n",
       "      <td>https://twitter.com/dog_rates/status/667546741...</td>\n",
       "      <td>9</td>\n",
       "      <td>10</td>\n",
       "      <td>George</td>\n",
       "      <td>None</td>\n",
       "      <td>None</td>\n",
       "      <td>None</td>\n",
       "      <td>None</td>\n",
       "    </tr>\n",
       "    <tr>\n",
       "      <th>488</th>\n",
       "      <td>813944609378369540</td>\n",
       "      <td>NaN</td>\n",
       "      <td>NaN</td>\n",
       "      <td>2016-12-28 03:08:11 +0000</td>\n",
       "      <td>&lt;a href=\"http://twitter.com/download/iphone\" r...</td>\n",
       "      <td>RT @dog_rates: This is Bruce. He never backs d...</td>\n",
       "      <td>7.902771e+17</td>\n",
       "      <td>4.196984e+09</td>\n",
       "      <td>2016-10-23 19:42:02 +0000</td>\n",
       "      <td>https://twitter.com/dog_rates/status/790277117...</td>\n",
       "      <td>11</td>\n",
       "      <td>10</td>\n",
       "      <td>Bruce</td>\n",
       "      <td>None</td>\n",
       "      <td>None</td>\n",
       "      <td>None</td>\n",
       "      <td>None</td>\n",
       "    </tr>\n",
       "    <tr>\n",
       "      <th>600</th>\n",
       "      <td>798673117451325440</td>\n",
       "      <td>NaN</td>\n",
       "      <td>NaN</td>\n",
       "      <td>2016-11-15 23:44:44 +0000</td>\n",
       "      <td>&lt;a href=\"http://twitter.com/download/iphone\" r...</td>\n",
       "      <td>RT @dog_rates: I shall call him squishy and he...</td>\n",
       "      <td>6.755011e+17</td>\n",
       "      <td>4.196984e+09</td>\n",
       "      <td>2015-12-12 02:23:01 +0000</td>\n",
       "      <td>https://twitter.com/dog_rates/status/675501075...</td>\n",
       "      <td>13</td>\n",
       "      <td>10</td>\n",
       "      <td>None</td>\n",
       "      <td>None</td>\n",
       "      <td>None</td>\n",
       "      <td>None</td>\n",
       "      <td>None</td>\n",
       "    </tr>\n",
       "    <tr>\n",
       "      <th>684</th>\n",
       "      <td>788178268662984705</td>\n",
       "      <td>NaN</td>\n",
       "      <td>NaN</td>\n",
       "      <td>2016-10-18 00:41:57 +0000</td>\n",
       "      <td>&lt;a href=\"http://twitter.com/download/iphone\" r...</td>\n",
       "      <td>Atlas is back and this time he's got doggles. ...</td>\n",
       "      <td>NaN</td>\n",
       "      <td>NaN</td>\n",
       "      <td>NaN</td>\n",
       "      <td>https://twitter.com/dog_rates/status/788178268...</td>\n",
       "      <td>13</td>\n",
       "      <td>10</td>\n",
       "      <td>None</td>\n",
       "      <td>None</td>\n",
       "      <td>None</td>\n",
       "      <td>None</td>\n",
       "      <td>None</td>\n",
       "    </tr>\n",
       "    <tr>\n",
       "      <th>2041</th>\n",
       "      <td>671542985629241344</td>\n",
       "      <td>NaN</td>\n",
       "      <td>NaN</td>\n",
       "      <td>2015-12-01 04:14:59 +0000</td>\n",
       "      <td>&lt;a href=\"http://twitter.com/download/iphone\" r...</td>\n",
       "      <td>This is JD (stands for \"just dog\"). He's like ...</td>\n",
       "      <td>NaN</td>\n",
       "      <td>NaN</td>\n",
       "      <td>NaN</td>\n",
       "      <td>https://twitter.com/dog_rates/status/671542985...</td>\n",
       "      <td>10</td>\n",
       "      <td>10</td>\n",
       "      <td>JD</td>\n",
       "      <td>None</td>\n",
       "      <td>None</td>\n",
       "      <td>None</td>\n",
       "      <td>None</td>\n",
       "    </tr>\n",
       "    <tr>\n",
       "      <th>1523</th>\n",
       "      <td>690607260360429569</td>\n",
       "      <td>6.903413e+17</td>\n",
       "      <td>4.670367e+08</td>\n",
       "      <td>2016-01-22 18:49:36 +0000</td>\n",
       "      <td>&lt;a href=\"http://twitter.com/download/iphone\" r...</td>\n",
       "      <td>12/10 @LightningHoltt</td>\n",
       "      <td>NaN</td>\n",
       "      <td>NaN</td>\n",
       "      <td>NaN</td>\n",
       "      <td>NaN</td>\n",
       "      <td>12</td>\n",
       "      <td>10</td>\n",
       "      <td>None</td>\n",
       "      <td>None</td>\n",
       "      <td>None</td>\n",
       "      <td>None</td>\n",
       "      <td>None</td>\n",
       "    </tr>\n",
       "    <tr>\n",
       "      <th>1071</th>\n",
       "      <td>740214038584557568</td>\n",
       "      <td>NaN</td>\n",
       "      <td>NaN</td>\n",
       "      <td>2016-06-07 16:09:13 +0000</td>\n",
       "      <td>&lt;a href=\"http://twitter.com/download/iphone\" r...</td>\n",
       "      <td>This is getting incredibly frustrating. This i...</td>\n",
       "      <td>NaN</td>\n",
       "      <td>NaN</td>\n",
       "      <td>NaN</td>\n",
       "      <td>https://twitter.com/dog_rates/status/740214038...</td>\n",
       "      <td>10</td>\n",
       "      <td>10</td>\n",
       "      <td>getting</td>\n",
       "      <td>None</td>\n",
       "      <td>None</td>\n",
       "      <td>None</td>\n",
       "      <td>None</td>\n",
       "    </tr>\n",
       "    <tr>\n",
       "      <th>2056</th>\n",
       "      <td>671357843010908160</td>\n",
       "      <td>NaN</td>\n",
       "      <td>NaN</td>\n",
       "      <td>2015-11-30 15:59:17 +0000</td>\n",
       "      <td>&lt;a href=\"http://twitter.com/download/iphone\" r...</td>\n",
       "      <td>Tfw she says hello from the other side. 9/10 h...</td>\n",
       "      <td>NaN</td>\n",
       "      <td>NaN</td>\n",
       "      <td>NaN</td>\n",
       "      <td>https://twitter.com/dog_rates/status/671357843...</td>\n",
       "      <td>9</td>\n",
       "      <td>10</td>\n",
       "      <td>None</td>\n",
       "      <td>None</td>\n",
       "      <td>None</td>\n",
       "      <td>None</td>\n",
       "      <td>None</td>\n",
       "    </tr>\n",
       "    <tr>\n",
       "      <th>2068</th>\n",
       "      <td>671138694582165504</td>\n",
       "      <td>NaN</td>\n",
       "      <td>NaN</td>\n",
       "      <td>2015-11-30 01:28:28 +0000</td>\n",
       "      <td>&lt;a href=\"http://twitter.com/download/iphone\" r...</td>\n",
       "      <td>Me running from commitment. 10/10 https://t.co...</td>\n",
       "      <td>NaN</td>\n",
       "      <td>NaN</td>\n",
       "      <td>NaN</td>\n",
       "      <td>https://twitter.com/dog_rates/status/671138694...</td>\n",
       "      <td>10</td>\n",
       "      <td>10</td>\n",
       "      <td>None</td>\n",
       "      <td>None</td>\n",
       "      <td>None</td>\n",
       "      <td>None</td>\n",
       "      <td>None</td>\n",
       "    </tr>\n",
       "    <tr>\n",
       "      <th>611</th>\n",
       "      <td>797165961484890113</td>\n",
       "      <td>7.971238e+17</td>\n",
       "      <td>2.916630e+07</td>\n",
       "      <td>2016-11-11 19:55:50 +0000</td>\n",
       "      <td>&lt;a href=\"http://twitter.com/download/iphone\" r...</td>\n",
       "      <td>@JODYHiGHROLLER it may be an 11/10 but what do...</td>\n",
       "      <td>NaN</td>\n",
       "      <td>NaN</td>\n",
       "      <td>NaN</td>\n",
       "      <td>NaN</td>\n",
       "      <td>11</td>\n",
       "      <td>10</td>\n",
       "      <td>None</td>\n",
       "      <td>None</td>\n",
       "      <td>None</td>\n",
       "      <td>None</td>\n",
       "      <td>None</td>\n",
       "    </tr>\n",
       "    <tr>\n",
       "      <th>310</th>\n",
       "      <td>835309094223372289</td>\n",
       "      <td>NaN</td>\n",
       "      <td>NaN</td>\n",
       "      <td>2017-02-25 02:03:02 +0000</td>\n",
       "      <td>&lt;a href=\"http://twitter.com/download/iphone\" r...</td>\n",
       "      <td>RT @dog_rates: So this just changed my life. 1...</td>\n",
       "      <td>7.530398e+17</td>\n",
       "      <td>4.196984e+09</td>\n",
       "      <td>2016-07-13 01:34:21 +0000</td>\n",
       "      <td>https://vine.co/v/5W2Dg3XPX7a,https://vine.co/...</td>\n",
       "      <td>13</td>\n",
       "      <td>10</td>\n",
       "      <td>None</td>\n",
       "      <td>None</td>\n",
       "      <td>None</td>\n",
       "      <td>None</td>\n",
       "      <td>None</td>\n",
       "    </tr>\n",
       "    <tr>\n",
       "      <th>875</th>\n",
       "      <td>761227390836215808</td>\n",
       "      <td>NaN</td>\n",
       "      <td>NaN</td>\n",
       "      <td>2016-08-04 15:48:47 +0000</td>\n",
       "      <td>&lt;a href=\"http://twitter.com/download/iphone\" r...</td>\n",
       "      <td>This is Albert. He just found out that bees ar...</td>\n",
       "      <td>NaN</td>\n",
       "      <td>NaN</td>\n",
       "      <td>NaN</td>\n",
       "      <td>https://twitter.com/dog_rates/status/761227390...</td>\n",
       "      <td>10</td>\n",
       "      <td>10</td>\n",
       "      <td>Albert</td>\n",
       "      <td>None</td>\n",
       "      <td>None</td>\n",
       "      <td>None</td>\n",
       "      <td>None</td>\n",
       "    </tr>\n",
       "    <tr>\n",
       "      <th>2001</th>\n",
       "      <td>672482722825261057</td>\n",
       "      <td>NaN</td>\n",
       "      <td>NaN</td>\n",
       "      <td>2015-12-03 18:29:09 +0000</td>\n",
       "      <td>&lt;a href=\"http://twitter.com/download/iphone\" r...</td>\n",
       "      <td>This is light saber pup. Ready to fight off ev...</td>\n",
       "      <td>NaN</td>\n",
       "      <td>NaN</td>\n",
       "      <td>NaN</td>\n",
       "      <td>https://twitter.com/dog_rates/status/672482722...</td>\n",
       "      <td>10</td>\n",
       "      <td>10</td>\n",
       "      <td>light</td>\n",
       "      <td>None</td>\n",
       "      <td>None</td>\n",
       "      <td>None</td>\n",
       "      <td>None</td>\n",
       "    </tr>\n",
       "    <tr>\n",
       "      <th>1050</th>\n",
       "      <td>743210557239623680</td>\n",
       "      <td>NaN</td>\n",
       "      <td>NaN</td>\n",
       "      <td>2016-06-15 22:36:19 +0000</td>\n",
       "      <td>&lt;a href=\"http://twitter.com/download/iphone\" r...</td>\n",
       "      <td>Meet Kayla, an underground poker legend. Playe...</td>\n",
       "      <td>NaN</td>\n",
       "      <td>NaN</td>\n",
       "      <td>NaN</td>\n",
       "      <td>https://twitter.com/dog_rates/status/743210557...</td>\n",
       "      <td>10</td>\n",
       "      <td>10</td>\n",
       "      <td>Kayla</td>\n",
       "      <td>None</td>\n",
       "      <td>None</td>\n",
       "      <td>None</td>\n",
       "      <td>None</td>\n",
       "    </tr>\n",
       "    <tr>\n",
       "      <th>1999</th>\n",
       "      <td>672523490734551040</td>\n",
       "      <td>NaN</td>\n",
       "      <td>NaN</td>\n",
       "      <td>2015-12-03 21:11:09 +0000</td>\n",
       "      <td>&lt;a href=\"http://twitter.com/download/iphone\" r...</td>\n",
       "      <td>When she says she'll be ready in a minute but ...</td>\n",
       "      <td>NaN</td>\n",
       "      <td>NaN</td>\n",
       "      <td>NaN</td>\n",
       "      <td>https://twitter.com/dog_rates/status/672523490...</td>\n",
       "      <td>10</td>\n",
       "      <td>10</td>\n",
       "      <td>None</td>\n",
       "      <td>None</td>\n",
       "      <td>None</td>\n",
       "      <td>None</td>\n",
       "      <td>None</td>\n",
       "    </tr>\n",
       "    <tr>\n",
       "      <th>1913</th>\n",
       "      <td>674372068062928900</td>\n",
       "      <td>NaN</td>\n",
       "      <td>NaN</td>\n",
       "      <td>2015-12-08 23:36:44 +0000</td>\n",
       "      <td>&lt;a href=\"http://twitter.com/download/iphone\" r...</td>\n",
       "      <td>Meet Chesney. On the outside he stays calm &amp;am...</td>\n",
       "      <td>NaN</td>\n",
       "      <td>NaN</td>\n",
       "      <td>NaN</td>\n",
       "      <td>https://twitter.com/dog_rates/status/674372068...</td>\n",
       "      <td>10</td>\n",
       "      <td>10</td>\n",
       "      <td>Chesney</td>\n",
       "      <td>None</td>\n",
       "      <td>None</td>\n",
       "      <td>None</td>\n",
       "      <td>None</td>\n",
       "    </tr>\n",
       "    <tr>\n",
       "      <th>599</th>\n",
       "      <td>798682547630837760</td>\n",
       "      <td>NaN</td>\n",
       "      <td>NaN</td>\n",
       "      <td>2016-11-16 00:22:12 +0000</td>\n",
       "      <td>&lt;a href=\"http://twitter.com/download/iphone\" r...</td>\n",
       "      <td>RT @dog_rates: Here we see a rare pouched pupp...</td>\n",
       "      <td>6.769365e+17</td>\n",
       "      <td>4.196984e+09</td>\n",
       "      <td>2015-12-16 01:27:03 +0000</td>\n",
       "      <td>https://twitter.com/dog_rates/status/676936541...</td>\n",
       "      <td>8</td>\n",
       "      <td>10</td>\n",
       "      <td>None</td>\n",
       "      <td>None</td>\n",
       "      <td>None</td>\n",
       "      <td>pupper</td>\n",
       "      <td>None</td>\n",
       "    </tr>\n",
       "    <tr>\n",
       "      <th>2256</th>\n",
       "      <td>667766675769573376</td>\n",
       "      <td>NaN</td>\n",
       "      <td>NaN</td>\n",
       "      <td>2015-11-20 18:09:16 +0000</td>\n",
       "      <td>&lt;a href=\"http://twitter.com\" rel=\"nofollow\"&gt;Tw...</td>\n",
       "      <td>This is Calvin. He is a Luxembourgian Mayo. Ha...</td>\n",
       "      <td>NaN</td>\n",
       "      <td>NaN</td>\n",
       "      <td>NaN</td>\n",
       "      <td>https://twitter.com/dog_rates/status/667766675...</td>\n",
       "      <td>9</td>\n",
       "      <td>10</td>\n",
       "      <td>Calvin</td>\n",
       "      <td>None</td>\n",
       "      <td>None</td>\n",
       "      <td>None</td>\n",
       "      <td>None</td>\n",
       "    </tr>\n",
       "    <tr>\n",
       "      <th>1200</th>\n",
       "      <td>716730379797970944</td>\n",
       "      <td>NaN</td>\n",
       "      <td>NaN</td>\n",
       "      <td>2016-04-03 20:53:33 +0000</td>\n",
       "      <td>&lt;a href=\"http://twitter.com/download/iphone\" r...</td>\n",
       "      <td>There has clearly been a mistake. Pup did noth...</td>\n",
       "      <td>NaN</td>\n",
       "      <td>NaN</td>\n",
       "      <td>NaN</td>\n",
       "      <td>https://twitter.com/chpsanfrancisco/status/716...</td>\n",
       "      <td>12</td>\n",
       "      <td>10</td>\n",
       "      <td>None</td>\n",
       "      <td>None</td>\n",
       "      <td>None</td>\n",
       "      <td>None</td>\n",
       "      <td>None</td>\n",
       "    </tr>\n",
       "    <tr>\n",
       "      <th>1522</th>\n",
       "      <td>690649993829576704</td>\n",
       "      <td>NaN</td>\n",
       "      <td>NaN</td>\n",
       "      <td>2016-01-22 21:39:24 +0000</td>\n",
       "      <td>&lt;a href=\"http://twitter.com/download/iphone\" r...</td>\n",
       "      <td>This is Hazel. She's a gymnast. Training hard ...</td>\n",
       "      <td>NaN</td>\n",
       "      <td>NaN</td>\n",
       "      <td>NaN</td>\n",
       "      <td>https://twitter.com/dog_rates/status/690649993...</td>\n",
       "      <td>11</td>\n",
       "      <td>10</td>\n",
       "      <td>Hazel</td>\n",
       "      <td>None</td>\n",
       "      <td>None</td>\n",
       "      <td>None</td>\n",
       "      <td>None</td>\n",
       "    </tr>\n",
       "    <tr>\n",
       "      <th>2086</th>\n",
       "      <td>670803562457407488</td>\n",
       "      <td>NaN</td>\n",
       "      <td>NaN</td>\n",
       "      <td>2015-11-29 03:16:46 +0000</td>\n",
       "      <td>&lt;a href=\"http://twitter.com/download/iphone\" r...</td>\n",
       "      <td>I would do radical things in the name of Dog G...</td>\n",
       "      <td>NaN</td>\n",
       "      <td>NaN</td>\n",
       "      <td>NaN</td>\n",
       "      <td>https://twitter.com/dog_rates/status/670803562...</td>\n",
       "      <td>10</td>\n",
       "      <td>10</td>\n",
       "      <td>None</td>\n",
       "      <td>None</td>\n",
       "      <td>None</td>\n",
       "      <td>None</td>\n",
       "      <td>None</td>\n",
       "    </tr>\n",
       "    <tr>\n",
       "      <th>504</th>\n",
       "      <td>813051746834595840</td>\n",
       "      <td>NaN</td>\n",
       "      <td>NaN</td>\n",
       "      <td>2016-12-25 16:00:16 +0000</td>\n",
       "      <td>&lt;a href=\"http://twitter.com/download/iphone\" r...</td>\n",
       "      <td>This is Bauer. He had nothing to do with the c...</td>\n",
       "      <td>NaN</td>\n",
       "      <td>NaN</td>\n",
       "      <td>NaN</td>\n",
       "      <td>https://twitter.com/dog_rates/status/813051746...</td>\n",
       "      <td>13</td>\n",
       "      <td>10</td>\n",
       "      <td>Bauer</td>\n",
       "      <td>None</td>\n",
       "      <td>None</td>\n",
       "      <td>None</td>\n",
       "      <td>None</td>\n",
       "    </tr>\n",
       "    <tr>\n",
       "      <th>1000</th>\n",
       "      <td>747963614829678593</td>\n",
       "      <td>NaN</td>\n",
       "      <td>NaN</td>\n",
       "      <td>2016-06-29 01:23:16 +0000</td>\n",
       "      <td>&lt;a href=\"http://twitter.com/download/iphone\" r...</td>\n",
       "      <td>PUPPER NOOOOO BEHIND YOUUU 10/10 pls keep this...</td>\n",
       "      <td>NaN</td>\n",
       "      <td>NaN</td>\n",
       "      <td>NaN</td>\n",
       "      <td>https://twitter.com/dog_rates/status/747963614...</td>\n",
       "      <td>10</td>\n",
       "      <td>10</td>\n",
       "      <td>None</td>\n",
       "      <td>None</td>\n",
       "      <td>None</td>\n",
       "      <td>pupper</td>\n",
       "      <td>None</td>\n",
       "    </tr>\n",
       "  </tbody>\n",
       "</table>\n",
       "</div>"
      ],
      "text/plain": [
       "                tweet_id  in_reply_to_status_id  in_reply_to_user_id  \\\n",
       "334   832682457690300417                    NaN                  NaN   \n",
       "86    875747767867523072                    NaN                  NaN   \n",
       "1717  680191257256136705                    NaN                  NaN   \n",
       "2038  671550332464455680           6.715449e+17         4.196984e+09   \n",
       "309   835536468978302976                    NaN                  NaN   \n",
       "197   854482394044301312                    NaN                  NaN   \n",
       "1069  740365076218183684                    NaN                  NaN   \n",
       "2262  667546741521195010                    NaN                  NaN   \n",
       "488   813944609378369540                    NaN                  NaN   \n",
       "600   798673117451325440                    NaN                  NaN   \n",
       "684   788178268662984705                    NaN                  NaN   \n",
       "2041  671542985629241344                    NaN                  NaN   \n",
       "1523  690607260360429569           6.903413e+17         4.670367e+08   \n",
       "1071  740214038584557568                    NaN                  NaN   \n",
       "2056  671357843010908160                    NaN                  NaN   \n",
       "2068  671138694582165504                    NaN                  NaN   \n",
       "611   797165961484890113           7.971238e+17         2.916630e+07   \n",
       "310   835309094223372289                    NaN                  NaN   \n",
       "875   761227390836215808                    NaN                  NaN   \n",
       "2001  672482722825261057                    NaN                  NaN   \n",
       "1050  743210557239623680                    NaN                  NaN   \n",
       "1999  672523490734551040                    NaN                  NaN   \n",
       "1913  674372068062928900                    NaN                  NaN   \n",
       "599   798682547630837760                    NaN                  NaN   \n",
       "2256  667766675769573376                    NaN                  NaN   \n",
       "1200  716730379797970944                    NaN                  NaN   \n",
       "1522  690649993829576704                    NaN                  NaN   \n",
       "2086  670803562457407488                    NaN                  NaN   \n",
       "504   813051746834595840                    NaN                  NaN   \n",
       "1000  747963614829678593                    NaN                  NaN   \n",
       "\n",
       "                      timestamp  \\\n",
       "334   2017-02-17 20:05:43 +0000   \n",
       "86    2017-06-16 16:11:53 +0000   \n",
       "1717  2015-12-25 01:00:07 +0000   \n",
       "2038  2015-12-01 04:44:10 +0000   \n",
       "309   2017-02-25 17:06:32 +0000   \n",
       "197   2017-04-18 23:50:52 +0000   \n",
       "1069  2016-06-08 02:09:24 +0000   \n",
       "2262  2015-11-20 03:35:20 +0000   \n",
       "488   2016-12-28 03:08:11 +0000   \n",
       "600   2016-11-15 23:44:44 +0000   \n",
       "684   2016-10-18 00:41:57 +0000   \n",
       "2041  2015-12-01 04:14:59 +0000   \n",
       "1523  2016-01-22 18:49:36 +0000   \n",
       "1071  2016-06-07 16:09:13 +0000   \n",
       "2056  2015-11-30 15:59:17 +0000   \n",
       "2068  2015-11-30 01:28:28 +0000   \n",
       "611   2016-11-11 19:55:50 +0000   \n",
       "310   2017-02-25 02:03:02 +0000   \n",
       "875   2016-08-04 15:48:47 +0000   \n",
       "2001  2015-12-03 18:29:09 +0000   \n",
       "1050  2016-06-15 22:36:19 +0000   \n",
       "1999  2015-12-03 21:11:09 +0000   \n",
       "1913  2015-12-08 23:36:44 +0000   \n",
       "599   2016-11-16 00:22:12 +0000   \n",
       "2256  2015-11-20 18:09:16 +0000   \n",
       "1200  2016-04-03 20:53:33 +0000   \n",
       "1522  2016-01-22 21:39:24 +0000   \n",
       "2086  2015-11-29 03:16:46 +0000   \n",
       "504   2016-12-25 16:00:16 +0000   \n",
       "1000  2016-06-29 01:23:16 +0000   \n",
       "\n",
       "                                                 source  \\\n",
       "334   <a href=\"http://twitter.com/download/iphone\" r...   \n",
       "86    <a href=\"http://twitter.com/download/iphone\" r...   \n",
       "1717  <a href=\"http://twitter.com/download/iphone\" r...   \n",
       "2038  <a href=\"http://twitter.com/download/iphone\" r...   \n",
       "309   <a href=\"http://twitter.com/download/iphone\" r...   \n",
       "197   <a href=\"http://twitter.com/download/iphone\" r...   \n",
       "1069  <a href=\"http://twitter.com/download/iphone\" r...   \n",
       "2262  <a href=\"http://twitter.com\" rel=\"nofollow\">Tw...   \n",
       "488   <a href=\"http://twitter.com/download/iphone\" r...   \n",
       "600   <a href=\"http://twitter.com/download/iphone\" r...   \n",
       "684   <a href=\"http://twitter.com/download/iphone\" r...   \n",
       "2041  <a href=\"http://twitter.com/download/iphone\" r...   \n",
       "1523  <a href=\"http://twitter.com/download/iphone\" r...   \n",
       "1071  <a href=\"http://twitter.com/download/iphone\" r...   \n",
       "2056  <a href=\"http://twitter.com/download/iphone\" r...   \n",
       "2068  <a href=\"http://twitter.com/download/iphone\" r...   \n",
       "611   <a href=\"http://twitter.com/download/iphone\" r...   \n",
       "310   <a href=\"http://twitter.com/download/iphone\" r...   \n",
       "875   <a href=\"http://twitter.com/download/iphone\" r...   \n",
       "2001  <a href=\"http://twitter.com/download/iphone\" r...   \n",
       "1050  <a href=\"http://twitter.com/download/iphone\" r...   \n",
       "1999  <a href=\"http://twitter.com/download/iphone\" r...   \n",
       "1913  <a href=\"http://twitter.com/download/iphone\" r...   \n",
       "599   <a href=\"http://twitter.com/download/iphone\" r...   \n",
       "2256  <a href=\"http://twitter.com\" rel=\"nofollow\">Tw...   \n",
       "1200  <a href=\"http://twitter.com/download/iphone\" r...   \n",
       "1522  <a href=\"http://twitter.com/download/iphone\" r...   \n",
       "2086  <a href=\"http://twitter.com/download/iphone\" r...   \n",
       "504   <a href=\"http://twitter.com/download/iphone\" r...   \n",
       "1000  <a href=\"http://twitter.com/download/iphone\" r...   \n",
       "\n",
       "                                                   text  retweeted_status_id  \\\n",
       "334   Prosperous good boy 13/10 socioeconomic af htt...                  NaN   \n",
       "86    This is Goose. He's a womanizer. Cheeky as h*c...                  NaN   \n",
       "1717  Here's a sleepy Christmas pupper 11/10 https:/...                  NaN   \n",
       "2038  After 22 minutes of careful deliberation this ...                  NaN   \n",
       "309   RT @dog_rates: Meet Lola. Her hobbies include ...         8.352641e+17   \n",
       "197   This is Arya. She can barely contain her excit...                  NaN   \n",
       "1069  When the photographer forgets to tell you wher...                  NaN   \n",
       "2262  Here is George. George took a selfie of his ne...                  NaN   \n",
       "488   RT @dog_rates: This is Bruce. He never backs d...         7.902771e+17   \n",
       "600   RT @dog_rates: I shall call him squishy and he...         6.755011e+17   \n",
       "684   Atlas is back and this time he's got doggles. ...                  NaN   \n",
       "2041  This is JD (stands for \"just dog\"). He's like ...                  NaN   \n",
       "1523                              12/10 @LightningHoltt                  NaN   \n",
       "1071  This is getting incredibly frustrating. This i...                  NaN   \n",
       "2056  Tfw she says hello from the other side. 9/10 h...                  NaN   \n",
       "2068  Me running from commitment. 10/10 https://t.co...                  NaN   \n",
       "611   @JODYHiGHROLLER it may be an 11/10 but what do...                  NaN   \n",
       "310   RT @dog_rates: So this just changed my life. 1...         7.530398e+17   \n",
       "875   This is Albert. He just found out that bees ar...                  NaN   \n",
       "2001  This is light saber pup. Ready to fight off ev...                  NaN   \n",
       "1050  Meet Kayla, an underground poker legend. Playe...                  NaN   \n",
       "1999  When she says she'll be ready in a minute but ...                  NaN   \n",
       "1913  Meet Chesney. On the outside he stays calm &am...                  NaN   \n",
       "599   RT @dog_rates: Here we see a rare pouched pupp...         6.769365e+17   \n",
       "2256  This is Calvin. He is a Luxembourgian Mayo. Ha...                  NaN   \n",
       "1200  There has clearly been a mistake. Pup did noth...                  NaN   \n",
       "1522  This is Hazel. She's a gymnast. Training hard ...                  NaN   \n",
       "2086  I would do radical things in the name of Dog G...                  NaN   \n",
       "504   This is Bauer. He had nothing to do with the c...                  NaN   \n",
       "1000  PUPPER NOOOOO BEHIND YOUUU 10/10 pls keep this...                  NaN   \n",
       "\n",
       "      retweeted_status_user_id retweeted_status_timestamp  \\\n",
       "334                        NaN                        NaN   \n",
       "86                         NaN                        NaN   \n",
       "1717                       NaN                        NaN   \n",
       "2038                       NaN                        NaN   \n",
       "309               4.196984e+09  2017-02-24 23:04:14 +0000   \n",
       "197                        NaN                        NaN   \n",
       "1069                       NaN                        NaN   \n",
       "2262                       NaN                        NaN   \n",
       "488               4.196984e+09  2016-10-23 19:42:02 +0000   \n",
       "600               4.196984e+09  2015-12-12 02:23:01 +0000   \n",
       "684                        NaN                        NaN   \n",
       "2041                       NaN                        NaN   \n",
       "1523                       NaN                        NaN   \n",
       "1071                       NaN                        NaN   \n",
       "2056                       NaN                        NaN   \n",
       "2068                       NaN                        NaN   \n",
       "611                        NaN                        NaN   \n",
       "310               4.196984e+09  2016-07-13 01:34:21 +0000   \n",
       "875                        NaN                        NaN   \n",
       "2001                       NaN                        NaN   \n",
       "1050                       NaN                        NaN   \n",
       "1999                       NaN                        NaN   \n",
       "1913                       NaN                        NaN   \n",
       "599               4.196984e+09  2015-12-16 01:27:03 +0000   \n",
       "2256                       NaN                        NaN   \n",
       "1200                       NaN                        NaN   \n",
       "1522                       NaN                        NaN   \n",
       "2086                       NaN                        NaN   \n",
       "504                        NaN                        NaN   \n",
       "1000                       NaN                        NaN   \n",
       "\n",
       "                                          expanded_urls  rating_numerator  \\\n",
       "334   https://twitter.com/telegraph/status/832268302...                13   \n",
       "86    https://twitter.com/dog_rates/status/875747767...                13   \n",
       "1717  https://twitter.com/dog_rates/status/680191257...                11   \n",
       "2038                                                NaN                 1   \n",
       "309   https://www.gofundme.com/lolas-life-saving-sur...                12   \n",
       "197   https://twitter.com/dog_rates/status/854482394...                13   \n",
       "1069  https://twitter.com/dog_rates/status/740365076...                10   \n",
       "2262  https://twitter.com/dog_rates/status/667546741...                 9   \n",
       "488   https://twitter.com/dog_rates/status/790277117...                11   \n",
       "600   https://twitter.com/dog_rates/status/675501075...                13   \n",
       "684   https://twitter.com/dog_rates/status/788178268...                13   \n",
       "2041  https://twitter.com/dog_rates/status/671542985...                10   \n",
       "1523                                                NaN                12   \n",
       "1071  https://twitter.com/dog_rates/status/740214038...                10   \n",
       "2056  https://twitter.com/dog_rates/status/671357843...                 9   \n",
       "2068  https://twitter.com/dog_rates/status/671138694...                10   \n",
       "611                                                 NaN                11   \n",
       "310   https://vine.co/v/5W2Dg3XPX7a,https://vine.co/...                13   \n",
       "875   https://twitter.com/dog_rates/status/761227390...                10   \n",
       "2001  https://twitter.com/dog_rates/status/672482722...                10   \n",
       "1050  https://twitter.com/dog_rates/status/743210557...                10   \n",
       "1999  https://twitter.com/dog_rates/status/672523490...                10   \n",
       "1913  https://twitter.com/dog_rates/status/674372068...                10   \n",
       "599   https://twitter.com/dog_rates/status/676936541...                 8   \n",
       "2256  https://twitter.com/dog_rates/status/667766675...                 9   \n",
       "1200  https://twitter.com/chpsanfrancisco/status/716...                12   \n",
       "1522  https://twitter.com/dog_rates/status/690649993...                11   \n",
       "2086  https://twitter.com/dog_rates/status/670803562...                10   \n",
       "504   https://twitter.com/dog_rates/status/813051746...                13   \n",
       "1000  https://twitter.com/dog_rates/status/747963614...                10   \n",
       "\n",
       "      rating_denominator     name doggo floofer  pupper puppo  \n",
       "334                   10     None  None    None    None  None  \n",
       "86                    10    Goose  None    None    None  None  \n",
       "1717                  10     None  None    None  pupper  None  \n",
       "2038                  10     None  None    None    None  None  \n",
       "309                   10     Lola  None    None    None  None  \n",
       "197                   10     Arya  None    None    None  None  \n",
       "1069                  10     None  None    None    None  None  \n",
       "2262                  10   George  None    None    None  None  \n",
       "488                   10    Bruce  None    None    None  None  \n",
       "600                   10     None  None    None    None  None  \n",
       "684                   10     None  None    None    None  None  \n",
       "2041                  10       JD  None    None    None  None  \n",
       "1523                  10     None  None    None    None  None  \n",
       "1071                  10  getting  None    None    None  None  \n",
       "2056                  10     None  None    None    None  None  \n",
       "2068                  10     None  None    None    None  None  \n",
       "611                   10     None  None    None    None  None  \n",
       "310                   10     None  None    None    None  None  \n",
       "875                   10   Albert  None    None    None  None  \n",
       "2001                  10    light  None    None    None  None  \n",
       "1050                  10    Kayla  None    None    None  None  \n",
       "1999                  10     None  None    None    None  None  \n",
       "1913                  10  Chesney  None    None    None  None  \n",
       "599                   10     None  None    None  pupper  None  \n",
       "2256                  10   Calvin  None    None    None  None  \n",
       "1200                  10     None  None    None    None  None  \n",
       "1522                  10    Hazel  None    None    None  None  \n",
       "2086                  10     None  None    None    None  None  \n",
       "504                   10    Bauer  None    None    None  None  \n",
       "1000                  10     None  None    None  pupper  None  "
      ]
     },
     "execution_count": 63,
     "metadata": {},
     "output_type": "execute_result"
    }
   ],
   "source": [
    "df_archive.sample(30)"
   ]
  },
  {
   "cell_type": "markdown",
   "metadata": {},
   "source": [
    "### Observations\n",
    "\n",
    "From the `df_archive.sample()` seen, soe quality and tidyness issues were revealed.\n",
    "\n",
    "### Quality issues\n",
    "\n",
    "- the _name_ column has strings that are not valid e.g. \"the\", \"None\", \"an\", \"a\" .\n",
    "- the _timestamp_ column dates are in string format\n",
    "\n",
    "### Tidiness issues\n",
    "\n",
    "- The dog types have 4 different columns (*doggo*, *floofer*,*pupper*, *puppo*)\n"
   ]
  },
  {
   "cell_type": "code",
   "execution_count": 126,
   "metadata": {},
   "outputs": [
    {
     "data": {
      "text/plain": [
       "181"
      ]
     },
     "execution_count": 126,
     "metadata": {},
     "output_type": "execute_result"
    }
   ],
   "source": [
    "sum(df_archive.retweeted_status_id.notnull())"
   ]
  },
  {
   "cell_type": "code",
   "execution_count": 124,
   "metadata": {
    "scrolled": true
   },
   "outputs": [
    {
     "data": {
      "text/plain": [
       "78"
      ]
     },
     "execution_count": 124,
     "metadata": {},
     "output_type": "execute_result"
    }
   ],
   "source": [
    "sum(df_archive.in_reply_to_status_id.notnull())"
   ]
  },
  {
   "cell_type": "markdown",
   "metadata": {},
   "source": [
    "#### Observation\n",
    "\n",
    "- There are 181 retweets `retweeted_status_id`\n",
    "- There are 78 reply tweets `in_reply_to_status_id`"
   ]
  },
  {
   "cell_type": "markdown",
   "metadata": {},
   "source": [
    "## `name` column"
   ]
  },
  {
   "cell_type": "code",
   "execution_count": 74,
   "metadata": {
    "scrolled": true
   },
   "outputs": [
    {
     "data": {
      "text/plain": [
       "None        745\n",
       "a            55\n",
       "Charlie      12\n",
       "Cooper       11\n",
       "Lucy         11\n",
       "Oliver       11\n",
       "Tucker       10\n",
       "Penny        10\n",
       "Lola         10\n",
       "Winston       9\n",
       "Bo            9\n",
       "Sadie         8\n",
       "the           8\n",
       "Daisy         7\n",
       "Buddy         7\n",
       "Toby          7\n",
       "an            7\n",
       "Bailey        7\n",
       "Leo           6\n",
       "Oscar         6\n",
       "Stanley       6\n",
       "Rusty         6\n",
       "Bella         6\n",
       "Dave          6\n",
       "Jack          6\n",
       "Koda          6\n",
       "Scout         6\n",
       "Jax           6\n",
       "Milo          6\n",
       "Louis         5\n",
       "Phil          5\n",
       "Sammy         5\n",
       "Gus           5\n",
       "Chester       5\n",
       "Alfie         5\n",
       "Sunny         5\n",
       "Bentley       5\n",
       "very          5\n",
       "Oakley        5\n",
       "Finn          5\n",
       "George        5\n",
       "Larry         5\n",
       "Clarence      4\n",
       "Loki          4\n",
       "Walter        4\n",
       "Reggie        4\n",
       "Hank          4\n",
       "Scooter       4\n",
       "Duke          4\n",
       "quite         4\n",
       "Name: name, dtype: int64"
      ]
     },
     "execution_count": 74,
     "metadata": {},
     "output_type": "execute_result"
    }
   ],
   "source": [
    "#checking the name column\n",
    "df_archive.name.value_counts().head(50)"
   ]
  },
  {
   "cell_type": "markdown",
   "metadata": {},
   "source": [
    "#### Observation\n",
    "\n",
    "- The dog names are all capitalize, so we could make a valid assumption that the words that do not have the first word capitalized is not a dog name. \n",
    "\n",
    "- [None] are also part of the dog names which do not seem to be actual names of dogs"
   ]
  },
  {
   "cell_type": "code",
   "execution_count": 75,
   "metadata": {
    "scrolled": true
   },
   "outputs": [
    {
     "data": {
      "text/plain": [
       "a               55\n",
       "actually         2\n",
       "all              1\n",
       "an               7\n",
       "by               1\n",
       "getting          2\n",
       "his              1\n",
       "incredibly       1\n",
       "infuriating      1\n",
       "just             4\n",
       "life             1\n",
       "light            1\n",
       "mad              2\n",
       "my               1\n",
       "not              2\n",
       "officially       1\n",
       "old              1\n",
       "one              4\n",
       "quite            4\n",
       "space            1\n",
       "such             1\n",
       "the              8\n",
       "this             1\n",
       "unacceptable     1\n",
       "very             5\n",
       "Name: name, dtype: int64"
      ]
     },
     "execution_count": 75,
     "metadata": {},
     "output_type": "execute_result"
    }
   ],
   "source": [
    "# names that the firts letters are NOT capitalized\n",
    "lowercase_dogs = df_archive.name.str.contains('^[a-z]', regex = True)\n",
    "df_archive[lowercase_dogs].name.value_counts().sort_index()"
   ]
  },
  {
   "cell_type": "code",
   "execution_count": 77,
   "metadata": {},
   "outputs": [
    {
     "data": {
      "text/plain": [
       "109"
      ]
     },
     "execution_count": 77,
     "metadata": {},
     "output_type": "execute_result"
    }
   ],
   "source": [
    "len(df_archive[lowercase_dogs])"
   ]
  },
  {
   "cell_type": "markdown",
   "metadata": {},
   "source": [
    "#### Observation\n",
    "\n",
    "- The total number of names of dogs that do not begin with a Capitalized letter is 109. Which means 109 tweets do not have a valid dog name.\n",
    "\n",
    "- And there are dog names with 745 \"None\". "
   ]
  },
  {
   "cell_type": "markdown",
   "metadata": {},
   "source": [
    "## `expanded_urls` column\n",
    "\n",
    "The tweets that have missing data, checking to see if they are from replies or retweets?"
   ]
  },
  {
   "cell_type": "code",
   "execution_count": 78,
   "metadata": {},
   "outputs": [
    {
     "data": {
      "text/plain": [
       "59"
      ]
     },
     "execution_count": 78,
     "metadata": {},
     "output_type": "execute_result"
    }
   ],
   "source": [
    "# tweets with missing urls\n",
    "sum(df_archive.expanded_urls.isna())"
   ]
  },
  {
   "cell_type": "code",
   "execution_count": 79,
   "metadata": {},
   "outputs": [
    {
     "data": {
      "text/plain": [
       "56"
      ]
     },
     "execution_count": 79,
     "metadata": {},
     "output_type": "execute_result"
    }
   ],
   "source": [
    "# tweets with missing urls are replies or retweets?\n",
    "sum(df_archive.expanded_urls.isna() & \\\n",
    "    (df_archive.in_reply_to_status_id.notnull() | \\\n",
    "     df_archive.retweeted_status_id.notnull()))"
   ]
  },
  {
   "cell_type": "markdown",
   "metadata": {},
   "source": [
    "#### Observation\n",
    "\n",
    "- 59 tweets that are missing in the expanded_urls, 56 are replies or retweets."
   ]
  },
  {
   "cell_type": "code",
   "execution_count": 83,
   "metadata": {},
   "outputs": [
    {
     "data": {
      "text/html": [
       "<div>\n",
       "<style scoped>\n",
       "    .dataframe tbody tr th:only-of-type {\n",
       "        vertical-align: middle;\n",
       "    }\n",
       "\n",
       "    .dataframe tbody tr th {\n",
       "        vertical-align: top;\n",
       "    }\n",
       "\n",
       "    .dataframe thead th {\n",
       "        text-align: right;\n",
       "    }\n",
       "</style>\n",
       "<table border=\"1\" class=\"dataframe\">\n",
       "  <thead>\n",
       "    <tr style=\"text-align: right;\">\n",
       "      <th></th>\n",
       "      <th>tweet_id</th>\n",
       "      <th>text</th>\n",
       "      <th>expanded_urls</th>\n",
       "      <th>rating_numerator</th>\n",
       "      <th>rating_denominator</th>\n",
       "    </tr>\n",
       "  </thead>\n",
       "  <tbody>\n",
       "    <tr>\n",
       "      <th>375</th>\n",
       "      <td>828361771580813312</td>\n",
       "      <td>Beebop and Doobert should start a band 12/10 w...</td>\n",
       "      <td>NaN</td>\n",
       "      <td>12</td>\n",
       "      <td>10</td>\n",
       "    </tr>\n",
       "    <tr>\n",
       "      <th>707</th>\n",
       "      <td>785515384317313025</td>\n",
       "      <td>Today, 10/10, should be National Dog Rates Day</td>\n",
       "      <td>NaN</td>\n",
       "      <td>10</td>\n",
       "      <td>10</td>\n",
       "    </tr>\n",
       "    <tr>\n",
       "      <th>1445</th>\n",
       "      <td>696518437233913856</td>\n",
       "      <td>Oh my god 10/10 for every little hot dog pupper</td>\n",
       "      <td>NaN</td>\n",
       "      <td>10</td>\n",
       "      <td>10</td>\n",
       "    </tr>\n",
       "  </tbody>\n",
       "</table>\n",
       "</div>"
      ],
      "text/plain": [
       "                tweet_id                                               text  \\\n",
       "375   828361771580813312  Beebop and Doobert should start a band 12/10 w...   \n",
       "707   785515384317313025     Today, 10/10, should be National Dog Rates Day   \n",
       "1445  696518437233913856    Oh my god 10/10 for every little hot dog pupper   \n",
       "\n",
       "     expanded_urls  rating_numerator  rating_denominator  \n",
       "375            NaN                12                  10  \n",
       "707            NaN                10                  10  \n",
       "1445           NaN                10                  10  "
      ]
     },
     "execution_count": 83,
     "metadata": {},
     "output_type": "execute_result"
    }
   ],
   "source": [
    "# the remaining tweets that are missing url but not included in the reply or retweet\n",
    "remain = df_archive.expanded_urls.isna() & \\\n",
    "       df_archive.in_reply_to_status_id.isna() & \\\n",
    "       df_archive.retweeted_status_id.isna()\n",
    "df_archive[remain][['tweet_id', 'text', 'expanded_urls', 'rating_numerator', 'rating_denominator']]\n",
    "\n"
   ]
  },
  {
   "cell_type": "markdown",
   "metadata": {},
   "source": [
    "#### Observation\n",
    "\n",
    "The 3 remaining missing tweets are at the indexes dispalyed. They all have ratings. We need to confirm if these tweets are in the _df_images_ and the _df_tweets_ data tables."
   ]
  },
  {
   "cell_type": "code",
   "execution_count": 85,
   "metadata": {},
   "outputs": [
    {
     "data": {
      "text/plain": [
       "0"
      ]
     },
     "execution_count": 85,
     "metadata": {},
     "output_type": "execute_result"
    }
   ],
   "source": [
    "## checking if the tweets are in the df_images table\n",
    "\n",
    "tweets = [828361771580813312, 785515384317313025, 696518437233913856]\n",
    "check_tweets = df_images.tweet_id.isin(tweets)\n",
    "sum(check_tweets)"
   ]
  },
  {
   "cell_type": "code",
   "execution_count": 88,
   "metadata": {},
   "outputs": [
    {
     "data": {
      "text/html": [
       "<div>\n",
       "<style scoped>\n",
       "    .dataframe tbody tr th:only-of-type {\n",
       "        vertical-align: middle;\n",
       "    }\n",
       "\n",
       "    .dataframe tbody tr th {\n",
       "        vertical-align: top;\n",
       "    }\n",
       "\n",
       "    .dataframe thead th {\n",
       "        text-align: right;\n",
       "    }\n",
       "</style>\n",
       "<table border=\"1\" class=\"dataframe\">\n",
       "  <thead>\n",
       "    <tr style=\"text-align: right;\">\n",
       "      <th></th>\n",
       "      <th>id</th>\n",
       "      <th>retweet_count</th>\n",
       "      <th>favorite_count</th>\n",
       "    </tr>\n",
       "  </thead>\n",
       "  <tbody>\n",
       "    <tr>\n",
       "      <th>374</th>\n",
       "      <td>828361771580813312</td>\n",
       "      <td>195</td>\n",
       "      <td>2408</td>\n",
       "    </tr>\n",
       "    <tr>\n",
       "      <th>706</th>\n",
       "      <td>785515384317313025</td>\n",
       "      <td>1477</td>\n",
       "      <td>6800</td>\n",
       "    </tr>\n",
       "    <tr>\n",
       "      <th>1443</th>\n",
       "      <td>696518437233913856</td>\n",
       "      <td>1887</td>\n",
       "      <td>4274</td>\n",
       "    </tr>\n",
       "  </tbody>\n",
       "</table>\n",
       "</div>"
      ],
      "text/plain": [
       "                      id  retweet_count  favorite_count\n",
       "374   828361771580813312            195            2408\n",
       "706   785515384317313025           1477            6800\n",
       "1443  696518437233913856           1887            4274"
      ]
     },
     "execution_count": 88,
     "metadata": {},
     "output_type": "execute_result"
    }
   ],
   "source": [
    "## checking if the tweets are in the df_images table\n",
    "\n",
    "tweets = [828361771580813312, 785515384317313025, 696518437233913856]\n",
    "check_tweets = df_tweets.id.isin(tweets)\n",
    "df_tweets[check_tweets]"
   ]
  },
  {
   "cell_type": "markdown",
   "metadata": {},
   "source": [
    "#### Observation\n",
    "\n",
    "- We confirmed that the 3 tweets are not present in the `df_images` table but are present in the `df_tweets` table."
   ]
  },
  {
   "cell_type": "markdown",
   "metadata": {},
   "source": [
    "## `rating_denominator` columns"
   ]
  },
  {
   "cell_type": "code",
   "execution_count": 145,
   "metadata": {},
   "outputs": [
    {
     "data": {
      "text/html": [
       "<div>\n",
       "<style scoped>\n",
       "    .dataframe tbody tr th:only-of-type {\n",
       "        vertical-align: middle;\n",
       "    }\n",
       "\n",
       "    .dataframe tbody tr th {\n",
       "        vertical-align: top;\n",
       "    }\n",
       "\n",
       "    .dataframe thead th {\n",
       "        text-align: right;\n",
       "    }\n",
       "</style>\n",
       "<table border=\"1\" class=\"dataframe\">\n",
       "  <thead>\n",
       "    <tr style=\"text-align: right;\">\n",
       "      <th></th>\n",
       "      <th>rating_numerator</th>\n",
       "      <th>rating_denominator</th>\n",
       "    </tr>\n",
       "  </thead>\n",
       "  <tbody>\n",
       "    <tr>\n",
       "      <th>count</th>\n",
       "      <td>2356.000000</td>\n",
       "      <td>2356.000000</td>\n",
       "    </tr>\n",
       "    <tr>\n",
       "      <th>mean</th>\n",
       "      <td>13.126486</td>\n",
       "      <td>10.455433</td>\n",
       "    </tr>\n",
       "    <tr>\n",
       "      <th>std</th>\n",
       "      <td>45.876648</td>\n",
       "      <td>6.745237</td>\n",
       "    </tr>\n",
       "    <tr>\n",
       "      <th>min</th>\n",
       "      <td>0.000000</td>\n",
       "      <td>0.000000</td>\n",
       "    </tr>\n",
       "    <tr>\n",
       "      <th>25%</th>\n",
       "      <td>10.000000</td>\n",
       "      <td>10.000000</td>\n",
       "    </tr>\n",
       "    <tr>\n",
       "      <th>50%</th>\n",
       "      <td>11.000000</td>\n",
       "      <td>10.000000</td>\n",
       "    </tr>\n",
       "    <tr>\n",
       "      <th>75%</th>\n",
       "      <td>12.000000</td>\n",
       "      <td>10.000000</td>\n",
       "    </tr>\n",
       "    <tr>\n",
       "      <th>max</th>\n",
       "      <td>1776.000000</td>\n",
       "      <td>170.000000</td>\n",
       "    </tr>\n",
       "  </tbody>\n",
       "</table>\n",
       "</div>"
      ],
      "text/plain": [
       "       rating_numerator  rating_denominator\n",
       "count       2356.000000         2356.000000\n",
       "mean          13.126486           10.455433\n",
       "std           45.876648            6.745237\n",
       "min            0.000000            0.000000\n",
       "25%           10.000000           10.000000\n",
       "50%           11.000000           10.000000\n",
       "75%           12.000000           10.000000\n",
       "max         1776.000000          170.000000"
      ]
     },
     "execution_count": 145,
     "metadata": {},
     "output_type": "execute_result"
    }
   ],
   "source": [
    "# Checking the stats of these columns\n",
    "df_archive[['rating_numerator', 'rating_denominator']].describe()"
   ]
  },
  {
   "cell_type": "markdown",
   "metadata": {},
   "source": [
    "#### Observation\n",
    "The decribe() stats revealed some quality issues in the `rating_numerator` and `rating_denominator` columns \n",
    "\n",
    "- The minimum values are 0 for both\n",
    "- The maximum values are 1776 and 170 respectively"
   ]
  },
  {
   "cell_type": "code",
   "execution_count": 146,
   "metadata": {
    "scrolled": true
   },
   "outputs": [
    {
     "data": {
      "text/plain": [
       "170       1\n",
       "150       1\n",
       "130       1\n",
       "120       1\n",
       "110       1\n",
       "90        1\n",
       "80        2\n",
       "70        1\n",
       "50        3\n",
       "40        1\n",
       "20        2\n",
       "16        1\n",
       "15        1\n",
       "11        3\n",
       "10     2333\n",
       "7         1\n",
       "2         1\n",
       "0         1\n",
       "Name: rating_denominator, dtype: int64"
      ]
     },
     "execution_count": 146,
     "metadata": {},
     "output_type": "execute_result"
    }
   ],
   "source": [
    "df_archive.rating_denominator.value_counts().sort_index(ascending = False)"
   ]
  },
  {
   "cell_type": "code",
   "execution_count": 147,
   "metadata": {},
   "outputs": [
    {
     "data": {
      "text/plain": [
       "23"
      ]
     },
     "execution_count": 147,
     "metadata": {},
     "output_type": "execute_result"
    }
   ],
   "source": [
    "sum(df_archive.rating_denominator != 10)"
   ]
  },
  {
   "cell_type": "markdown",
   "metadata": {},
   "source": [
    "#### Observation\n",
    "- As seen, there are quite a number of rationgs that way larger than the fixed value 10. It is assumed that some of which would be part of the _retweet_ and _replies_ columns."
   ]
  },
  {
   "cell_type": "markdown",
   "metadata": {},
   "source": [
    "## `source` column \n",
    "\n"
   ]
  },
  {
   "cell_type": "code",
   "execution_count": 99,
   "metadata": {},
   "outputs": [
    {
     "data": {
      "text/plain": [
       "<a href=\"http://twitter.com/download/iphone\" rel=\"nofollow\">Twitter for iPhone</a>     2221\n",
       "<a href=\"http://vine.co\" rel=\"nofollow\">Vine - Make a Scene</a>                          91\n",
       "<a href=\"http://twitter.com\" rel=\"nofollow\">Twitter Web Client</a>                       33\n",
       "<a href=\"https://about.twitter.com/products/tweetdeck\" rel=\"nofollow\">TweetDeck</a>      11\n",
       "Name: source, dtype: int64"
      ]
     },
     "execution_count": 99,
     "metadata": {},
     "output_type": "execute_result"
    }
   ],
   "source": [
    "df_archive.source.value_counts()"
   ]
  },
  {
   "cell_type": "markdown",
   "metadata": {},
   "source": [
    "#### Observation\n",
    "There are only 4 types of sources, and they would be clearer to see if the html codes are removed.\n",
    "\n",
    "- Twitter for iPhone\n",
    "- Vine - Make a Scene\n",
    "- Twitter Web Client\n",
    "- TweetDeck"
   ]
  },
  {
   "cell_type": "markdown",
   "metadata": {},
   "source": [
    "## `doggo`, `floofer`, `pupper` , and `puppo` columns\n",
    "\n",
    "These dog stages are to be in one column. Lets check `value_counts()` for each stage "
   ]
  },
  {
   "cell_type": "code",
   "execution_count": 100,
   "metadata": {},
   "outputs": [
    {
     "data": {
      "text/plain": [
       "None     2259\n",
       "doggo      97\n",
       "Name: doggo, dtype: int64"
      ]
     },
     "execution_count": 100,
     "metadata": {},
     "output_type": "execute_result"
    }
   ],
   "source": [
    "df_archive.doggo.value_counts()"
   ]
  },
  {
   "cell_type": "code",
   "execution_count": 101,
   "metadata": {},
   "outputs": [
    {
     "data": {
      "text/plain": [
       "None       2346\n",
       "floofer      10\n",
       "Name: floofer, dtype: int64"
      ]
     },
     "execution_count": 101,
     "metadata": {},
     "output_type": "execute_result"
    }
   ],
   "source": [
    "df_archive.floofer.value_counts()"
   ]
  },
  {
   "cell_type": "code",
   "execution_count": 102,
   "metadata": {},
   "outputs": [
    {
     "data": {
      "text/plain": [
       "None      2099\n",
       "pupper     257\n",
       "Name: pupper, dtype: int64"
      ]
     },
     "execution_count": 102,
     "metadata": {},
     "output_type": "execute_result"
    }
   ],
   "source": [
    "df_archive.pupper.value_counts()"
   ]
  },
  {
   "cell_type": "code",
   "execution_count": 103,
   "metadata": {},
   "outputs": [
    {
     "data": {
      "text/plain": [
       "None     2326\n",
       "puppo      30\n",
       "Name: puppo, dtype: int64"
      ]
     },
     "execution_count": 103,
     "metadata": {},
     "output_type": "execute_result"
    }
   ],
   "source": [
    "df_archive.puppo.value_counts()"
   ]
  },
  {
   "cell_type": "markdown",
   "metadata": {},
   "source": [
    "#### Observation\n",
    "From this we have an idea of how many tweets have the dog stages specified in them. And we can conclude that there are more tweetd with no specifications as `None` than the ones with specifications."
   ]
  },
  {
   "cell_type": "markdown",
   "metadata": {},
   "source": [
    "## Image Predictions\n",
    "\n",
    "We check the `df_images.info()` inorder to outline the quality issues if there are any"
   ]
  },
  {
   "cell_type": "code",
   "execution_count": 104,
   "metadata": {},
   "outputs": [
    {
     "name": "stdout",
     "output_type": "stream",
     "text": [
      "<class 'pandas.core.frame.DataFrame'>\n",
      "RangeIndex: 2075 entries, 0 to 2074\n",
      "Data columns (total 12 columns):\n",
      " #   Column    Non-Null Count  Dtype  \n",
      "---  ------    --------------  -----  \n",
      " 0   tweet_id  2075 non-null   int64  \n",
      " 1   jpg_url   2075 non-null   object \n",
      " 2   img_num   2075 non-null   int64  \n",
      " 3   p1        2075 non-null   object \n",
      " 4   p1_conf   2075 non-null   float64\n",
      " 5   p1_dog    2075 non-null   bool   \n",
      " 6   p2        2075 non-null   object \n",
      " 7   p2_conf   2075 non-null   float64\n",
      " 8   p2_dog    2075 non-null   bool   \n",
      " 9   p3        2075 non-null   object \n",
      " 10  p3_conf   2075 non-null   float64\n",
      " 11  p3_dog    2075 non-null   bool   \n",
      "dtypes: bool(3), float64(3), int64(2), object(4)\n",
      "memory usage: 152.1+ KB\n"
     ]
    }
   ],
   "source": [
    "df_images.info()"
   ]
  },
  {
   "cell_type": "code",
   "execution_count": 168,
   "metadata": {},
   "outputs": [
    {
     "data": {
      "text/plain": [
       "66"
      ]
     },
     "execution_count": 168,
     "metadata": {},
     "output_type": "execute_result"
    }
   ],
   "source": [
    "#check for duplicate jpg_url\n",
    "len(df_images[df_images.jpg_url.duplicated()])\n"
   ]
  },
  {
   "cell_type": "code",
   "execution_count": 106,
   "metadata": {
    "scrolled": true
   },
   "outputs": [
    {
     "data": {
      "text/html": [
       "<div>\n",
       "<style scoped>\n",
       "    .dataframe tbody tr th:only-of-type {\n",
       "        vertical-align: middle;\n",
       "    }\n",
       "\n",
       "    .dataframe tbody tr th {\n",
       "        vertical-align: top;\n",
       "    }\n",
       "\n",
       "    .dataframe thead th {\n",
       "        text-align: right;\n",
       "    }\n",
       "</style>\n",
       "<table border=\"1\" class=\"dataframe\">\n",
       "  <thead>\n",
       "    <tr style=\"text-align: right;\">\n",
       "      <th></th>\n",
       "      <th>tweet_id</th>\n",
       "      <th>jpg_url</th>\n",
       "      <th>img_num</th>\n",
       "      <th>p1</th>\n",
       "      <th>p1_conf</th>\n",
       "      <th>p1_dog</th>\n",
       "      <th>p2</th>\n",
       "      <th>p2_conf</th>\n",
       "      <th>p2_dog</th>\n",
       "      <th>p3</th>\n",
       "      <th>p3_conf</th>\n",
       "      <th>p3_dog</th>\n",
       "    </tr>\n",
       "  </thead>\n",
       "  <tbody>\n",
       "    <tr>\n",
       "      <th>2035</th>\n",
       "      <td>884162670584377345</td>\n",
       "      <td>https://pbs.twimg.com/media/DEUtQbzW0AUTv_o.jpg</td>\n",
       "      <td>1</td>\n",
       "      <td>German_shepherd</td>\n",
       "      <td>0.707046</td>\n",
       "      <td>True</td>\n",
       "      <td>malinois</td>\n",
       "      <td>0.199396</td>\n",
       "      <td>True</td>\n",
       "      <td>Norwegian_elkhound</td>\n",
       "      <td>4.914760e-02</td>\n",
       "      <td>True</td>\n",
       "    </tr>\n",
       "    <tr>\n",
       "      <th>1551</th>\n",
       "      <td>793135492858580992</td>\n",
       "      <td>https://pbs.twimg.com/media/CwHIg61WIAApnEV.jpg</td>\n",
       "      <td>1</td>\n",
       "      <td>bakery</td>\n",
       "      <td>0.737041</td>\n",
       "      <td>False</td>\n",
       "      <td>saltshaker</td>\n",
       "      <td>0.052396</td>\n",
       "      <td>False</td>\n",
       "      <td>teddy</td>\n",
       "      <td>4.659260e-02</td>\n",
       "      <td>False</td>\n",
       "    </tr>\n",
       "    <tr>\n",
       "      <th>781</th>\n",
       "      <td>689999384604450816</td>\n",
       "      <td>https://pbs.twimg.com/media/CZNexghWAAAYnT-.jpg</td>\n",
       "      <td>1</td>\n",
       "      <td>standard_poodle</td>\n",
       "      <td>0.444499</td>\n",
       "      <td>True</td>\n",
       "      <td>English_springer</td>\n",
       "      <td>0.129830</td>\n",
       "      <td>True</td>\n",
       "      <td>pug</td>\n",
       "      <td>7.380570e-02</td>\n",
       "      <td>True</td>\n",
       "    </tr>\n",
       "    <tr>\n",
       "      <th>1760</th>\n",
       "      <td>825876512159186944</td>\n",
       "      <td>https://pbs.twimg.com/media/C3YaSnQWAAILgz0.jpg</td>\n",
       "      <td>1</td>\n",
       "      <td>shopping_cart</td>\n",
       "      <td>0.995941</td>\n",
       "      <td>False</td>\n",
       "      <td>shopping_basket</td>\n",
       "      <td>0.004057</td>\n",
       "      <td>False</td>\n",
       "      <td>mousetrap</td>\n",
       "      <td>8.832830e-07</td>\n",
       "      <td>False</td>\n",
       "    </tr>\n",
       "    <tr>\n",
       "      <th>38</th>\n",
       "      <td>666644823164719104</td>\n",
       "      <td>https://pbs.twimg.com/media/CUBl6IwVAAA9_zT.jpg</td>\n",
       "      <td>1</td>\n",
       "      <td>Ibizan_hound</td>\n",
       "      <td>0.044333</td>\n",
       "      <td>True</td>\n",
       "      <td>Pembroke</td>\n",
       "      <td>0.043209</td>\n",
       "      <td>True</td>\n",
       "      <td>West_Highland_white_terrier</td>\n",
       "      <td>3.890560e-02</td>\n",
       "      <td>True</td>\n",
       "    </tr>\n",
       "    <tr>\n",
       "      <th>604</th>\n",
       "      <td>679854723806179328</td>\n",
       "      <td>https://pbs.twimg.com/media/CW9UQ7oWkAAErmU.jpg</td>\n",
       "      <td>1</td>\n",
       "      <td>llama</td>\n",
       "      <td>0.887963</td>\n",
       "      <td>False</td>\n",
       "      <td>ram</td>\n",
       "      <td>0.095021</td>\n",
       "      <td>False</td>\n",
       "      <td>chow</td>\n",
       "      <td>2.307390e-03</td>\n",
       "      <td>True</td>\n",
       "    </tr>\n",
       "    <tr>\n",
       "      <th>995</th>\n",
       "      <td>708149363256774660</td>\n",
       "      <td>https://pbs.twimg.com/media/CdPaEkHW8AA-Wom.jpg</td>\n",
       "      <td>1</td>\n",
       "      <td>Cardigan</td>\n",
       "      <td>0.350993</td>\n",
       "      <td>True</td>\n",
       "      <td>basset</td>\n",
       "      <td>0.164555</td>\n",
       "      <td>True</td>\n",
       "      <td>toy_terrier</td>\n",
       "      <td>8.048360e-02</td>\n",
       "      <td>True</td>\n",
       "    </tr>\n",
       "    <tr>\n",
       "      <th>232</th>\n",
       "      <td>670417414769758208</td>\n",
       "      <td>https://pbs.twimg.com/media/CU3NE8EWUAEVdPD.jpg</td>\n",
       "      <td>1</td>\n",
       "      <td>sea_urchin</td>\n",
       "      <td>0.493257</td>\n",
       "      <td>False</td>\n",
       "      <td>porcupine</td>\n",
       "      <td>0.460565</td>\n",
       "      <td>False</td>\n",
       "      <td>cardoon</td>\n",
       "      <td>8.145870e-03</td>\n",
       "      <td>False</td>\n",
       "    </tr>\n",
       "    <tr>\n",
       "      <th>1848</th>\n",
       "      <td>839549326359670784</td>\n",
       "      <td>https://pbs.twimg.com/media/C6atpTLWYAIL7bU.jpg</td>\n",
       "      <td>1</td>\n",
       "      <td>swing</td>\n",
       "      <td>0.393527</td>\n",
       "      <td>False</td>\n",
       "      <td>Norwich_terrier</td>\n",
       "      <td>0.052480</td>\n",
       "      <td>True</td>\n",
       "      <td>Pembroke</td>\n",
       "      <td>4.990060e-02</td>\n",
       "      <td>True</td>\n",
       "    </tr>\n",
       "    <tr>\n",
       "      <th>278</th>\n",
       "      <td>670995969505435648</td>\n",
       "      <td>https://pbs.twimg.com/media/CU_bRIEWcAAUVC7.jpg</td>\n",
       "      <td>1</td>\n",
       "      <td>redbone</td>\n",
       "      <td>0.866221</td>\n",
       "      <td>True</td>\n",
       "      <td>beagle</td>\n",
       "      <td>0.061194</td>\n",
       "      <td>True</td>\n",
       "      <td>Rhodesian_ridgeback</td>\n",
       "      <td>2.428450e-02</td>\n",
       "      <td>True</td>\n",
       "    </tr>\n",
       "    <tr>\n",
       "      <th>1857</th>\n",
       "      <td>841680585030541313</td>\n",
       "      <td>https://pbs.twimg.com/media/C65AA7_WoAEGqA9.jpg</td>\n",
       "      <td>1</td>\n",
       "      <td>Chihuahua</td>\n",
       "      <td>0.547401</td>\n",
       "      <td>True</td>\n",
       "      <td>bow_tie</td>\n",
       "      <td>0.198361</td>\n",
       "      <td>False</td>\n",
       "      <td>Pembroke</td>\n",
       "      <td>5.849250e-02</td>\n",
       "      <td>True</td>\n",
       "    </tr>\n",
       "    <tr>\n",
       "      <th>840</th>\n",
       "      <td>694669722378485760</td>\n",
       "      <td>https://pbs.twimg.com/media/CaP2bS8WYAAsMdx.jpg</td>\n",
       "      <td>2</td>\n",
       "      <td>beaver</td>\n",
       "      <td>0.457094</td>\n",
       "      <td>False</td>\n",
       "      <td>mongoose</td>\n",
       "      <td>0.228298</td>\n",
       "      <td>False</td>\n",
       "      <td>marmot</td>\n",
       "      <td>1.483090e-01</td>\n",
       "      <td>False</td>\n",
       "    </tr>\n",
       "    <tr>\n",
       "      <th>787</th>\n",
       "      <td>690374419777196032</td>\n",
       "      <td>https://pbs.twimg.com/media/CZSz3vWXEAACElU.jpg</td>\n",
       "      <td>1</td>\n",
       "      <td>kuvasz</td>\n",
       "      <td>0.286345</td>\n",
       "      <td>True</td>\n",
       "      <td>Labrador_retriever</td>\n",
       "      <td>0.107144</td>\n",
       "      <td>True</td>\n",
       "      <td>ice_bear</td>\n",
       "      <td>8.508580e-02</td>\n",
       "      <td>False</td>\n",
       "    </tr>\n",
       "    <tr>\n",
       "      <th>1580</th>\n",
       "      <td>796387464403357696</td>\n",
       "      <td>https://pbs.twimg.com/media/Cw1WKu1UQAAvWsu.jpg</td>\n",
       "      <td>1</td>\n",
       "      <td>Pekinese</td>\n",
       "      <td>0.461164</td>\n",
       "      <td>True</td>\n",
       "      <td>Pomeranian</td>\n",
       "      <td>0.288650</td>\n",
       "      <td>True</td>\n",
       "      <td>Siamese_cat</td>\n",
       "      <td>5.242300e-02</td>\n",
       "      <td>False</td>\n",
       "    </tr>\n",
       "    <tr>\n",
       "      <th>409</th>\n",
       "      <td>673715861853720576</td>\n",
       "      <td>https://pbs.twimg.com/media/CVmE_fAWIAAlDhU.jpg</td>\n",
       "      <td>1</td>\n",
       "      <td>suit</td>\n",
       "      <td>0.404115</td>\n",
       "      <td>False</td>\n",
       "      <td>bow_tie</td>\n",
       "      <td>0.294683</td>\n",
       "      <td>False</td>\n",
       "      <td>Windsor_tie</td>\n",
       "      <td>1.327010e-01</td>\n",
       "      <td>False</td>\n",
       "    </tr>\n",
       "    <tr>\n",
       "      <th>1416</th>\n",
       "      <td>771136648247640064</td>\n",
       "      <td>https://pbs.twimg.com/media/CrOgsIBWYAA8Dtb.jpg</td>\n",
       "      <td>1</td>\n",
       "      <td>bathtub</td>\n",
       "      <td>0.368660</td>\n",
       "      <td>False</td>\n",
       "      <td>golden_retriever</td>\n",
       "      <td>0.297402</td>\n",
       "      <td>True</td>\n",
       "      <td>tub</td>\n",
       "      <td>2.017110e-01</td>\n",
       "      <td>False</td>\n",
       "    </tr>\n",
       "    <tr>\n",
       "      <th>1397</th>\n",
       "      <td>768193404517830656</td>\n",
       "      <td>https://pbs.twimg.com/media/Cqkr0wiW8AAn2Oi.jpg</td>\n",
       "      <td>1</td>\n",
       "      <td>lion</td>\n",
       "      <td>0.396984</td>\n",
       "      <td>False</td>\n",
       "      <td>ram</td>\n",
       "      <td>0.300851</td>\n",
       "      <td>False</td>\n",
       "      <td>cheetah</td>\n",
       "      <td>9.447400e-02</td>\n",
       "      <td>False</td>\n",
       "    </tr>\n",
       "    <tr>\n",
       "      <th>1283</th>\n",
       "      <td>750429297815552001</td>\n",
       "      <td>https://pbs.twimg.com/media/CmoPdmHW8AAi8BI.jpg</td>\n",
       "      <td>1</td>\n",
       "      <td>golden_retriever</td>\n",
       "      <td>0.964929</td>\n",
       "      <td>True</td>\n",
       "      <td>Labrador_retriever</td>\n",
       "      <td>0.011584</td>\n",
       "      <td>True</td>\n",
       "      <td>refrigerator</td>\n",
       "      <td>7.498620e-03</td>\n",
       "      <td>False</td>\n",
       "    </tr>\n",
       "    <tr>\n",
       "      <th>510</th>\n",
       "      <td>676146341966438401</td>\n",
       "      <td>https://pbs.twimg.com/media/CWIngp5WEAAJOy3.jpg</td>\n",
       "      <td>1</td>\n",
       "      <td>Irish_water_spaniel</td>\n",
       "      <td>0.388332</td>\n",
       "      <td>True</td>\n",
       "      <td>standard_poodle</td>\n",
       "      <td>0.284121</td>\n",
       "      <td>True</td>\n",
       "      <td>greenhouse</td>\n",
       "      <td>3.486810e-02</td>\n",
       "      <td>False</td>\n",
       "    </tr>\n",
       "    <tr>\n",
       "      <th>118</th>\n",
       "      <td>668154635664932864</td>\n",
       "      <td>https://pbs.twimg.com/media/CUXDGR2WcAAUQKz.jpg</td>\n",
       "      <td>1</td>\n",
       "      <td>Arctic_fox</td>\n",
       "      <td>0.473584</td>\n",
       "      <td>False</td>\n",
       "      <td>wallaby</td>\n",
       "      <td>0.261411</td>\n",
       "      <td>False</td>\n",
       "      <td>white_wolf</td>\n",
       "      <td>8.094780e-02</td>\n",
       "      <td>False</td>\n",
       "    </tr>\n",
       "  </tbody>\n",
       "</table>\n",
       "</div>"
      ],
      "text/plain": [
       "                tweet_id                                          jpg_url  \\\n",
       "2035  884162670584377345  https://pbs.twimg.com/media/DEUtQbzW0AUTv_o.jpg   \n",
       "1551  793135492858580992  https://pbs.twimg.com/media/CwHIg61WIAApnEV.jpg   \n",
       "781   689999384604450816  https://pbs.twimg.com/media/CZNexghWAAAYnT-.jpg   \n",
       "1760  825876512159186944  https://pbs.twimg.com/media/C3YaSnQWAAILgz0.jpg   \n",
       "38    666644823164719104  https://pbs.twimg.com/media/CUBl6IwVAAA9_zT.jpg   \n",
       "604   679854723806179328  https://pbs.twimg.com/media/CW9UQ7oWkAAErmU.jpg   \n",
       "995   708149363256774660  https://pbs.twimg.com/media/CdPaEkHW8AA-Wom.jpg   \n",
       "232   670417414769758208  https://pbs.twimg.com/media/CU3NE8EWUAEVdPD.jpg   \n",
       "1848  839549326359670784  https://pbs.twimg.com/media/C6atpTLWYAIL7bU.jpg   \n",
       "278   670995969505435648  https://pbs.twimg.com/media/CU_bRIEWcAAUVC7.jpg   \n",
       "1857  841680585030541313  https://pbs.twimg.com/media/C65AA7_WoAEGqA9.jpg   \n",
       "840   694669722378485760  https://pbs.twimg.com/media/CaP2bS8WYAAsMdx.jpg   \n",
       "787   690374419777196032  https://pbs.twimg.com/media/CZSz3vWXEAACElU.jpg   \n",
       "1580  796387464403357696  https://pbs.twimg.com/media/Cw1WKu1UQAAvWsu.jpg   \n",
       "409   673715861853720576  https://pbs.twimg.com/media/CVmE_fAWIAAlDhU.jpg   \n",
       "1416  771136648247640064  https://pbs.twimg.com/media/CrOgsIBWYAA8Dtb.jpg   \n",
       "1397  768193404517830656  https://pbs.twimg.com/media/Cqkr0wiW8AAn2Oi.jpg   \n",
       "1283  750429297815552001  https://pbs.twimg.com/media/CmoPdmHW8AAi8BI.jpg   \n",
       "510   676146341966438401  https://pbs.twimg.com/media/CWIngp5WEAAJOy3.jpg   \n",
       "118   668154635664932864  https://pbs.twimg.com/media/CUXDGR2WcAAUQKz.jpg   \n",
       "\n",
       "      img_num                   p1   p1_conf  p1_dog                  p2  \\\n",
       "2035        1      German_shepherd  0.707046    True            malinois   \n",
       "1551        1               bakery  0.737041   False          saltshaker   \n",
       "781         1      standard_poodle  0.444499    True    English_springer   \n",
       "1760        1        shopping_cart  0.995941   False     shopping_basket   \n",
       "38          1         Ibizan_hound  0.044333    True            Pembroke   \n",
       "604         1                llama  0.887963   False                 ram   \n",
       "995         1             Cardigan  0.350993    True              basset   \n",
       "232         1           sea_urchin  0.493257   False           porcupine   \n",
       "1848        1                swing  0.393527   False     Norwich_terrier   \n",
       "278         1              redbone  0.866221    True              beagle   \n",
       "1857        1            Chihuahua  0.547401    True             bow_tie   \n",
       "840         2               beaver  0.457094   False            mongoose   \n",
       "787         1               kuvasz  0.286345    True  Labrador_retriever   \n",
       "1580        1             Pekinese  0.461164    True          Pomeranian   \n",
       "409         1                 suit  0.404115   False             bow_tie   \n",
       "1416        1              bathtub  0.368660   False    golden_retriever   \n",
       "1397        1                 lion  0.396984   False                 ram   \n",
       "1283        1     golden_retriever  0.964929    True  Labrador_retriever   \n",
       "510         1  Irish_water_spaniel  0.388332    True     standard_poodle   \n",
       "118         1           Arctic_fox  0.473584   False             wallaby   \n",
       "\n",
       "       p2_conf  p2_dog                           p3       p3_conf  p3_dog  \n",
       "2035  0.199396    True           Norwegian_elkhound  4.914760e-02    True  \n",
       "1551  0.052396   False                        teddy  4.659260e-02   False  \n",
       "781   0.129830    True                          pug  7.380570e-02    True  \n",
       "1760  0.004057   False                    mousetrap  8.832830e-07   False  \n",
       "38    0.043209    True  West_Highland_white_terrier  3.890560e-02    True  \n",
       "604   0.095021   False                         chow  2.307390e-03    True  \n",
       "995   0.164555    True                  toy_terrier  8.048360e-02    True  \n",
       "232   0.460565   False                      cardoon  8.145870e-03   False  \n",
       "1848  0.052480    True                     Pembroke  4.990060e-02    True  \n",
       "278   0.061194    True          Rhodesian_ridgeback  2.428450e-02    True  \n",
       "1857  0.198361   False                     Pembroke  5.849250e-02    True  \n",
       "840   0.228298   False                       marmot  1.483090e-01   False  \n",
       "787   0.107144    True                     ice_bear  8.508580e-02   False  \n",
       "1580  0.288650    True                  Siamese_cat  5.242300e-02   False  \n",
       "409   0.294683   False                  Windsor_tie  1.327010e-01   False  \n",
       "1416  0.297402    True                          tub  2.017110e-01   False  \n",
       "1397  0.300851   False                      cheetah  9.447400e-02   False  \n",
       "1283  0.011584    True                 refrigerator  7.498620e-03   False  \n",
       "510   0.284121    True                   greenhouse  3.486810e-02   False  \n",
       "118   0.261411   False                   white_wolf  8.094780e-02   False  "
      ]
     },
     "execution_count": 106,
     "metadata": {},
     "output_type": "execute_result"
    }
   ],
   "source": [
    "df_images.sample(20)"
   ]
  },
  {
   "cell_type": "markdown",
   "metadata": {},
   "source": [
    "#### Observation\n",
    "- From visually examining this table, we can see that not all the entries predict dog. Let's programatically examine the predictions. "
   ]
  },
  {
   "cell_type": "code",
   "execution_count": 107,
   "metadata": {},
   "outputs": [
    {
     "data": {
      "text/plain": [
       "True     1532\n",
       "False     543\n",
       "Name: p1_dog, dtype: int64"
      ]
     },
     "execution_count": 107,
     "metadata": {},
     "output_type": "execute_result"
    }
   ],
   "source": [
    "df_images.p1_dog.value_counts()"
   ]
  },
  {
   "cell_type": "code",
   "execution_count": 108,
   "metadata": {},
   "outputs": [
    {
     "data": {
      "text/plain": [
       "True     1553\n",
       "False     522\n",
       "Name: p2_dog, dtype: int64"
      ]
     },
     "execution_count": 108,
     "metadata": {},
     "output_type": "execute_result"
    }
   ],
   "source": [
    "df_images.p2_dog.value_counts()"
   ]
  },
  {
   "cell_type": "code",
   "execution_count": 109,
   "metadata": {},
   "outputs": [
    {
     "data": {
      "text/plain": [
       "True     1499\n",
       "False     576\n",
       "Name: p3_dog, dtype: int64"
      ]
     },
     "execution_count": 109,
     "metadata": {},
     "output_type": "execute_result"
    }
   ],
   "source": [
    "df_images.p3_dog.value_counts()"
   ]
  },
  {
   "cell_type": "code",
   "execution_count": 134,
   "metadata": {
    "scrolled": true
   },
   "outputs": [
    {
     "data": {
      "text/html": [
       "<div>\n",
       "<style scoped>\n",
       "    .dataframe tbody tr th:only-of-type {\n",
       "        vertical-align: middle;\n",
       "    }\n",
       "\n",
       "    .dataframe tbody tr th {\n",
       "        vertical-align: top;\n",
       "    }\n",
       "\n",
       "    .dataframe thead th {\n",
       "        text-align: right;\n",
       "    }\n",
       "</style>\n",
       "<table border=\"1\" class=\"dataframe\">\n",
       "  <thead>\n",
       "    <tr style=\"text-align: right;\">\n",
       "      <th></th>\n",
       "      <th>tweet_id</th>\n",
       "      <th>p1</th>\n",
       "      <th>p1_dog</th>\n",
       "      <th>p2</th>\n",
       "      <th>p2_dog</th>\n",
       "      <th>p3</th>\n",
       "      <th>p3_dog</th>\n",
       "    </tr>\n",
       "  </thead>\n",
       "  <tbody>\n",
       "    <tr>\n",
       "      <th>6</th>\n",
       "      <td>666051853826850816</td>\n",
       "      <td>box_turtle</td>\n",
       "      <td>False</td>\n",
       "      <td>mud_turtle</td>\n",
       "      <td>False</td>\n",
       "      <td>terrapin</td>\n",
       "      <td>False</td>\n",
       "    </tr>\n",
       "    <tr>\n",
       "      <th>17</th>\n",
       "      <td>666104133288665088</td>\n",
       "      <td>hen</td>\n",
       "      <td>False</td>\n",
       "      <td>cock</td>\n",
       "      <td>False</td>\n",
       "      <td>partridge</td>\n",
       "      <td>False</td>\n",
       "    </tr>\n",
       "    <tr>\n",
       "      <th>18</th>\n",
       "      <td>666268910803644416</td>\n",
       "      <td>desktop_computer</td>\n",
       "      <td>False</td>\n",
       "      <td>desk</td>\n",
       "      <td>False</td>\n",
       "      <td>bookcase</td>\n",
       "      <td>False</td>\n",
       "    </tr>\n",
       "    <tr>\n",
       "      <th>21</th>\n",
       "      <td>666293911632134144</td>\n",
       "      <td>three-toed_sloth</td>\n",
       "      <td>False</td>\n",
       "      <td>otter</td>\n",
       "      <td>False</td>\n",
       "      <td>great_grey_owl</td>\n",
       "      <td>False</td>\n",
       "    </tr>\n",
       "    <tr>\n",
       "      <th>25</th>\n",
       "      <td>666362758909284353</td>\n",
       "      <td>guinea_pig</td>\n",
       "      <td>False</td>\n",
       "      <td>skunk</td>\n",
       "      <td>False</td>\n",
       "      <td>hamster</td>\n",
       "      <td>False</td>\n",
       "    </tr>\n",
       "    <tr>\n",
       "      <th>29</th>\n",
       "      <td>666411507551481857</td>\n",
       "      <td>coho</td>\n",
       "      <td>False</td>\n",
       "      <td>barracouta</td>\n",
       "      <td>False</td>\n",
       "      <td>gar</td>\n",
       "      <td>False</td>\n",
       "    </tr>\n",
       "    <tr>\n",
       "      <th>45</th>\n",
       "      <td>666786068205871104</td>\n",
       "      <td>snail</td>\n",
       "      <td>False</td>\n",
       "      <td>slug</td>\n",
       "      <td>False</td>\n",
       "      <td>acorn</td>\n",
       "      <td>False</td>\n",
       "    </tr>\n",
       "    <tr>\n",
       "      <th>50</th>\n",
       "      <td>666837028449972224</td>\n",
       "      <td>triceratops</td>\n",
       "      <td>False</td>\n",
       "      <td>armadillo</td>\n",
       "      <td>False</td>\n",
       "      <td>common_iguana</td>\n",
       "      <td>False</td>\n",
       "    </tr>\n",
       "    <tr>\n",
       "      <th>51</th>\n",
       "      <td>666983947667116034</td>\n",
       "      <td>swab</td>\n",
       "      <td>False</td>\n",
       "      <td>chain_saw</td>\n",
       "      <td>False</td>\n",
       "      <td>wig</td>\n",
       "      <td>False</td>\n",
       "    </tr>\n",
       "    <tr>\n",
       "      <th>53</th>\n",
       "      <td>667012601033924608</td>\n",
       "      <td>hyena</td>\n",
       "      <td>False</td>\n",
       "      <td>African_hunting_dog</td>\n",
       "      <td>False</td>\n",
       "      <td>coyote</td>\n",
       "      <td>False</td>\n",
       "    </tr>\n",
       "    <tr>\n",
       "      <th>56</th>\n",
       "      <td>667065535570550784</td>\n",
       "      <td>jigsaw_puzzle</td>\n",
       "      <td>False</td>\n",
       "      <td>doormat</td>\n",
       "      <td>False</td>\n",
       "      <td>space_heater</td>\n",
       "      <td>False</td>\n",
       "    </tr>\n",
       "    <tr>\n",
       "      <th>69</th>\n",
       "      <td>667188689915760640</td>\n",
       "      <td>vacuum</td>\n",
       "      <td>False</td>\n",
       "      <td>swab</td>\n",
       "      <td>False</td>\n",
       "      <td>toilet_tissue</td>\n",
       "      <td>False</td>\n",
       "    </tr>\n",
       "    <tr>\n",
       "      <th>73</th>\n",
       "      <td>667369227918143488</td>\n",
       "      <td>teddy</td>\n",
       "      <td>False</td>\n",
       "      <td>bath_towel</td>\n",
       "      <td>False</td>\n",
       "      <td>Christmas_stocking</td>\n",
       "      <td>False</td>\n",
       "    </tr>\n",
       "    <tr>\n",
       "      <th>77</th>\n",
       "      <td>667437278097252352</td>\n",
       "      <td>porcupine</td>\n",
       "      <td>False</td>\n",
       "      <td>bath_towel</td>\n",
       "      <td>False</td>\n",
       "      <td>badger</td>\n",
       "      <td>False</td>\n",
       "    </tr>\n",
       "    <tr>\n",
       "      <th>78</th>\n",
       "      <td>667443425659232256</td>\n",
       "      <td>goose</td>\n",
       "      <td>False</td>\n",
       "      <td>drake</td>\n",
       "      <td>False</td>\n",
       "      <td>hen</td>\n",
       "      <td>False</td>\n",
       "    </tr>\n",
       "    <tr>\n",
       "      <th>93</th>\n",
       "      <td>667549055577362432</td>\n",
       "      <td>electric_fan</td>\n",
       "      <td>False</td>\n",
       "      <td>spotlight</td>\n",
       "      <td>False</td>\n",
       "      <td>lampshade</td>\n",
       "      <td>False</td>\n",
       "    </tr>\n",
       "    <tr>\n",
       "      <th>94</th>\n",
       "      <td>667550882905632768</td>\n",
       "      <td>web_site</td>\n",
       "      <td>False</td>\n",
       "      <td>dishwasher</td>\n",
       "      <td>False</td>\n",
       "      <td>oscilloscope</td>\n",
       "      <td>False</td>\n",
       "    </tr>\n",
       "    <tr>\n",
       "      <th>96</th>\n",
       "      <td>667724302356258817</td>\n",
       "      <td>ibex</td>\n",
       "      <td>False</td>\n",
       "      <td>bighorn</td>\n",
       "      <td>False</td>\n",
       "      <td>ram</td>\n",
       "      <td>False</td>\n",
       "    </tr>\n",
       "    <tr>\n",
       "      <th>98</th>\n",
       "      <td>667766675769573376</td>\n",
       "      <td>fire_engine</td>\n",
       "      <td>False</td>\n",
       "      <td>tow_truck</td>\n",
       "      <td>False</td>\n",
       "      <td>jeep</td>\n",
       "      <td>False</td>\n",
       "    </tr>\n",
       "    <tr>\n",
       "      <th>100</th>\n",
       "      <td>667782464991965184</td>\n",
       "      <td>lorikeet</td>\n",
       "      <td>False</td>\n",
       "      <td>hummingbird</td>\n",
       "      <td>False</td>\n",
       "      <td>African_grey</td>\n",
       "      <td>False</td>\n",
       "    </tr>\n",
       "    <tr>\n",
       "      <th>106</th>\n",
       "      <td>667866724293877760</td>\n",
       "      <td>jigsaw_puzzle</td>\n",
       "      <td>False</td>\n",
       "      <td>prayer_rug</td>\n",
       "      <td>False</td>\n",
       "      <td>doormat</td>\n",
       "      <td>False</td>\n",
       "    </tr>\n",
       "    <tr>\n",
       "      <th>107</th>\n",
       "      <td>667873844930215936</td>\n",
       "      <td>common_iguana</td>\n",
       "      <td>False</td>\n",
       "      <td>frilled_lizard</td>\n",
       "      <td>False</td>\n",
       "      <td>African_chameleon</td>\n",
       "      <td>False</td>\n",
       "    </tr>\n",
       "    <tr>\n",
       "      <th>112</th>\n",
       "      <td>667911425562669056</td>\n",
       "      <td>frilled_lizard</td>\n",
       "      <td>False</td>\n",
       "      <td>ox</td>\n",
       "      <td>False</td>\n",
       "      <td>triceratops</td>\n",
       "      <td>False</td>\n",
       "    </tr>\n",
       "    <tr>\n",
       "      <th>115</th>\n",
       "      <td>667937095915278337</td>\n",
       "      <td>hamster</td>\n",
       "      <td>False</td>\n",
       "      <td>guinea_pig</td>\n",
       "      <td>False</td>\n",
       "      <td>Band_Aid</td>\n",
       "      <td>False</td>\n",
       "    </tr>\n",
       "    <tr>\n",
       "      <th>117</th>\n",
       "      <td>668142349051129856</td>\n",
       "      <td>Angora</td>\n",
       "      <td>False</td>\n",
       "      <td>hen</td>\n",
       "      <td>False</td>\n",
       "      <td>wood_rabbit</td>\n",
       "      <td>False</td>\n",
       "    </tr>\n",
       "  </tbody>\n",
       "</table>\n",
       "</div>"
      ],
      "text/plain": [
       "               tweet_id                p1  p1_dog                   p2  \\\n",
       "6    666051853826850816        box_turtle   False           mud_turtle   \n",
       "17   666104133288665088               hen   False                 cock   \n",
       "18   666268910803644416  desktop_computer   False                 desk   \n",
       "21   666293911632134144  three-toed_sloth   False                otter   \n",
       "25   666362758909284353        guinea_pig   False                skunk   \n",
       "29   666411507551481857              coho   False           barracouta   \n",
       "45   666786068205871104             snail   False                 slug   \n",
       "50   666837028449972224       triceratops   False            armadillo   \n",
       "51   666983947667116034              swab   False            chain_saw   \n",
       "53   667012601033924608             hyena   False  African_hunting_dog   \n",
       "56   667065535570550784     jigsaw_puzzle   False              doormat   \n",
       "69   667188689915760640            vacuum   False                 swab   \n",
       "73   667369227918143488             teddy   False           bath_towel   \n",
       "77   667437278097252352         porcupine   False           bath_towel   \n",
       "78   667443425659232256             goose   False                drake   \n",
       "93   667549055577362432      electric_fan   False            spotlight   \n",
       "94   667550882905632768          web_site   False           dishwasher   \n",
       "96   667724302356258817              ibex   False              bighorn   \n",
       "98   667766675769573376       fire_engine   False            tow_truck   \n",
       "100  667782464991965184          lorikeet   False          hummingbird   \n",
       "106  667866724293877760     jigsaw_puzzle   False           prayer_rug   \n",
       "107  667873844930215936     common_iguana   False       frilled_lizard   \n",
       "112  667911425562669056    frilled_lizard   False                   ox   \n",
       "115  667937095915278337           hamster   False           guinea_pig   \n",
       "117  668142349051129856            Angora   False                  hen   \n",
       "\n",
       "     p2_dog                  p3  p3_dog  \n",
       "6     False            terrapin   False  \n",
       "17    False           partridge   False  \n",
       "18    False            bookcase   False  \n",
       "21    False      great_grey_owl   False  \n",
       "25    False             hamster   False  \n",
       "29    False                 gar   False  \n",
       "45    False               acorn   False  \n",
       "50    False       common_iguana   False  \n",
       "51    False                 wig   False  \n",
       "53    False              coyote   False  \n",
       "56    False        space_heater   False  \n",
       "69    False       toilet_tissue   False  \n",
       "73    False  Christmas_stocking   False  \n",
       "77    False              badger   False  \n",
       "78    False                 hen   False  \n",
       "93    False           lampshade   False  \n",
       "94    False        oscilloscope   False  \n",
       "96    False                 ram   False  \n",
       "98    False                jeep   False  \n",
       "100   False        African_grey   False  \n",
       "106   False             doormat   False  \n",
       "107   False   African_chameleon   False  \n",
       "112   False         triceratops   False  \n",
       "115   False            Band_Aid   False  \n",
       "117   False         wood_rabbit   False  "
      ]
     },
     "execution_count": 134,
     "metadata": {},
     "output_type": "execute_result"
    }
   ],
   "source": [
    "# Let's view 25 of the entries that don't predict dogs\n",
    "df_images[~df_images.p1_dog & \\\n",
    "               ~df_images.p2_dog & \\\n",
    "               ~df_images.p3_dog][['tweet_id', 'p1', 'p1_dog',\n",
    "                    'p2', 'p2_dog', 'p3', 'p3_dog']].head(25)"
   ]
  },
  {
   "cell_type": "code",
   "execution_count": 131,
   "metadata": {},
   "outputs": [
    {
     "data": {
      "text/plain": [
       "324"
      ]
     },
     "execution_count": 131,
     "metadata": {},
     "output_type": "execute_result"
    }
   ],
   "source": [
    "sum(~df_images.p1_dog & \\\n",
    "    ~df_images.p2_dog & \\\n",
    "    ~df_images.p3_dog)"
   ]
  },
  {
   "cell_type": "markdown",
   "metadata": {},
   "source": [
    "#### Observation\n",
    "\n",
    "- Having gone through the `value_counts()` in each prediction we conclude that there are more than 500 entries that are not dog predictions. Combined, there are 324 instances that there is no dog prediction."
   ]
  },
  {
   "cell_type": "markdown",
   "metadata": {},
   "source": [
    "## Twitter Json\n",
    "We check the `df_tweets.info()` inorder to outline the quality issues if there are any"
   ]
  },
  {
   "cell_type": "code",
   "execution_count": 118,
   "metadata": {},
   "outputs": [
    {
     "name": "stdout",
     "output_type": "stream",
     "text": [
      "<class 'pandas.core.frame.DataFrame'>\n",
      "RangeIndex: 2354 entries, 0 to 2353\n",
      "Data columns (total 3 columns):\n",
      " #   Column          Non-Null Count  Dtype\n",
      "---  ------          --------------  -----\n",
      " 0   id              2354 non-null   int64\n",
      " 1   retweet_count   2354 non-null   int64\n",
      " 2   favorite_count  2354 non-null   int64\n",
      "dtypes: int64(3)\n",
      "memory usage: 55.3 KB\n"
     ]
    }
   ],
   "source": [
    "df_tweets.info()"
   ]
  },
  {
   "cell_type": "code",
   "execution_count": 120,
   "metadata": {},
   "outputs": [
    {
     "data": {
      "text/html": [
       "<div>\n",
       "<style scoped>\n",
       "    .dataframe tbody tr th:only-of-type {\n",
       "        vertical-align: middle;\n",
       "    }\n",
       "\n",
       "    .dataframe tbody tr th {\n",
       "        vertical-align: top;\n",
       "    }\n",
       "\n",
       "    .dataframe thead th {\n",
       "        text-align: right;\n",
       "    }\n",
       "</style>\n",
       "<table border=\"1\" class=\"dataframe\">\n",
       "  <thead>\n",
       "    <tr style=\"text-align: right;\">\n",
       "      <th></th>\n",
       "      <th>id</th>\n",
       "      <th>retweet_count</th>\n",
       "      <th>favorite_count</th>\n",
       "    </tr>\n",
       "  </thead>\n",
       "  <tbody>\n",
       "    <tr>\n",
       "      <th>0</th>\n",
       "      <td>892420643555336193</td>\n",
       "      <td>8853</td>\n",
       "      <td>39467</td>\n",
       "    </tr>\n",
       "    <tr>\n",
       "      <th>1</th>\n",
       "      <td>892177421306343426</td>\n",
       "      <td>6514</td>\n",
       "      <td>33819</td>\n",
       "    </tr>\n",
       "    <tr>\n",
       "      <th>2</th>\n",
       "      <td>891815181378084864</td>\n",
       "      <td>4328</td>\n",
       "      <td>25461</td>\n",
       "    </tr>\n",
       "    <tr>\n",
       "      <th>3</th>\n",
       "      <td>891689557279858688</td>\n",
       "      <td>8964</td>\n",
       "      <td>42908</td>\n",
       "    </tr>\n",
       "    <tr>\n",
       "      <th>4</th>\n",
       "      <td>891327558926688256</td>\n",
       "      <td>9774</td>\n",
       "      <td>41048</td>\n",
       "    </tr>\n",
       "    <tr>\n",
       "      <th>5</th>\n",
       "      <td>891087950875897856</td>\n",
       "      <td>3261</td>\n",
       "      <td>20562</td>\n",
       "    </tr>\n",
       "    <tr>\n",
       "      <th>6</th>\n",
       "      <td>890971913173991426</td>\n",
       "      <td>2158</td>\n",
       "      <td>12041</td>\n",
       "    </tr>\n",
       "    <tr>\n",
       "      <th>7</th>\n",
       "      <td>890729181411237888</td>\n",
       "      <td>16716</td>\n",
       "      <td>56848</td>\n",
       "    </tr>\n",
       "    <tr>\n",
       "      <th>8</th>\n",
       "      <td>890609185150312448</td>\n",
       "      <td>4429</td>\n",
       "      <td>28226</td>\n",
       "    </tr>\n",
       "    <tr>\n",
       "      <th>9</th>\n",
       "      <td>890240255349198849</td>\n",
       "      <td>7711</td>\n",
       "      <td>32467</td>\n",
       "    </tr>\n",
       "  </tbody>\n",
       "</table>\n",
       "</div>"
      ],
      "text/plain": [
       "                   id  retweet_count  favorite_count\n",
       "0  892420643555336193           8853           39467\n",
       "1  892177421306343426           6514           33819\n",
       "2  891815181378084864           4328           25461\n",
       "3  891689557279858688           8964           42908\n",
       "4  891327558926688256           9774           41048\n",
       "5  891087950875897856           3261           20562\n",
       "6  890971913173991426           2158           12041\n",
       "7  890729181411237888          16716           56848\n",
       "8  890609185150312448           4429           28226\n",
       "9  890240255349198849           7711           32467"
      ]
     },
     "execution_count": 120,
     "metadata": {},
     "output_type": "execute_result"
    }
   ],
   "source": [
    "df_tweets.head(10)"
   ]
  },
  {
   "cell_type": "markdown",
   "metadata": {},
   "source": [
    "#### Observation\n",
    "- The column name `id` is `tweet_id` in other tables. Renaming would be neccessary to ensure consistency"
   ]
  },
  {
   "cell_type": "markdown",
   "metadata": {},
   "source": [
    "<a id='summary'></a>\n",
    "## Summary of Assessment"
   ]
  },
  {
   "cell_type": "markdown",
   "metadata": {},
   "source": [
    "## Quality"
   ]
  },
  {
   "cell_type": "markdown",
   "metadata": {},
   "source": [
    "### `df_archive`"
   ]
  },
  {
   "cell_type": "markdown",
   "metadata": {},
   "source": [
    "1. The `timestamp` entries have \"+0000\" values added, which is not neccessary."
   ]
  },
  {
   "cell_type": "markdown",
   "metadata": {},
   "source": [
    "2. The timestamp column is in string format instead of datetime format"
   ]
  },
  {
   "cell_type": "markdown",
   "metadata": {},
   "source": [
    "3. There are 181 retweets which was determined by checking the `retweeted_status_id` column"
   ]
  },
  {
   "cell_type": "markdown",
   "metadata": {},
   "source": [
    "4. There are 78 tweet replies which was determined by checking the `in_reply_to_status_id` column"
   ]
  },
  {
   "cell_type": "markdown",
   "metadata": {},
   "source": [
    "5. There are tweet ratings with `rating_denominator` columnwith values NOT equal to 10"
   ]
  },
  {
   "cell_type": "markdown",
   "metadata": {},
   "source": [
    "6. The total number of names of dogs that do not begin with a Capitalized letter is 109. And it was concluded that the names starting with lowecase is not a valid name. Which means 109 tweets do not have a valid dog name.\n"
   ]
  },
  {
   "cell_type": "markdown",
   "metadata": {},
   "source": [
    "7. There are 59 missing tweets in `the expanded_urls` column\n",
    "- 56 of themissing tweets are retweets or replies\n",
    "- 3 tweets are not present in the `df_images` table but are present in the `df_tweets` table."
   ]
  },
  {
   "cell_type": "markdown",
   "metadata": {},
   "source": [
    "8. There are only 4 types of sources, and they would be clearer to see if the html codes are removed.\n",
    "\n",
    "- Twitter for iPhone\n",
    "- Vine - Make a Scene\n",
    "- Twitter Web Client\n",
    "- TweetDeck"
   ]
  },
  {
   "cell_type": "markdown",
   "metadata": {},
   "source": [
    "### `df_images`"
   ]
  },
  {
   "cell_type": "markdown",
   "metadata": {},
   "source": [
    "9. Remove entries that have `p1_dog`, `p2_dog`, & `p3_dog` values set to false. These entries are not dogs\n",
    "\n",
    "\n",
    "\n",
    "10. In the `jpg_url` column there are several duplicates\n",
    "\n",
    "\n",
    "\n",
    "11. The total amount of entries are less than the total amount of tweets available in the archive.\n",
    " - `df_images`= 2075 and `df_archive` = 2356, which is 281 entries less."
   ]
  },
  {
   "cell_type": "markdown",
   "metadata": {},
   "source": [
    "### All Tables"
   ]
  },
  {
   "cell_type": "markdown",
   "metadata": {},
   "source": [
    "12. Convert data type of tweet_id to object `string` data type for merging"
   ]
  },
  {
   "cell_type": "markdown",
   "metadata": {},
   "source": [
    "## Tidiness"
   ]
  },
  {
   "cell_type": "markdown",
   "metadata": {},
   "source": [
    "### `df_archive`"
   ]
  },
  {
   "cell_type": "markdown",
   "metadata": {},
   "source": [
    "1. The Assessment Key Points indicates that we’re only interested in “original tweets”, no “retweets”; and these tweets are stored `retweeted_status_id`, `retweeted_status_user_id` and `retweeted_status_timestamp` columns"
   ]
  },
  {
   "cell_type": "markdown",
   "metadata": {},
   "source": [
    "2. The Assessment key points also indicates that Reply tweets are also not “original tweets” either; and these tweets are stored `in_reply_to_status_id` and `in_reply_to_user_id` columns."
   ]
  },
  {
   "cell_type": "markdown",
   "metadata": {},
   "source": [
    "3. There are 4 columns that do not comform to the rules of tidy data. `doggo`, `floofer`, `pupper`, `puppo` columns should be in one column as they are dog stages."
   ]
  },
  {
   "cell_type": "markdown",
   "metadata": {},
   "source": [
    "### `df_images`"
   ]
  },
  {
   "cell_type": "markdown",
   "metadata": {},
   "source": [
    "4. The dog breed that was predicted with the highest confidence level can be combined with the `df_archive` table ."
   ]
  },
  {
   "cell_type": "markdown",
   "metadata": {},
   "source": [
    "### `df_tweets`"
   ]
  },
  {
   "cell_type": "markdown",
   "metadata": {},
   "source": [
    "5. The `df_tweets` table should be combined with the archive table."
   ]
  },
  {
   "cell_type": "markdown",
   "metadata": {},
   "source": [
    "6. The column name id is tweet_id in other tables. Renaming would be neccessary to ensure consistency"
   ]
  },
  {
   "cell_type": "markdown",
   "metadata": {
    "extensions": {
     "jupyter_dashboards": {
      "version": 1,
      "views": {
       "grid_default": {
        "col": 4,
        "height": 4,
        "hidden": false,
        "row": 32,
        "width": 4
       },
       "report_default": {
        "hidden": false
       }
      }
     }
    }
   },
   "source": [
    "<a id='cleaning'></a>\n",
    "## Cleaning Data\n"
   ]
  },
  {
   "cell_type": "code",
   "execution_count": 15,
   "metadata": {
    "scrolled": true
   },
   "outputs": [],
   "source": [
    "# Make copies of original pieces of data\n",
    "df_archive_clean = df_archive.copy()\n",
    "df_images_clean = df_images.copy()\n",
    "df_tweets_clean = df_tweets.copy()\n"
   ]
  },
  {
   "cell_type": "markdown",
   "metadata": {},
   "source": [
    "## Quality `df_archive` Issue #1:\n",
    "\n",
    "The `timestamp` entries have \"+0000\" values added, which is not neccessary."
   ]
  },
  {
   "cell_type": "markdown",
   "metadata": {},
   "source": [
    "#### Define:\n",
    "- Remove +0000 from timestamp"
   ]
  },
  {
   "cell_type": "markdown",
   "metadata": {},
   "source": [
    "#### Code"
   ]
  },
  {
   "cell_type": "code",
   "execution_count": 16,
   "metadata": {},
   "outputs": [],
   "source": [
    "df_archive_clean.timestamp = df_archive_clean.timestamp.str[:-5].str.strip()"
   ]
  },
  {
   "cell_type": "markdown",
   "metadata": {},
   "source": [
    "#### Test"
   ]
  },
  {
   "cell_type": "code",
   "execution_count": 17,
   "metadata": {
    "scrolled": true
   },
   "outputs": [
    {
     "data": {
      "text/plain": [
       "0    2017-08-01 16:23:56\n",
       "1    2017-08-01 00:17:27\n",
       "2    2017-07-31 00:18:03\n",
       "Name: timestamp, dtype: object"
      ]
     },
     "execution_count": 17,
     "metadata": {},
     "output_type": "execute_result"
    }
   ],
   "source": [
    "df_archive_clean.timestamp.head(3)"
   ]
  },
  {
   "cell_type": "markdown",
   "metadata": {},
   "source": [
    "## Quality`df_archive` Issue #2:\n",
    "\n",
    "The `timestamp` column is in string format. Instead of datetime"
   ]
  },
  {
   "cell_type": "markdown",
   "metadata": {
    "collapsed": true,
    "extensions": {
     "jupyter_dashboards": {
      "version": 1,
      "views": {
       "grid_default": {
        "hidden": true
       },
       "report_default": {
        "hidden": true
       }
      }
     }
    }
   },
   "source": [
    "#### Define\n",
    "- Convert `timestamp` column to datetime data type"
   ]
  },
  {
   "cell_type": "markdown",
   "metadata": {},
   "source": [
    "#### Code"
   ]
  },
  {
   "cell_type": "code",
   "execution_count": 18,
   "metadata": {},
   "outputs": [],
   "source": [
    "df_archive_clean['timestamp'] = pd.to_datetime(df_archive_clean.timestamp)\n",
    "df_archive_clean['timestamp'] = df_archive_clean.timestamp.dt.floor('s')"
   ]
  },
  {
   "cell_type": "markdown",
   "metadata": {},
   "source": [
    "#### Test\n"
   ]
  },
  {
   "cell_type": "code",
   "execution_count": 19,
   "metadata": {
    "scrolled": true
   },
   "outputs": [
    {
     "name": "stdout",
     "output_type": "stream",
     "text": [
      "<class 'pandas.core.frame.DataFrame'>\n",
      "RangeIndex: 2356 entries, 0 to 2355\n",
      "Data columns (total 17 columns):\n",
      " #   Column                      Non-Null Count  Dtype         \n",
      "---  ------                      --------------  -----         \n",
      " 0   tweet_id                    2356 non-null   int64         \n",
      " 1   in_reply_to_status_id       78 non-null     float64       \n",
      " 2   in_reply_to_user_id         78 non-null     float64       \n",
      " 3   timestamp                   2356 non-null   datetime64[ns]\n",
      " 4   source                      2356 non-null   object        \n",
      " 5   text                        2356 non-null   object        \n",
      " 6   retweeted_status_id         181 non-null    float64       \n",
      " 7   retweeted_status_user_id    181 non-null    float64       \n",
      " 8   retweeted_status_timestamp  181 non-null    object        \n",
      " 9   expanded_urls               2297 non-null   object        \n",
      " 10  rating_numerator            2356 non-null   int64         \n",
      " 11  rating_denominator          2356 non-null   int64         \n",
      " 12  name                        2356 non-null   object        \n",
      " 13  doggo                       2356 non-null   object        \n",
      " 14  floofer                     2356 non-null   object        \n",
      " 15  pupper                      2356 non-null   object        \n",
      " 16  puppo                       2356 non-null   object        \n",
      "dtypes: datetime64[ns](1), float64(4), int64(3), object(9)\n",
      "memory usage: 313.0+ KB\n"
     ]
    }
   ],
   "source": [
    "df_archive_clean.info()"
   ]
  },
  {
   "cell_type": "markdown",
   "metadata": {},
   "source": [
    "## Quality `df_archive` Issue #3\n",
    "We are not interested in entries related to retweets."
   ]
  },
  {
   "cell_type": "markdown",
   "metadata": {},
   "source": [
    "#### Define\n",
    "- Drop all columns related to retweets: `retweeted_status_id`, `retweeted_status_user_id`, `retweeted_status_timestamp`."
   ]
  },
  {
   "cell_type": "markdown",
   "metadata": {},
   "source": [
    "#### Code"
   ]
  },
  {
   "cell_type": "code",
   "execution_count": 20,
   "metadata": {},
   "outputs": [],
   "source": [
    "df_archive_clean = df_archive_clean.drop(['retweeted_status_id',\n",
    "                                    'retweeted_status_user_id',\n",
    "                                    'retweeted_status_timestamp'], axis = 1)"
   ]
  },
  {
   "cell_type": "markdown",
   "metadata": {},
   "source": [
    "#### Test"
   ]
  },
  {
   "cell_type": "code",
   "execution_count": 21,
   "metadata": {
    "scrolled": false
   },
   "outputs": [
    {
     "name": "stdout",
     "output_type": "stream",
     "text": [
      "<class 'pandas.core.frame.DataFrame'>\n",
      "RangeIndex: 2356 entries, 0 to 2355\n",
      "Data columns (total 14 columns):\n",
      " #   Column                 Non-Null Count  Dtype         \n",
      "---  ------                 --------------  -----         \n",
      " 0   tweet_id               2356 non-null   int64         \n",
      " 1   in_reply_to_status_id  78 non-null     float64       \n",
      " 2   in_reply_to_user_id    78 non-null     float64       \n",
      " 3   timestamp              2356 non-null   datetime64[ns]\n",
      " 4   source                 2356 non-null   object        \n",
      " 5   text                   2356 non-null   object        \n",
      " 6   expanded_urls          2297 non-null   object        \n",
      " 7   rating_numerator       2356 non-null   int64         \n",
      " 8   rating_denominator     2356 non-null   int64         \n",
      " 9   name                   2356 non-null   object        \n",
      " 10  doggo                  2356 non-null   object        \n",
      " 11  floofer                2356 non-null   object        \n",
      " 12  pupper                 2356 non-null   object        \n",
      " 13  puppo                  2356 non-null   object        \n",
      "dtypes: datetime64[ns](1), float64(2), int64(3), object(8)\n",
      "memory usage: 257.8+ KB\n"
     ]
    }
   ],
   "source": [
    "df_archive_clean.info()"
   ]
  },
  {
   "cell_type": "markdown",
   "metadata": {},
   "source": [
    "## Quality `df_archive` Issue #4\n",
    "We are not interested in entries related to replies."
   ]
  },
  {
   "cell_type": "markdown",
   "metadata": {},
   "source": [
    "#### Define\n",
    "- Drop all columns related to replies: `in_reply_to_status_id` and `in_reply_to_user_id`"
   ]
  },
  {
   "cell_type": "markdown",
   "metadata": {},
   "source": [
    "#### Code"
   ]
  },
  {
   "cell_type": "code",
   "execution_count": 22,
   "metadata": {},
   "outputs": [],
   "source": [
    "df_archive_clean = df_archive_clean.drop(['in_reply_to_status_id',\n",
    "                                    'in_reply_to_user_id'], axis = 1)"
   ]
  },
  {
   "cell_type": "markdown",
   "metadata": {},
   "source": [
    "#### Test"
   ]
  },
  {
   "cell_type": "code",
   "execution_count": 23,
   "metadata": {
    "scrolled": false
   },
   "outputs": [
    {
     "data": {
      "text/plain": [
       "['tweet_id',\n",
       " 'timestamp',\n",
       " 'source',\n",
       " 'text',\n",
       " 'expanded_urls',\n",
       " 'rating_numerator',\n",
       " 'rating_denominator',\n",
       " 'name',\n",
       " 'doggo',\n",
       " 'floofer',\n",
       " 'pupper',\n",
       " 'puppo']"
      ]
     },
     "execution_count": 23,
     "metadata": {},
     "output_type": "execute_result"
    }
   ],
   "source": [
    "list(df_archive_clean)"
   ]
  },
  {
   "cell_type": "markdown",
   "metadata": {},
   "source": [
    "## Quality `df_archive` Issue #5\n",
    "There are tweet ratings with `rating_denominator` columnwith values NOT equal to 10\n"
   ]
  },
  {
   "cell_type": "markdown",
   "metadata": {},
   "source": [
    "#### Define\n",
    "- Drop tweets with rating_denominator values that are NOT equal to 10."
   ]
  },
  {
   "cell_type": "markdown",
   "metadata": {},
   "source": [
    "#### Code"
   ]
  },
  {
   "cell_type": "code",
   "execution_count": 24,
   "metadata": {},
   "outputs": [],
   "source": [
    "df_archive_clean = df_archive_clean[df_archive_clean.rating_denominator == 10]"
   ]
  },
  {
   "cell_type": "markdown",
   "metadata": {},
   "source": [
    "#### Test"
   ]
  },
  {
   "cell_type": "code",
   "execution_count": 25,
   "metadata": {},
   "outputs": [
    {
     "data": {
      "text/plain": [
       "10    2333\n",
       "Name: rating_denominator, dtype: int64"
      ]
     },
     "execution_count": 25,
     "metadata": {},
     "output_type": "execute_result"
    }
   ],
   "source": [
    "df_archive_clean.rating_denominator.value_counts().sort_index(ascending = False)"
   ]
  },
  {
   "cell_type": "markdown",
   "metadata": {},
   "source": [
    "## Quality `df_archive` Issue #6\n",
    "There are a lot of entries that are lower case which we've specified as not valid names because they are just words. We won't remove the entries because even though they do not have names, they are still valid dogs."
   ]
  },
  {
   "cell_type": "markdown",
   "metadata": {},
   "source": [
    "#### Define\n",
    "- Replace all the lowercase words in the `name` column with the string \"none\""
   ]
  },
  {
   "cell_type": "markdown",
   "metadata": {},
   "source": [
    "#### Code"
   ]
  },
  {
   "cell_type": "code",
   "execution_count": 26,
   "metadata": {},
   "outputs": [
    {
     "data": {
      "text/plain": [
       "a               54\n",
       "actually         2\n",
       "all              1\n",
       "an               6\n",
       "by               1\n",
       "getting          2\n",
       "his              1\n",
       "incredibly       1\n",
       "infuriating      1\n",
       "just             4\n",
       "life             1\n",
       "light            1\n",
       "mad              2\n",
       "my               1\n",
       "not              2\n",
       "officially       1\n",
       "old              1\n",
       "one              4\n",
       "quite            4\n",
       "space            1\n",
       "such             1\n",
       "the              8\n",
       "unacceptable     1\n",
       "very             5\n",
       "Name: name, dtype: int64"
      ]
     },
     "execution_count": 26,
     "metadata": {},
     "output_type": "execute_result"
    }
   ],
   "source": [
    "lcase_names = df_archive_clean.name.str.contains('^[a-z]', regex = True)\n",
    "df_archive_clean[lcase_names].name.value_counts().sort_index()"
   ]
  },
  {
   "cell_type": "code",
   "execution_count": 27,
   "metadata": {},
   "outputs": [],
   "source": [
    "df_archive_clean.loc[lcase_names, 'name'] = \"none\""
   ]
  },
  {
   "cell_type": "markdown",
   "metadata": {},
   "source": [
    "#### Test"
   ]
  },
  {
   "cell_type": "code",
   "execution_count": 28,
   "metadata": {},
   "outputs": [
    {
     "data": {
      "text/plain": [
       "none    106\n",
       "Name: name, dtype: int64"
      ]
     },
     "execution_count": 28,
     "metadata": {},
     "output_type": "execute_result"
    }
   ],
   "source": [
    "df_archive_clean[lcase_names].name.value_counts().sort_index()"
   ]
  },
  {
   "cell_type": "markdown",
   "metadata": {},
   "source": [
    "## Quality `df_archive` Issue #7\n",
    "\n",
    "There are missing tweets in the `expanded_urls` column\n"
   ]
  },
  {
   "cell_type": "markdown",
   "metadata": {},
   "source": [
    "#### Define\n",
    "- Remove tweets with missing urls in the `expanded_urls` column"
   ]
  },
  {
   "cell_type": "markdown",
   "metadata": {},
   "source": [
    "#### Code"
   ]
  },
  {
   "cell_type": "code",
   "execution_count": 29,
   "metadata": {},
   "outputs": [
    {
     "name": "stdout",
     "output_type": "stream",
     "text": [
      "<class 'pandas.core.frame.DataFrame'>\n",
      "Int64Index: 2333 entries, 0 to 2355\n",
      "Data columns (total 12 columns):\n",
      " #   Column              Non-Null Count  Dtype         \n",
      "---  ------              --------------  -----         \n",
      " 0   tweet_id            2333 non-null   int64         \n",
      " 1   timestamp           2333 non-null   datetime64[ns]\n",
      " 2   source              2333 non-null   object        \n",
      " 3   text                2333 non-null   object        \n",
      " 4   expanded_urls       2278 non-null   object        \n",
      " 5   rating_numerator    2333 non-null   int64         \n",
      " 6   rating_denominator  2333 non-null   int64         \n",
      " 7   name                2333 non-null   object        \n",
      " 8   doggo               2333 non-null   object        \n",
      " 9   floofer             2333 non-null   object        \n",
      " 10  pupper              2333 non-null   object        \n",
      " 11  puppo               2333 non-null   object        \n",
      "dtypes: datetime64[ns](1), int64(3), object(8)\n",
      "memory usage: 236.9+ KB\n"
     ]
    }
   ],
   "source": [
    "df_archive_clean.info()"
   ]
  },
  {
   "cell_type": "code",
   "execution_count": 30,
   "metadata": {},
   "outputs": [],
   "source": [
    "df_archive_clean = df_archive_clean[df_archive_clean.expanded_urls.notnull()]"
   ]
  },
  {
   "cell_type": "markdown",
   "metadata": {},
   "source": [
    "#### Test"
   ]
  },
  {
   "cell_type": "code",
   "execution_count": 31,
   "metadata": {},
   "outputs": [
    {
     "name": "stdout",
     "output_type": "stream",
     "text": [
      "<class 'pandas.core.frame.DataFrame'>\n",
      "Int64Index: 2278 entries, 0 to 2355\n",
      "Data columns (total 12 columns):\n",
      " #   Column              Non-Null Count  Dtype         \n",
      "---  ------              --------------  -----         \n",
      " 0   tweet_id            2278 non-null   int64         \n",
      " 1   timestamp           2278 non-null   datetime64[ns]\n",
      " 2   source              2278 non-null   object        \n",
      " 3   text                2278 non-null   object        \n",
      " 4   expanded_urls       2278 non-null   object        \n",
      " 5   rating_numerator    2278 non-null   int64         \n",
      " 6   rating_denominator  2278 non-null   int64         \n",
      " 7   name                2278 non-null   object        \n",
      " 8   doggo               2278 non-null   object        \n",
      " 9   floofer             2278 non-null   object        \n",
      " 10  pupper              2278 non-null   object        \n",
      " 11  puppo               2278 non-null   object        \n",
      "dtypes: datetime64[ns](1), int64(3), object(8)\n",
      "memory usage: 231.4+ KB\n"
     ]
    }
   ],
   "source": [
    "df_archive_clean.info()"
   ]
  },
  {
   "cell_type": "markdown",
   "metadata": {},
   "source": [
    "## Quality `df_archive` Issue #8\n",
    "There are only 4 types of sources, and they would be clearer to see if the html codes are removed."
   ]
  },
  {
   "cell_type": "markdown",
   "metadata": {},
   "source": [
    "#### Define\n",
    "- Remove HTML codes from rows in source column"
   ]
  },
  {
   "cell_type": "markdown",
   "metadata": {},
   "source": [
    "#### Code"
   ]
  },
  {
   "cell_type": "code",
   "execution_count": 32,
   "metadata": {
    "scrolled": true
   },
   "outputs": [
    {
     "name": "stderr",
     "output_type": "stream",
     "text": [
      "C:\\Users\\hp\\AppData\\Local\\Temp\\ipykernel_11100\\3001637299.py:1: FutureWarning: The default value of regex will change from True to False in a future version.\n",
      "  df_archive_clean['source'] = df_archive_clean['source'].str.replace(\n",
      "C:\\Users\\hp\\AppData\\Local\\Temp\\ipykernel_11100\\3001637299.py:3: FutureWarning: The default value of regex will change from True to False in a future version.\n",
      "  df_archive_clean['source'] = df_archive_clean['source'].str.replace(\n",
      "C:\\Users\\hp\\AppData\\Local\\Temp\\ipykernel_11100\\3001637299.py:5: FutureWarning: The default value of regex will change from True to False in a future version.\n",
      "  df_archive_clean['source'] = df_archive_clean['source'].str.replace(\n",
      "C:\\Users\\hp\\AppData\\Local\\Temp\\ipykernel_11100\\3001637299.py:7: FutureWarning: The default value of regex will change from True to False in a future version.\n",
      "  df_archive_clean['source'] = df_archive_clean['source'].str.replace(\n"
     ]
    }
   ],
   "source": [
    "df_archive_clean['source'] = df_archive_clean['source'].str.replace(\n",
    "    '<a href=\"http://twitter.com/download/iphone\" rel=\"nofollow\">Twitter for iPhone</a>', 'Twitter for iPhone')\n",
    "df_archive_clean['source'] = df_archive_clean['source'].str.replace(\n",
    "    '<a href=\"http://vine.co\" rel=\"nofollow\">Vine - Make a Scene</a>', 'Vine')\n",
    "df_archive_clean['source'] = df_archive_clean['source'].str.replace(\n",
    "    '<a href=\"http://twitter.com\" rel=\"nofollow\">Twitter Web Client</a>', 'Twitter Web Client')\n",
    "df_archive_clean['source'] = df_archive_clean['source'].str.replace(\n",
    "    '<a href=\"https://about.twitter.com/products/tweetdeck\" rel=\"nofollow\">TweetDeck</a>', 'TweetDeck')"
   ]
  },
  {
   "cell_type": "markdown",
   "metadata": {},
   "source": [
    "#### Test"
   ]
  },
  {
   "cell_type": "code",
   "execution_count": 33,
   "metadata": {
    "scrolled": true
   },
   "outputs": [
    {
     "data": {
      "text/plain": [
       "Twitter for iPhone    2144\n",
       "Vine                    91\n",
       "Twitter Web Client      32\n",
       "TweetDeck               11\n",
       "Name: source, dtype: int64"
      ]
     },
     "execution_count": 33,
     "metadata": {},
     "output_type": "execute_result"
    }
   ],
   "source": [
    "df_archive_clean.source.value_counts()"
   ]
  },
  {
   "cell_type": "markdown",
   "metadata": {},
   "source": [
    "## Quality `df_images` Issue #9\n",
    "Remove entries that have p1_dog, p2_dog, & p3_dog values set to false. These entries are not dogs. Hence they won't be needed "
   ]
  },
  {
   "cell_type": "markdown",
   "metadata": {},
   "source": [
    "#### Define \n",
    "- Drop rows with entries that have False p1_dog, p2_dog, & p3_dog values."
   ]
  },
  {
   "cell_type": "markdown",
   "metadata": {},
   "source": [
    "#### Code"
   ]
  },
  {
   "cell_type": "code",
   "execution_count": 34,
   "metadata": {},
   "outputs": [],
   "source": [
    "df_images_clean = df_images_clean[((df_images_clean['p1_dog'] == True) & \n",
    "                  (df_images_clean['p2_dog'] == True) & \n",
    "                  (df_images_clean['p3_dog'] == True))]"
   ]
  },
  {
   "cell_type": "markdown",
   "metadata": {},
   "source": [
    "#### Test"
   ]
  },
  {
   "cell_type": "code",
   "execution_count": 35,
   "metadata": {
    "scrolled": true
   },
   "outputs": [
    {
     "data": {
      "text/plain": [
       "True    1243\n",
       "Name: p1_dog, dtype: int64"
      ]
     },
     "execution_count": 35,
     "metadata": {},
     "output_type": "execute_result"
    }
   ],
   "source": [
    "df_images_clean.p1_dog.value_counts()"
   ]
  },
  {
   "cell_type": "code",
   "execution_count": 36,
   "metadata": {
    "scrolled": true
   },
   "outputs": [
    {
     "data": {
      "text/plain": [
       "True    1243\n",
       "Name: p2_dog, dtype: int64"
      ]
     },
     "execution_count": 36,
     "metadata": {},
     "output_type": "execute_result"
    }
   ],
   "source": [
    "df_images_clean.p2_dog.value_counts()"
   ]
  },
  {
   "cell_type": "code",
   "execution_count": 37,
   "metadata": {},
   "outputs": [
    {
     "data": {
      "text/plain": [
       "True    1243\n",
       "Name: p3_dog, dtype: int64"
      ]
     },
     "execution_count": 37,
     "metadata": {},
     "output_type": "execute_result"
    }
   ],
   "source": [
    "df_images_clean.p3_dog.value_counts()"
   ]
  },
  {
   "cell_type": "markdown",
   "metadata": {},
   "source": [
    "## Quality df_images Issue #9\n",
    "In the `jpg_url` column there are several duplicates"
   ]
  },
  {
   "cell_type": "markdown",
   "metadata": {},
   "source": [
    "#### Define \n",
    "- Drops rows with duplicates in the `jpg_url` column"
   ]
  },
  {
   "cell_type": "markdown",
   "metadata": {},
   "source": [
    "#### Code"
   ]
  },
  {
   "cell_type": "code",
   "execution_count": 38,
   "metadata": {},
   "outputs": [
    {
     "data": {
      "text/plain": [
       "37"
      ]
     },
     "execution_count": 38,
     "metadata": {},
     "output_type": "execute_result"
    }
   ],
   "source": [
    "# Check the rows with duplicates\n",
    "len(df_images_clean[df_images_clean.jpg_url.duplicated()])"
   ]
  },
  {
   "cell_type": "code",
   "execution_count": 39,
   "metadata": {},
   "outputs": [],
   "source": [
    "# drop all rows with duplicates\n",
    "df_images_clean = df_images_clean.drop_duplicates(subset='jpg_url')"
   ]
  },
  {
   "cell_type": "markdown",
   "metadata": {},
   "source": [
    "#### Test"
   ]
  },
  {
   "cell_type": "code",
   "execution_count": 40,
   "metadata": {
    "scrolled": true
   },
   "outputs": [
    {
     "data": {
      "text/plain": [
       "0"
      ]
     },
     "execution_count": 40,
     "metadata": {},
     "output_type": "execute_result"
    }
   ],
   "source": [
    "len(df_images_clean[df_images_clean.jpg_url.duplicated()])"
   ]
  },
  {
   "cell_type": "markdown",
   "metadata": {},
   "source": [
    "## Tidiness `df_archive` Issue #1\n",
    "There are 4 columns that do not comform to the rules of tidy data. `doggo`, `floofer`, `pupper`, `puppo` columns should be in one column as they are dog stages."
   ]
  },
  {
   "cell_type": "markdown",
   "metadata": {},
   "source": [
    "#### Define\n",
    "- Combine the 4 columns into 1 category"
   ]
  },
  {
   "cell_type": "markdown",
   "metadata": {},
   "source": [
    "#### Code"
   ]
  },
  {
   "cell_type": "code",
   "execution_count": 41,
   "metadata": {
    "scrolled": false
   },
   "outputs": [
    {
     "data": {
      "text/html": [
       "<div>\n",
       "<style scoped>\n",
       "    .dataframe tbody tr th:only-of-type {\n",
       "        vertical-align: middle;\n",
       "    }\n",
       "\n",
       "    .dataframe tbody tr th {\n",
       "        vertical-align: top;\n",
       "    }\n",
       "\n",
       "    .dataframe thead th {\n",
       "        text-align: right;\n",
       "    }\n",
       "</style>\n",
       "<table border=\"1\" class=\"dataframe\">\n",
       "  <thead>\n",
       "    <tr style=\"text-align: right;\">\n",
       "      <th></th>\n",
       "      <th>doggo</th>\n",
       "      <th>floofer</th>\n",
       "      <th>pupper</th>\n",
       "      <th>puppo</th>\n",
       "    </tr>\n",
       "  </thead>\n",
       "  <tbody>\n",
       "    <tr>\n",
       "      <th>count</th>\n",
       "      <td>2278</td>\n",
       "      <td>2278</td>\n",
       "      <td>2278</td>\n",
       "      <td>2278</td>\n",
       "    </tr>\n",
       "    <tr>\n",
       "      <th>unique</th>\n",
       "      <td>2</td>\n",
       "      <td>2</td>\n",
       "      <td>2</td>\n",
       "      <td>2</td>\n",
       "    </tr>\n",
       "    <tr>\n",
       "      <th>top</th>\n",
       "      <td>None</td>\n",
       "      <td>None</td>\n",
       "      <td>None</td>\n",
       "      <td>None</td>\n",
       "    </tr>\n",
       "    <tr>\n",
       "      <th>freq</th>\n",
       "      <td>2184</td>\n",
       "      <td>2268</td>\n",
       "      <td>2023</td>\n",
       "      <td>2249</td>\n",
       "    </tr>\n",
       "  </tbody>\n",
       "</table>\n",
       "</div>"
      ],
      "text/plain": [
       "       doggo floofer pupper puppo\n",
       "count   2278    2278   2278  2278\n",
       "unique     2       2      2     2\n",
       "top     None    None   None  None\n",
       "freq    2184    2268   2023  2249"
      ]
     },
     "execution_count": 41,
     "metadata": {},
     "output_type": "execute_result"
    }
   ],
   "source": [
    "df_archive_clean[['doggo','floofer','pupper','puppo']].describe()"
   ]
  },
  {
   "cell_type": "code",
   "execution_count": 42,
   "metadata": {
    "scrolled": true
   },
   "outputs": [
    {
     "data": {
      "text/plain": [
       "0    1904\n",
       "1     360\n",
       "2      14\n",
       "Name: none, dtype: int64"
      ]
     },
     "execution_count": 42,
     "metadata": {},
     "output_type": "execute_result"
    }
   ],
   "source": [
    "# Source:    https://github.com/\n",
    "# replace the stages name with 1, and 'None' with 0, we store it as burner variable which is a dummy variable\n",
    "burner = lambda x: 0 if x == 'None' else 1\n",
    "\n",
    "df_archive_clean.doggo = df_archive_clean.doggo.apply(burner)\n",
    "df_archive_clean.floofer = df_archive_clean.floofer.apply(burner)\n",
    "df_archive_clean.pupper = df_archive_clean.pupper.apply(burner)\n",
    "df_archive_clean.puppo = df_archive_clean.puppo.apply(burner)\n",
    "\n",
    "# by adding the stages columns, we can see how many are 'none' and how many stages are set\n",
    "df_archive_clean['none'] = df_archive_clean['doggo'] + df_archive_clean['floofer'] + \\\n",
    "                        df_archive_clean['pupper'] + df_archive_clean['puppo']\n",
    "\n",
    "# have a look at what we have before we continue...\n",
    "df_archive_clean['none'].value_counts()"
   ]
  },
  {
   "cell_type": "markdown",
   "metadata": {},
   "source": [
    "#### Observation\n",
    "- From the result, it is is revealed that there are 14 tweets that have 2 dog stages."
   ]
  },
  {
   "cell_type": "code",
   "execution_count": 43,
   "metadata": {},
   "outputs": [],
   "source": [
    "# Source:    https://github.com/\n",
    "# NO stages specified then set 'None' to 1\n",
    "stages_none = lambda x: 1 if x == 0 else 0\n",
    "\n",
    "# reset values \n",
    "df_archive_clean['none'] = df_archive_clean['none'].apply(stages_none)\n",
    "\n",
    "# Order the stages , floofer, puppo, doggo and pupper\n",
    "# set the selection for dog stage based on count order\n",
    "stages = ['floofer', 'puppo', 'doggo', 'pupper', 'none']\n",
    "\n",
    "# set the conditions for selecting the dog stage based on count order\n",
    "conditions = [\n",
    "    (df_archive_clean[stages[0]] == 1),\n",
    "    (df_archive_clean[stages[1]] == 1),\n",
    "    (df_archive_clean[stages[2]] == 1),\n",
    "    (df_archive_clean[stages[3]] == 1),\n",
    "    (df_archive_clean[stages[4]] == 1)]\n",
    "\n",
    "# select the dog stage based on the first successful condition; stages[4] is 'None'\n",
    "df_archive_clean['stages'] = np.select(conditions, stages, default = stages[4])\n",
    "\n",
    "# now we can drop the original 4 dog stage columns, AND the temporary 'None'\n",
    "df_archive_clean.drop(stages, axis = 1, inplace = True)\n",
    "\n",
    "# set the 'stages' column data type to category\n",
    "df_archive_clean['stages'] = df_archive_clean.stages.astype('category')\n",
    "\n",
    "# Source for algorithm:    https://github.com/"
   ]
  },
  {
   "cell_type": "markdown",
   "metadata": {},
   "source": [
    "#### Test"
   ]
  },
  {
   "cell_type": "code",
   "execution_count": 44,
   "metadata": {
    "scrolled": true
   },
   "outputs": [
    {
     "data": {
      "text/plain": [
       "none       1904\n",
       "pupper      243\n",
       "doggo        92\n",
       "puppo        29\n",
       "floofer      10\n",
       "Name: stages, dtype: int64"
      ]
     },
     "execution_count": 44,
     "metadata": {},
     "output_type": "execute_result"
    }
   ],
   "source": [
    "df_archive_clean.stages.value_counts()"
   ]
  },
  {
   "cell_type": "code",
   "execution_count": 45,
   "metadata": {
    "scrolled": true
   },
   "outputs": [
    {
     "name": "stdout",
     "output_type": "stream",
     "text": [
      "<class 'pandas.core.frame.DataFrame'>\n",
      "Int64Index: 2278 entries, 0 to 2355\n",
      "Data columns (total 9 columns):\n",
      " #   Column              Non-Null Count  Dtype         \n",
      "---  ------              --------------  -----         \n",
      " 0   tweet_id            2278 non-null   int64         \n",
      " 1   timestamp           2278 non-null   datetime64[ns]\n",
      " 2   source              2278 non-null   object        \n",
      " 3   text                2278 non-null   object        \n",
      " 4   expanded_urls       2278 non-null   object        \n",
      " 5   rating_numerator    2278 non-null   int64         \n",
      " 6   rating_denominator  2278 non-null   int64         \n",
      " 7   name                2278 non-null   object        \n",
      " 8   stages              2278 non-null   category      \n",
      "dtypes: category(1), datetime64[ns](1), int64(3), object(4)\n",
      "memory usage: 162.6+ KB\n"
     ]
    }
   ],
   "source": [
    "df_archive_clean.info()"
   ]
  },
  {
   "cell_type": "markdown",
   "metadata": {},
   "source": [
    "## Tidiness `df_images` Issue #2\n",
    "The dog breed that was predicted with the highest confidence level can be combined with the df_archive table. We will only retain the tweets with images "
   ]
  },
  {
   "cell_type": "markdown",
   "metadata": {},
   "source": [
    "#### Define\n",
    "The process for this implementation is in 2 steps. \n",
    "- We create the columns in the `df_images` first by forming two columns. `breed` and `confidence`. Copy the `Breed` with the highest confidence level into `breed` column and the corresponding confidence level into the `confidence` column\n",
    "\n",
    "\n",
    "- Merge the new columns into the `df_archive` table, then we have just tweets with images. After we round the confidence levels to percentage."
   ]
  },
  {
   "cell_type": "code",
   "execution_count": 46,
   "metadata": {},
   "outputs": [],
   "source": [
    "# Source:    https://github.com/\n",
    "# Since the predictions already have been cleaned of all false prediction, we go ahead\n",
    "\n",
    "# setup the criterias for selection\n",
    "criterias = [(df_images_clean['p1_dog'] == True),\n",
    "              (df_images_clean['p2_dog'] == True),\n",
    "              (df_images_clean['p3_dog'] == True)]\n",
    "\n",
    "# set the choice order based on the selection criterias for predicted breed\n",
    "select_breed = [df_images_clean['p1'], \n",
    "                 df_images_clean['p2'],\n",
    "                 df_images_clean['p3']]\n",
    "\n",
    "# set the choice order for confidence level based on the selection conditions\n",
    "select_confidence = [df_images_clean['p1_conf'], \n",
    "                      df_images_clean['p2_conf'], \n",
    "                      df_images_clean['p3_conf']]\n",
    "\n",
    "# select the predicted breed based on the first successful condition\n",
    "df_images_clean['breed'] = np.select(criterias, select_breed, \n",
    "                                       default = 'none')\n",
    "\n",
    "# select the predicted confidence level based on the first successful condition\n",
    "df_images_clean['confidence'] = np.select(criterias, select_confidence, \n",
    "                                            default = 0)"
   ]
  },
  {
   "cell_type": "markdown",
   "metadata": {},
   "source": [
    "#### Test\n",
    "- Step 1"
   ]
  },
  {
   "cell_type": "code",
   "execution_count": 47,
   "metadata": {
    "scrolled": true
   },
   "outputs": [
    {
     "data": {
      "text/html": [
       "<div>\n",
       "<style scoped>\n",
       "    .dataframe tbody tr th:only-of-type {\n",
       "        vertical-align: middle;\n",
       "    }\n",
       "\n",
       "    .dataframe tbody tr th {\n",
       "        vertical-align: top;\n",
       "    }\n",
       "\n",
       "    .dataframe thead th {\n",
       "        text-align: right;\n",
       "    }\n",
       "</style>\n",
       "<table border=\"1\" class=\"dataframe\">\n",
       "  <thead>\n",
       "    <tr style=\"text-align: right;\">\n",
       "      <th></th>\n",
       "      <th>tweet_id</th>\n",
       "      <th>jpg_url</th>\n",
       "      <th>img_num</th>\n",
       "      <th>p1</th>\n",
       "      <th>p1_conf</th>\n",
       "      <th>p1_dog</th>\n",
       "      <th>p2</th>\n",
       "      <th>p2_conf</th>\n",
       "      <th>p2_dog</th>\n",
       "      <th>p3</th>\n",
       "      <th>p3_conf</th>\n",
       "      <th>p3_dog</th>\n",
       "      <th>breed</th>\n",
       "      <th>confidence</th>\n",
       "    </tr>\n",
       "  </thead>\n",
       "  <tbody>\n",
       "    <tr>\n",
       "      <th>0</th>\n",
       "      <td>666020888022790149</td>\n",
       "      <td>https://pbs.twimg.com/media/CT4udn0WwAA0aMy.jpg</td>\n",
       "      <td>1</td>\n",
       "      <td>Welsh_springer_spaniel</td>\n",
       "      <td>0.465074</td>\n",
       "      <td>True</td>\n",
       "      <td>collie</td>\n",
       "      <td>0.156665</td>\n",
       "      <td>True</td>\n",
       "      <td>Shetland_sheepdog</td>\n",
       "      <td>0.061428</td>\n",
       "      <td>True</td>\n",
       "      <td>Welsh_springer_spaniel</td>\n",
       "      <td>0.465074</td>\n",
       "    </tr>\n",
       "    <tr>\n",
       "      <th>1</th>\n",
       "      <td>666029285002620928</td>\n",
       "      <td>https://pbs.twimg.com/media/CT42GRgUYAA5iDo.jpg</td>\n",
       "      <td>1</td>\n",
       "      <td>redbone</td>\n",
       "      <td>0.506826</td>\n",
       "      <td>True</td>\n",
       "      <td>miniature_pinscher</td>\n",
       "      <td>0.074192</td>\n",
       "      <td>True</td>\n",
       "      <td>Rhodesian_ridgeback</td>\n",
       "      <td>0.072010</td>\n",
       "      <td>True</td>\n",
       "      <td>redbone</td>\n",
       "      <td>0.506826</td>\n",
       "    </tr>\n",
       "    <tr>\n",
       "      <th>2</th>\n",
       "      <td>666033412701032449</td>\n",
       "      <td>https://pbs.twimg.com/media/CT4521TWwAEvMyu.jpg</td>\n",
       "      <td>1</td>\n",
       "      <td>German_shepherd</td>\n",
       "      <td>0.596461</td>\n",
       "      <td>True</td>\n",
       "      <td>malinois</td>\n",
       "      <td>0.138584</td>\n",
       "      <td>True</td>\n",
       "      <td>bloodhound</td>\n",
       "      <td>0.116197</td>\n",
       "      <td>True</td>\n",
       "      <td>German_shepherd</td>\n",
       "      <td>0.596461</td>\n",
       "    </tr>\n",
       "    <tr>\n",
       "      <th>3</th>\n",
       "      <td>666044226329800704</td>\n",
       "      <td>https://pbs.twimg.com/media/CT5Dr8HUEAA-lEu.jpg</td>\n",
       "      <td>1</td>\n",
       "      <td>Rhodesian_ridgeback</td>\n",
       "      <td>0.408143</td>\n",
       "      <td>True</td>\n",
       "      <td>redbone</td>\n",
       "      <td>0.360687</td>\n",
       "      <td>True</td>\n",
       "      <td>miniature_pinscher</td>\n",
       "      <td>0.222752</td>\n",
       "      <td>True</td>\n",
       "      <td>Rhodesian_ridgeback</td>\n",
       "      <td>0.408143</td>\n",
       "    </tr>\n",
       "    <tr>\n",
       "      <th>4</th>\n",
       "      <td>666049248165822465</td>\n",
       "      <td>https://pbs.twimg.com/media/CT5IQmsXIAAKY4A.jpg</td>\n",
       "      <td>1</td>\n",
       "      <td>miniature_pinscher</td>\n",
       "      <td>0.560311</td>\n",
       "      <td>True</td>\n",
       "      <td>Rottweiler</td>\n",
       "      <td>0.243682</td>\n",
       "      <td>True</td>\n",
       "      <td>Doberman</td>\n",
       "      <td>0.154629</td>\n",
       "      <td>True</td>\n",
       "      <td>miniature_pinscher</td>\n",
       "      <td>0.560311</td>\n",
       "    </tr>\n",
       "  </tbody>\n",
       "</table>\n",
       "</div>"
      ],
      "text/plain": [
       "             tweet_id                                          jpg_url  \\\n",
       "0  666020888022790149  https://pbs.twimg.com/media/CT4udn0WwAA0aMy.jpg   \n",
       "1  666029285002620928  https://pbs.twimg.com/media/CT42GRgUYAA5iDo.jpg   \n",
       "2  666033412701032449  https://pbs.twimg.com/media/CT4521TWwAEvMyu.jpg   \n",
       "3  666044226329800704  https://pbs.twimg.com/media/CT5Dr8HUEAA-lEu.jpg   \n",
       "4  666049248165822465  https://pbs.twimg.com/media/CT5IQmsXIAAKY4A.jpg   \n",
       "\n",
       "   img_num                      p1   p1_conf  p1_dog                  p2  \\\n",
       "0        1  Welsh_springer_spaniel  0.465074    True              collie   \n",
       "1        1                 redbone  0.506826    True  miniature_pinscher   \n",
       "2        1         German_shepherd  0.596461    True            malinois   \n",
       "3        1     Rhodesian_ridgeback  0.408143    True             redbone   \n",
       "4        1      miniature_pinscher  0.560311    True          Rottweiler   \n",
       "\n",
       "    p2_conf  p2_dog                   p3   p3_conf  p3_dog  \\\n",
       "0  0.156665    True    Shetland_sheepdog  0.061428    True   \n",
       "1  0.074192    True  Rhodesian_ridgeback  0.072010    True   \n",
       "2  0.138584    True           bloodhound  0.116197    True   \n",
       "3  0.360687    True   miniature_pinscher  0.222752    True   \n",
       "4  0.243682    True             Doberman  0.154629    True   \n",
       "\n",
       "                    breed  confidence  \n",
       "0  Welsh_springer_spaniel    0.465074  \n",
       "1                 redbone    0.506826  \n",
       "2         German_shepherd    0.596461  \n",
       "3     Rhodesian_ridgeback    0.408143  \n",
       "4      miniature_pinscher    0.560311  "
      ]
     },
     "execution_count": 47,
     "metadata": {},
     "output_type": "execute_result"
    }
   ],
   "source": [
    "df_images_clean.head()"
   ]
  },
  {
   "cell_type": "markdown",
   "metadata": {},
   "source": [
    "#### Step 2\n",
    "- Merge the newly created columns `breeds` and `confidence` to the `df_archive` table using \"inner join\", conert to percentage and drop from `df_images_clean` table\n"
   ]
  },
  {
   "cell_type": "code",
   "execution_count": 48,
   "metadata": {},
   "outputs": [],
   "source": [
    "case_cols = ['tweet_id', 'breed', 'confidence']\n",
    "df_archive_clean = pd.merge(df_archive_clean, df_images_clean[case_cols],\n",
    "                         on = 'tweet_id', how = 'inner')\n",
    "\n",
    "# change data type for the confidence interval to a rounded, whole integer (%)\n",
    "df_archive_clean.confidence = (df_archive_clean.confidence * 100).astype(int)\n",
    "\n",
    "# after the two columns are merged, we can drop them from the 'predictions' table\n",
    "df_images_clean.drop(['breed', 'confidence'], axis = 1, inplace = True)"
   ]
  },
  {
   "cell_type": "markdown",
   "metadata": {},
   "source": [
    "### Test"
   ]
  },
  {
   "cell_type": "code",
   "execution_count": 49,
   "metadata": {
    "scrolled": false
   },
   "outputs": [
    {
     "data": {
      "text/plain": [
       "['tweet_id',\n",
       " 'timestamp',\n",
       " 'source',\n",
       " 'text',\n",
       " 'expanded_urls',\n",
       " 'rating_numerator',\n",
       " 'rating_denominator',\n",
       " 'name',\n",
       " 'stages',\n",
       " 'breed',\n",
       " 'confidence']"
      ]
     },
     "execution_count": 49,
     "metadata": {},
     "output_type": "execute_result"
    }
   ],
   "source": [
    "list(df_archive_clean)"
   ]
  },
  {
   "cell_type": "code",
   "execution_count": 50,
   "metadata": {
    "scrolled": false
   },
   "outputs": [
    {
     "name": "stdout",
     "output_type": "stream",
     "text": [
      "<class 'pandas.core.frame.DataFrame'>\n",
      "Int64Index: 1192 entries, 0 to 1191\n",
      "Data columns (total 11 columns):\n",
      " #   Column              Non-Null Count  Dtype         \n",
      "---  ------              --------------  -----         \n",
      " 0   tweet_id            1192 non-null   int64         \n",
      " 1   timestamp           1192 non-null   datetime64[ns]\n",
      " 2   source              1192 non-null   object        \n",
      " 3   text                1192 non-null   object        \n",
      " 4   expanded_urls       1192 non-null   object        \n",
      " 5   rating_numerator    1192 non-null   int64         \n",
      " 6   rating_denominator  1192 non-null   int64         \n",
      " 7   name                1192 non-null   object        \n",
      " 8   stages              1192 non-null   category      \n",
      " 9   breed               1192 non-null   object        \n",
      " 10  confidence          1192 non-null   int32         \n",
      "dtypes: category(1), datetime64[ns](1), int32(1), int64(3), object(5)\n",
      "memory usage: 99.2+ KB\n"
     ]
    }
   ],
   "source": [
    "df_archive_clean.info()"
   ]
  },
  {
   "cell_type": "code",
   "execution_count": 51,
   "metadata": {
    "scrolled": true
   },
   "outputs": [
    {
     "data": {
      "text/html": [
       "<div>\n",
       "<style scoped>\n",
       "    .dataframe tbody tr th:only-of-type {\n",
       "        vertical-align: middle;\n",
       "    }\n",
       "\n",
       "    .dataframe tbody tr th {\n",
       "        vertical-align: top;\n",
       "    }\n",
       "\n",
       "    .dataframe thead th {\n",
       "        text-align: right;\n",
       "    }\n",
       "</style>\n",
       "<table border=\"1\" class=\"dataframe\">\n",
       "  <thead>\n",
       "    <tr style=\"text-align: right;\">\n",
       "      <th></th>\n",
       "      <th>tweet_id</th>\n",
       "      <th>timestamp</th>\n",
       "      <th>source</th>\n",
       "      <th>text</th>\n",
       "      <th>expanded_urls</th>\n",
       "      <th>rating_numerator</th>\n",
       "      <th>rating_denominator</th>\n",
       "      <th>name</th>\n",
       "      <th>stages</th>\n",
       "      <th>breed</th>\n",
       "      <th>confidence</th>\n",
       "    </tr>\n",
       "  </thead>\n",
       "  <tbody>\n",
       "    <tr>\n",
       "      <th>327</th>\n",
       "      <td>793120401413079041</td>\n",
       "      <td>2016-10-31 16:00:13</td>\n",
       "      <td>Twitter for iPhone</td>\n",
       "      <td>This is Robin. She's desperately trying to do ...</td>\n",
       "      <td>https://twitter.com/dog_rates/status/793120401...</td>\n",
       "      <td>11</td>\n",
       "      <td>10</td>\n",
       "      <td>Robin</td>\n",
       "      <td>none</td>\n",
       "      <td>Labrador_retriever</td>\n",
       "      <td>72</td>\n",
       "    </tr>\n",
       "    <tr>\n",
       "      <th>76</th>\n",
       "      <td>867774946302451713</td>\n",
       "      <td>2017-05-25 16:10:44</td>\n",
       "      <td>Twitter for iPhone</td>\n",
       "      <td>Meet Harold.  He's h*ckin cooperative. 13/10 g...</td>\n",
       "      <td>https://twitter.com/dog_rates/status/867774946...</td>\n",
       "      <td>13</td>\n",
       "      <td>10</td>\n",
       "      <td>Harold</td>\n",
       "      <td>none</td>\n",
       "      <td>Border_collie</td>\n",
       "      <td>66</td>\n",
       "    </tr>\n",
       "    <tr>\n",
       "      <th>371</th>\n",
       "      <td>780459368902959104</td>\n",
       "      <td>2016-09-26 17:29:48</td>\n",
       "      <td>Twitter for iPhone</td>\n",
       "      <td>This is Bear. Don't worry, he's not a real bea...</td>\n",
       "      <td>https://twitter.com/dog_rates/status/780459368...</td>\n",
       "      <td>11</td>\n",
       "      <td>10</td>\n",
       "      <td>Bear</td>\n",
       "      <td>none</td>\n",
       "      <td>Great_Dane</td>\n",
       "      <td>38</td>\n",
       "    </tr>\n",
       "    <tr>\n",
       "      <th>1089</th>\n",
       "      <td>669328503091937280</td>\n",
       "      <td>2015-11-25 01:35:25</td>\n",
       "      <td>Twitter for iPhone</td>\n",
       "      <td>This is Kirk. He just saw a bacon wrapped tenn...</td>\n",
       "      <td>https://twitter.com/dog_rates/status/669328503...</td>\n",
       "      <td>12</td>\n",
       "      <td>10</td>\n",
       "      <td>Kirk</td>\n",
       "      <td>none</td>\n",
       "      <td>Siberian_husky</td>\n",
       "      <td>42</td>\n",
       "    </tr>\n",
       "    <tr>\n",
       "      <th>1139</th>\n",
       "      <td>667435689202614272</td>\n",
       "      <td>2015-11-19 20:14:03</td>\n",
       "      <td>Twitter for iPhone</td>\n",
       "      <td>Ermergerd 12/10 https://t.co/PQni2sjPsm</td>\n",
       "      <td>https://twitter.com/dog_rates/status/667435689...</td>\n",
       "      <td>12</td>\n",
       "      <td>10</td>\n",
       "      <td>None</td>\n",
       "      <td>none</td>\n",
       "      <td>Rottweiler</td>\n",
       "      <td>99</td>\n",
       "    </tr>\n",
       "  </tbody>\n",
       "</table>\n",
       "</div>"
      ],
      "text/plain": [
       "                tweet_id           timestamp              source  \\\n",
       "327   793120401413079041 2016-10-31 16:00:13  Twitter for iPhone   \n",
       "76    867774946302451713 2017-05-25 16:10:44  Twitter for iPhone   \n",
       "371   780459368902959104 2016-09-26 17:29:48  Twitter for iPhone   \n",
       "1089  669328503091937280 2015-11-25 01:35:25  Twitter for iPhone   \n",
       "1139  667435689202614272 2015-11-19 20:14:03  Twitter for iPhone   \n",
       "\n",
       "                                                   text  \\\n",
       "327   This is Robin. She's desperately trying to do ...   \n",
       "76    Meet Harold.  He's h*ckin cooperative. 13/10 g...   \n",
       "371   This is Bear. Don't worry, he's not a real bea...   \n",
       "1089  This is Kirk. He just saw a bacon wrapped tenn...   \n",
       "1139            Ermergerd 12/10 https://t.co/PQni2sjPsm   \n",
       "\n",
       "                                          expanded_urls  rating_numerator  \\\n",
       "327   https://twitter.com/dog_rates/status/793120401...                11   \n",
       "76    https://twitter.com/dog_rates/status/867774946...                13   \n",
       "371   https://twitter.com/dog_rates/status/780459368...                11   \n",
       "1089  https://twitter.com/dog_rates/status/669328503...                12   \n",
       "1139  https://twitter.com/dog_rates/status/667435689...                12   \n",
       "\n",
       "      rating_denominator    name stages               breed  confidence  \n",
       "327                   10   Robin   none  Labrador_retriever          72  \n",
       "76                    10  Harold   none       Border_collie          66  \n",
       "371                   10    Bear   none          Great_Dane          38  \n",
       "1089                  10    Kirk   none      Siberian_husky          42  \n",
       "1139                  10    None   none          Rottweiler          99  "
      ]
     },
     "execution_count": 51,
     "metadata": {},
     "output_type": "execute_result"
    }
   ],
   "source": [
    "df_archive_clean.sample(5)"
   ]
  },
  {
   "cell_type": "markdown",
   "metadata": {},
   "source": [
    "## Tidiness `df_tweets` Issue  #3\n",
    "The column name id is tweet_id in other tables. Renaming would be neccessary to ensure consistency"
   ]
  },
  {
   "cell_type": "markdown",
   "metadata": {},
   "source": [
    "#### Define\n",
    "- Rename column name `id` to `tweet_id`"
   ]
  },
  {
   "cell_type": "markdown",
   "metadata": {},
   "source": [
    "#### Code"
   ]
  },
  {
   "cell_type": "code",
   "execution_count": 52,
   "metadata": {},
   "outputs": [],
   "source": [
    "df_tweets_clean = df_tweets_clean.rename({'id':'tweet_id'}, axis=1)"
   ]
  },
  {
   "cell_type": "markdown",
   "metadata": {},
   "source": [
    "#### Test"
   ]
  },
  {
   "cell_type": "code",
   "execution_count": 53,
   "metadata": {},
   "outputs": [
    {
     "data": {
      "text/plain": [
       "['tweet_id', 'retweet_count', 'favorite_count']"
      ]
     },
     "execution_count": 53,
     "metadata": {},
     "output_type": "execute_result"
    }
   ],
   "source": [
    "list(df_tweets_clean)"
   ]
  },
  {
   "cell_type": "code",
   "execution_count": 54,
   "metadata": {
    "scrolled": true
   },
   "outputs": [
    {
     "name": "stdout",
     "output_type": "stream",
     "text": [
      "<class 'pandas.core.frame.DataFrame'>\n",
      "RangeIndex: 2354 entries, 0 to 2353\n",
      "Data columns (total 3 columns):\n",
      " #   Column          Non-Null Count  Dtype\n",
      "---  ------          --------------  -----\n",
      " 0   tweet_id        2354 non-null   int64\n",
      " 1   retweet_count   2354 non-null   int64\n",
      " 2   favorite_count  2354 non-null   int64\n",
      "dtypes: int64(3)\n",
      "memory usage: 55.3 KB\n"
     ]
    }
   ],
   "source": [
    "df_tweets_clean.info()"
   ]
  },
  {
   "cell_type": "markdown",
   "metadata": {},
   "source": [
    "## Tidiness `df_tweets` Issue  #4\n",
    "The `df_tweets` table should be combined with the `df_archive` table"
   ]
  },
  {
   "cell_type": "markdown",
   "metadata": {},
   "source": [
    "#### Define\n",
    "\n",
    "Combine the `retweet_count` and `favorite_count` columns with the `df_archive` table, joining on tweet_id."
   ]
  },
  {
   "cell_type": "markdown",
   "metadata": {},
   "source": [
    "#### Code"
   ]
  },
  {
   "cell_type": "code",
   "execution_count": 55,
   "metadata": {
    "scrolled": true
   },
   "outputs": [
    {
     "name": "stdout",
     "output_type": "stream",
     "text": [
      "<class 'pandas.core.frame.DataFrame'>\n",
      "RangeIndex: 2354 entries, 0 to 2353\n",
      "Data columns (total 3 columns):\n",
      " #   Column          Non-Null Count  Dtype\n",
      "---  ------          --------------  -----\n",
      " 0   tweet_id        2354 non-null   int64\n",
      " 1   retweet_count   2354 non-null   int64\n",
      " 2   favorite_count  2354 non-null   int64\n",
      "dtypes: int64(3)\n",
      "memory usage: 55.3 KB\n"
     ]
    }
   ],
   "source": [
    "df_tweets_clean.info()"
   ]
  },
  {
   "cell_type": "code",
   "execution_count": 56,
   "metadata": {},
   "outputs": [],
   "source": [
    "df_archive_clean = pd.merge(df_archive_clean, df_tweets_clean, \n",
    "                         on = 'tweet_id', how = 'left')"
   ]
  },
  {
   "cell_type": "markdown",
   "metadata": {},
   "source": [
    "#### Test"
   ]
  },
  {
   "cell_type": "code",
   "execution_count": 57,
   "metadata": {
    "scrolled": false
   },
   "outputs": [
    {
     "name": "stdout",
     "output_type": "stream",
     "text": [
      "<class 'pandas.core.frame.DataFrame'>\n",
      "Int64Index: 1192 entries, 0 to 1191\n",
      "Data columns (total 13 columns):\n",
      " #   Column              Non-Null Count  Dtype         \n",
      "---  ------              --------------  -----         \n",
      " 0   tweet_id            1192 non-null   int64         \n",
      " 1   timestamp           1192 non-null   datetime64[ns]\n",
      " 2   source              1192 non-null   object        \n",
      " 3   text                1192 non-null   object        \n",
      " 4   expanded_urls       1192 non-null   object        \n",
      " 5   rating_numerator    1192 non-null   int64         \n",
      " 6   rating_denominator  1192 non-null   int64         \n",
      " 7   name                1192 non-null   object        \n",
      " 8   stages              1192 non-null   category      \n",
      " 9   breed               1192 non-null   object        \n",
      " 10  confidence          1192 non-null   int32         \n",
      " 11  retweet_count       1192 non-null   int64         \n",
      " 12  favorite_count      1192 non-null   int64         \n",
      "dtypes: category(1), datetime64[ns](1), int32(1), int64(5), object(5)\n",
      "memory usage: 117.8+ KB\n"
     ]
    }
   ],
   "source": [
    "df_archive_clean.info()"
   ]
  },
  {
   "cell_type": "code",
   "execution_count": 58,
   "metadata": {
    "scrolled": false
   },
   "outputs": [
    {
     "data": {
      "text/html": [
       "<div>\n",
       "<style scoped>\n",
       "    .dataframe tbody tr th:only-of-type {\n",
       "        vertical-align: middle;\n",
       "    }\n",
       "\n",
       "    .dataframe tbody tr th {\n",
       "        vertical-align: top;\n",
       "    }\n",
       "\n",
       "    .dataframe thead th {\n",
       "        text-align: right;\n",
       "    }\n",
       "</style>\n",
       "<table border=\"1\" class=\"dataframe\">\n",
       "  <thead>\n",
       "    <tr style=\"text-align: right;\">\n",
       "      <th></th>\n",
       "      <th>tweet_id</th>\n",
       "      <th>timestamp</th>\n",
       "      <th>source</th>\n",
       "      <th>text</th>\n",
       "      <th>expanded_urls</th>\n",
       "      <th>rating_numerator</th>\n",
       "      <th>rating_denominator</th>\n",
       "      <th>name</th>\n",
       "      <th>stages</th>\n",
       "      <th>breed</th>\n",
       "      <th>confidence</th>\n",
       "      <th>retweet_count</th>\n",
       "      <th>favorite_count</th>\n",
       "    </tr>\n",
       "  </thead>\n",
       "  <tbody>\n",
       "    <tr>\n",
       "      <th>96</th>\n",
       "      <td>860524505164394496</td>\n",
       "      <td>2017-05-05 16:00:04</td>\n",
       "      <td>Twitter for iPhone</td>\n",
       "      <td>This is Carl. He likes to dance. Doesn't care ...</td>\n",
       "      <td>https://twitter.com/dog_rates/status/860524505...</td>\n",
       "      <td>13</td>\n",
       "      <td>10</td>\n",
       "      <td>Carl</td>\n",
       "      <td>none</td>\n",
       "      <td>Bedlington_terrier</td>\n",
       "      <td>28</td>\n",
       "      <td>5698</td>\n",
       "      <td>24678</td>\n",
       "    </tr>\n",
       "    <tr>\n",
       "      <th>455</th>\n",
       "      <td>756651752796094464</td>\n",
       "      <td>2016-07-23 00:46:50</td>\n",
       "      <td>Twitter for iPhone</td>\n",
       "      <td>This is Gert. He just wants you to be happy. 1...</td>\n",
       "      <td>https://twitter.com/dog_rates/status/756651752...</td>\n",
       "      <td>11</td>\n",
       "      <td>10</td>\n",
       "      <td>Gert</td>\n",
       "      <td>none</td>\n",
       "      <td>Pembroke</td>\n",
       "      <td>29</td>\n",
       "      <td>1511</td>\n",
       "      <td>5612</td>\n",
       "    </tr>\n",
       "    <tr>\n",
       "      <th>1008</th>\n",
       "      <td>672594978741354496</td>\n",
       "      <td>2015-12-04 01:55:13</td>\n",
       "      <td>Twitter for iPhone</td>\n",
       "      <td>Meet Scott. Just trying to catch his train to ...</td>\n",
       "      <td>https://twitter.com/dog_rates/status/672594978...</td>\n",
       "      <td>9</td>\n",
       "      <td>10</td>\n",
       "      <td>Scott</td>\n",
       "      <td>pupper</td>\n",
       "      <td>Great_Pyrenees</td>\n",
       "      <td>75</td>\n",
       "      <td>661</td>\n",
       "      <td>1411</td>\n",
       "    </tr>\n",
       "    <tr>\n",
       "      <th>1021</th>\n",
       "      <td>672160042234327040</td>\n",
       "      <td>2015-12-02 21:06:56</td>\n",
       "      <td>Twitter for iPhone</td>\n",
       "      <td>This is Bubba. He's a Titted Peebles Aorta. Ev...</td>\n",
       "      <td>https://twitter.com/dog_rates/status/672160042...</td>\n",
       "      <td>8</td>\n",
       "      <td>10</td>\n",
       "      <td>Bubba</td>\n",
       "      <td>pupper</td>\n",
       "      <td>pug</td>\n",
       "      <td>56</td>\n",
       "      <td>395</td>\n",
       "      <td>918</td>\n",
       "    </tr>\n",
       "    <tr>\n",
       "      <th>929</th>\n",
       "      <td>675888385639251968</td>\n",
       "      <td>2015-12-13 04:02:03</td>\n",
       "      <td>Twitter for iPhone</td>\n",
       "      <td>Breathtaking scene. A father taking care of hi...</td>\n",
       "      <td>https://twitter.com/dog_rates/status/675888385...</td>\n",
       "      <td>10</td>\n",
       "      <td>10</td>\n",
       "      <td>None</td>\n",
       "      <td>none</td>\n",
       "      <td>West_Highland_white_terrier</td>\n",
       "      <td>67</td>\n",
       "      <td>1067</td>\n",
       "      <td>2581</td>\n",
       "    </tr>\n",
       "    <tr>\n",
       "      <th>674</th>\n",
       "      <td>703611486317502464</td>\n",
       "      <td>2016-02-27 16:03:45</td>\n",
       "      <td>Twitter for iPhone</td>\n",
       "      <td>Meet Scooter. He's experiencing the pupper equ...</td>\n",
       "      <td>https://twitter.com/dog_rates/status/703611486...</td>\n",
       "      <td>10</td>\n",
       "      <td>10</td>\n",
       "      <td>Scooter</td>\n",
       "      <td>pupper</td>\n",
       "      <td>Pembroke</td>\n",
       "      <td>75</td>\n",
       "      <td>1709</td>\n",
       "      <td>4229</td>\n",
       "    </tr>\n",
       "    <tr>\n",
       "      <th>348</th>\n",
       "      <td>786595970293370880</td>\n",
       "      <td>2016-10-13 15:54:28</td>\n",
       "      <td>Twitter for iPhone</td>\n",
       "      <td>This is Dale. He's a real spookster. Did me qu...</td>\n",
       "      <td>https://twitter.com/dog_rates/status/786595970...</td>\n",
       "      <td>11</td>\n",
       "      <td>10</td>\n",
       "      <td>Dale</td>\n",
       "      <td>none</td>\n",
       "      <td>Pembroke</td>\n",
       "      <td>70</td>\n",
       "      <td>3601</td>\n",
       "      <td>10497</td>\n",
       "    </tr>\n",
       "    <tr>\n",
       "      <th>247</th>\n",
       "      <td>813812741911748608</td>\n",
       "      <td>2016-12-27 18:24:12</td>\n",
       "      <td>Twitter for iPhone</td>\n",
       "      <td>Meet Gary, Carrie Fisher's dog. Idk what I can...</td>\n",
       "      <td>https://twitter.com/dog_rates/status/813812741...</td>\n",
       "      <td>14</td>\n",
       "      <td>10</td>\n",
       "      <td>Gary</td>\n",
       "      <td>none</td>\n",
       "      <td>French_bulldog</td>\n",
       "      <td>70</td>\n",
       "      <td>16267</td>\n",
       "      <td>40402</td>\n",
       "    </tr>\n",
       "    <tr>\n",
       "      <th>1010</th>\n",
       "      <td>672523490734551040</td>\n",
       "      <td>2015-12-03 21:11:09</td>\n",
       "      <td>Twitter for iPhone</td>\n",
       "      <td>When she says she'll be ready in a minute but ...</td>\n",
       "      <td>https://twitter.com/dog_rates/status/672523490...</td>\n",
       "      <td>10</td>\n",
       "      <td>10</td>\n",
       "      <td>None</td>\n",
       "      <td>none</td>\n",
       "      <td>golden_retriever</td>\n",
       "      <td>56</td>\n",
       "      <td>189</td>\n",
       "      <td>696</td>\n",
       "    </tr>\n",
       "    <tr>\n",
       "      <th>1184</th>\n",
       "      <td>666063827256086533</td>\n",
       "      <td>2015-11-16 01:22:45</td>\n",
       "      <td>Twitter for iPhone</td>\n",
       "      <td>This is the happiest dog you will ever see. Ve...</td>\n",
       "      <td>https://twitter.com/dog_rates/status/666063827...</td>\n",
       "      <td>10</td>\n",
       "      <td>10</td>\n",
       "      <td>none</td>\n",
       "      <td>none</td>\n",
       "      <td>golden_retriever</td>\n",
       "      <td>77</td>\n",
       "      <td>232</td>\n",
       "      <td>496</td>\n",
       "    </tr>\n",
       "  </tbody>\n",
       "</table>\n",
       "</div>"
      ],
      "text/plain": [
       "                tweet_id           timestamp              source  \\\n",
       "96    860524505164394496 2017-05-05 16:00:04  Twitter for iPhone   \n",
       "455   756651752796094464 2016-07-23 00:46:50  Twitter for iPhone   \n",
       "1008  672594978741354496 2015-12-04 01:55:13  Twitter for iPhone   \n",
       "1021  672160042234327040 2015-12-02 21:06:56  Twitter for iPhone   \n",
       "929   675888385639251968 2015-12-13 04:02:03  Twitter for iPhone   \n",
       "674   703611486317502464 2016-02-27 16:03:45  Twitter for iPhone   \n",
       "348   786595970293370880 2016-10-13 15:54:28  Twitter for iPhone   \n",
       "247   813812741911748608 2016-12-27 18:24:12  Twitter for iPhone   \n",
       "1010  672523490734551040 2015-12-03 21:11:09  Twitter for iPhone   \n",
       "1184  666063827256086533 2015-11-16 01:22:45  Twitter for iPhone   \n",
       "\n",
       "                                                   text  \\\n",
       "96    This is Carl. He likes to dance. Doesn't care ...   \n",
       "455   This is Gert. He just wants you to be happy. 1...   \n",
       "1008  Meet Scott. Just trying to catch his train to ...   \n",
       "1021  This is Bubba. He's a Titted Peebles Aorta. Ev...   \n",
       "929   Breathtaking scene. A father taking care of hi...   \n",
       "674   Meet Scooter. He's experiencing the pupper equ...   \n",
       "348   This is Dale. He's a real spookster. Did me qu...   \n",
       "247   Meet Gary, Carrie Fisher's dog. Idk what I can...   \n",
       "1010  When she says she'll be ready in a minute but ...   \n",
       "1184  This is the happiest dog you will ever see. Ve...   \n",
       "\n",
       "                                          expanded_urls  rating_numerator  \\\n",
       "96    https://twitter.com/dog_rates/status/860524505...                13   \n",
       "455   https://twitter.com/dog_rates/status/756651752...                11   \n",
       "1008  https://twitter.com/dog_rates/status/672594978...                 9   \n",
       "1021  https://twitter.com/dog_rates/status/672160042...                 8   \n",
       "929   https://twitter.com/dog_rates/status/675888385...                10   \n",
       "674   https://twitter.com/dog_rates/status/703611486...                10   \n",
       "348   https://twitter.com/dog_rates/status/786595970...                11   \n",
       "247   https://twitter.com/dog_rates/status/813812741...                14   \n",
       "1010  https://twitter.com/dog_rates/status/672523490...                10   \n",
       "1184  https://twitter.com/dog_rates/status/666063827...                10   \n",
       "\n",
       "      rating_denominator     name  stages                        breed  \\\n",
       "96                    10     Carl    none           Bedlington_terrier   \n",
       "455                   10     Gert    none                     Pembroke   \n",
       "1008                  10    Scott  pupper               Great_Pyrenees   \n",
       "1021                  10    Bubba  pupper                          pug   \n",
       "929                   10     None    none  West_Highland_white_terrier   \n",
       "674                   10  Scooter  pupper                     Pembroke   \n",
       "348                   10     Dale    none                     Pembroke   \n",
       "247                   10     Gary    none               French_bulldog   \n",
       "1010                  10     None    none             golden_retriever   \n",
       "1184                  10     none    none             golden_retriever   \n",
       "\n",
       "      confidence  retweet_count  favorite_count  \n",
       "96            28           5698           24678  \n",
       "455           29           1511            5612  \n",
       "1008          75            661            1411  \n",
       "1021          56            395             918  \n",
       "929           67           1067            2581  \n",
       "674           75           1709            4229  \n",
       "348           70           3601           10497  \n",
       "247           70          16267           40402  \n",
       "1010          56            189             696  \n",
       "1184          77            232             496  "
      ]
     },
     "execution_count": 58,
     "metadata": {},
     "output_type": "execute_result"
    }
   ],
   "source": [
    "df_archive_clean.sample(10)"
   ]
  },
  {
   "cell_type": "markdown",
   "metadata": {},
   "source": [
    "## Tidiness `df_archive` Issue  #5\n",
    "\n",
    "Since all the values in the `rating_denominator` column are the same. We will drop it and rename the `rating_numerator` to just `rating`."
   ]
  },
  {
   "cell_type": "markdown",
   "metadata": {},
   "source": [
    "#### Define\n",
    "- drop the `rating_denominator` column\n",
    "- rename the `rating_numerator` column to `rating`"
   ]
  },
  {
   "cell_type": "markdown",
   "metadata": {},
   "source": [
    "#### Code"
   ]
  },
  {
   "cell_type": "code",
   "execution_count": 59,
   "metadata": {},
   "outputs": [],
   "source": [
    "df_archive_clean.drop(['rating_denominator'], axis = 1, inplace = True)\n",
    "df_archive_clean = df_archive_clean.rename({'rating_numerator':'rating'}, axis=1)"
   ]
  },
  {
   "cell_type": "markdown",
   "metadata": {},
   "source": [
    "#### Test"
   ]
  },
  {
   "cell_type": "code",
   "execution_count": 60,
   "metadata": {
    "scrolled": true
   },
   "outputs": [
    {
     "data": {
      "text/plain": [
       "['tweet_id',\n",
       " 'timestamp',\n",
       " 'source',\n",
       " 'text',\n",
       " 'expanded_urls',\n",
       " 'rating',\n",
       " 'name',\n",
       " 'stages',\n",
       " 'breed',\n",
       " 'confidence',\n",
       " 'retweet_count',\n",
       " 'favorite_count']"
      ]
     },
     "execution_count": 60,
     "metadata": {},
     "output_type": "execute_result"
    }
   ],
   "source": [
    "list(df_archive_clean)"
   ]
  },
  {
   "cell_type": "markdown",
   "metadata": {},
   "source": [
    "## Tidiness archive Issue #6\n",
    "Will not need the `expanded_urls` for analysis"
   ]
  },
  {
   "cell_type": "markdown",
   "metadata": {},
   "source": [
    "#### Define\n",
    "- Drop `expanded_urls` column"
   ]
  },
  {
   "cell_type": "markdown",
   "metadata": {},
   "source": [
    "#### Code"
   ]
  },
  {
   "cell_type": "code",
   "execution_count": 61,
   "metadata": {},
   "outputs": [],
   "source": [
    "df_archive_clean = df_archive_clean.drop(['expanded_urls'], axis = 1)"
   ]
  },
  {
   "cell_type": "markdown",
   "metadata": {},
   "source": [
    "#### Test"
   ]
  },
  {
   "cell_type": "code",
   "execution_count": 62,
   "metadata": {},
   "outputs": [
    {
     "data": {
      "text/plain": [
       "['tweet_id',\n",
       " 'timestamp',\n",
       " 'source',\n",
       " 'text',\n",
       " 'rating',\n",
       " 'name',\n",
       " 'stages',\n",
       " 'breed',\n",
       " 'confidence',\n",
       " 'retweet_count',\n",
       " 'favorite_count']"
      ]
     },
     "execution_count": 62,
     "metadata": {},
     "output_type": "execute_result"
    }
   ],
   "source": [
    "list(df_archive_clean)"
   ]
  },
  {
   "cell_type": "markdown",
   "metadata": {},
   "source": [
    "## Tidiness `archive` Issue  #6\n",
    "\n",
    "We want to rearrange the columns to move the numerical data needed for analysis to the left side."
   ]
  },
  {
   "cell_type": "markdown",
   "metadata": {},
   "source": [
    "#### Define\n",
    "- Rearrange the columns to make columns with the numerical data quickly seen. By moving the columns to the left."
   ]
  },
  {
   "cell_type": "markdown",
   "metadata": {},
   "source": [
    "#### Code"
   ]
  },
  {
   "cell_type": "code",
   "execution_count": 63,
   "metadata": {},
   "outputs": [
    {
     "name": "stdout",
     "output_type": "stream",
     "text": [
      "['tweet_id', 'timestamp', 'source', 'text', 'rating', 'name', 'stages', 'breed', 'confidence', 'retweet_count', 'favorite_count']\n"
     ]
    }
   ],
   "source": [
    "col_list = list(df_archive_clean.columns)\n",
    "print(col_list)"
   ]
  },
  {
   "cell_type": "code",
   "execution_count": 64,
   "metadata": {},
   "outputs": [],
   "source": [
    "# rearrange the columns\n",
    "col_list = ['tweet_id', 'timestamp', 'rating', 'retweet_count', 'favorite_count',\n",
    "            'breed', 'confidence', 'name', 'stages', 'source', 'text']\n"
   ]
  },
  {
   "cell_type": "code",
   "execution_count": 65,
   "metadata": {
    "scrolled": false
   },
   "outputs": [],
   "source": [
    "df_archive_clean = df_archive_clean.reindex(columns=col_list)"
   ]
  },
  {
   "cell_type": "markdown",
   "metadata": {},
   "source": [
    "#### Test"
   ]
  },
  {
   "cell_type": "code",
   "execution_count": 66,
   "metadata": {
    "scrolled": true
   },
   "outputs": [
    {
     "data": {
      "text/html": [
       "<div>\n",
       "<style scoped>\n",
       "    .dataframe tbody tr th:only-of-type {\n",
       "        vertical-align: middle;\n",
       "    }\n",
       "\n",
       "    .dataframe tbody tr th {\n",
       "        vertical-align: top;\n",
       "    }\n",
       "\n",
       "    .dataframe thead th {\n",
       "        text-align: right;\n",
       "    }\n",
       "</style>\n",
       "<table border=\"1\" class=\"dataframe\">\n",
       "  <thead>\n",
       "    <tr style=\"text-align: right;\">\n",
       "      <th></th>\n",
       "      <th>tweet_id</th>\n",
       "      <th>timestamp</th>\n",
       "      <th>rating</th>\n",
       "      <th>retweet_count</th>\n",
       "      <th>favorite_count</th>\n",
       "      <th>breed</th>\n",
       "      <th>confidence</th>\n",
       "      <th>name</th>\n",
       "      <th>stages</th>\n",
       "      <th>source</th>\n",
       "      <th>text</th>\n",
       "    </tr>\n",
       "  </thead>\n",
       "  <tbody>\n",
       "    <tr>\n",
       "      <th>844</th>\n",
       "      <td>682259524040966145</td>\n",
       "      <td>2015-12-30 17:58:40</td>\n",
       "      <td>9</td>\n",
       "      <td>1375</td>\n",
       "      <td>4578</td>\n",
       "      <td>Siberian_husky</td>\n",
       "      <td>43</td>\n",
       "      <td>Jax</td>\n",
       "      <td>none</td>\n",
       "      <td>Twitter for iPhone</td>\n",
       "      <td>Meet Jax. He's an Iglesias Hufflepoof. Quite t...</td>\n",
       "    </tr>\n",
       "    <tr>\n",
       "      <th>18</th>\n",
       "      <td>886736880519319552</td>\n",
       "      <td>2017-07-16 23:58:41</td>\n",
       "      <td>13</td>\n",
       "      <td>3443</td>\n",
       "      <td>12306</td>\n",
       "      <td>kuvasz</td>\n",
       "      <td>30</td>\n",
       "      <td>Mingus</td>\n",
       "      <td>none</td>\n",
       "      <td>Twitter for iPhone</td>\n",
       "      <td>This is Mingus. He's a wonderful father to his...</td>\n",
       "    </tr>\n",
       "    <tr>\n",
       "      <th>276</th>\n",
       "      <td>807621403335917568</td>\n",
       "      <td>2016-12-10 16:22:02</td>\n",
       "      <td>14</td>\n",
       "      <td>4288</td>\n",
       "      <td>16236</td>\n",
       "      <td>golden_retriever</td>\n",
       "      <td>87</td>\n",
       "      <td>Ollie</td>\n",
       "      <td>pupper</td>\n",
       "      <td>Twitter for iPhone</td>\n",
       "      <td>This is Ollie Vue. He was a 3 legged pupper on...</td>\n",
       "    </tr>\n",
       "    <tr>\n",
       "      <th>1121</th>\n",
       "      <td>668190681446379520</td>\n",
       "      <td>2015-11-21 22:14:07</td>\n",
       "      <td>12</td>\n",
       "      <td>210</td>\n",
       "      <td>696</td>\n",
       "      <td>Blenheim_spaniel</td>\n",
       "      <td>95</td>\n",
       "      <td>Skittles</td>\n",
       "      <td>none</td>\n",
       "      <td>Twitter for iPhone</td>\n",
       "      <td>This is Skittles. I would kidnap Skittles. Pin...</td>\n",
       "    </tr>\n",
       "    <tr>\n",
       "      <th>586</th>\n",
       "      <td>718234618122661888</td>\n",
       "      <td>2016-04-08 00:30:51</td>\n",
       "      <td>11</td>\n",
       "      <td>1127</td>\n",
       "      <td>4217</td>\n",
       "      <td>malamute</td>\n",
       "      <td>37</td>\n",
       "      <td>Suki</td>\n",
       "      <td>none</td>\n",
       "      <td>Twitter for iPhone</td>\n",
       "      <td>This is Suki. She was born with a blurry tail ...</td>\n",
       "    </tr>\n",
       "    <tr>\n",
       "      <th>182</th>\n",
       "      <td>828650029636317184</td>\n",
       "      <td>2017-02-06 17:02:17</td>\n",
       "      <td>14</td>\n",
       "      <td>1544</td>\n",
       "      <td>10467</td>\n",
       "      <td>golden_retriever</td>\n",
       "      <td>64</td>\n",
       "      <td>none</td>\n",
       "      <td>none</td>\n",
       "      <td>Twitter for iPhone</td>\n",
       "      <td>Occasionally, we're sent fantastic stories. Th...</td>\n",
       "    </tr>\n",
       "    <tr>\n",
       "      <th>152</th>\n",
       "      <td>838476387338051585</td>\n",
       "      <td>2017-03-05 19:48:43</td>\n",
       "      <td>13</td>\n",
       "      <td>5484</td>\n",
       "      <td>24664</td>\n",
       "      <td>Great_Pyrenees</td>\n",
       "      <td>99</td>\n",
       "      <td>Stanley</td>\n",
       "      <td>none</td>\n",
       "      <td>Twitter for iPhone</td>\n",
       "      <td>This is Stanley. Somehow he heard you tell him...</td>\n",
       "    </tr>\n",
       "    <tr>\n",
       "      <th>349</th>\n",
       "      <td>786363235746385920</td>\n",
       "      <td>2016-10-13 00:29:39</td>\n",
       "      <td>13</td>\n",
       "      <td>4072</td>\n",
       "      <td>12189</td>\n",
       "      <td>golden_retriever</td>\n",
       "      <td>92</td>\n",
       "      <td>Rizzo</td>\n",
       "      <td>doggo</td>\n",
       "      <td>Twitter for iPhone</td>\n",
       "      <td>This is Rizzo. He has many talents. A true ren...</td>\n",
       "    </tr>\n",
       "    <tr>\n",
       "      <th>706</th>\n",
       "      <td>699072405256409088</td>\n",
       "      <td>2016-02-15 03:27:04</td>\n",
       "      <td>12</td>\n",
       "      <td>1325</td>\n",
       "      <td>3296</td>\n",
       "      <td>Shih-Tzu</td>\n",
       "      <td>59</td>\n",
       "      <td>None</td>\n",
       "      <td>none</td>\n",
       "      <td>Twitter for iPhone</td>\n",
       "      <td>ERMAHGERD 12/10 please enjoy https://t.co/7WrA...</td>\n",
       "    </tr>\n",
       "    <tr>\n",
       "      <th>683</th>\n",
       "      <td>702217446468493312</td>\n",
       "      <td>2016-02-23 19:44:20</td>\n",
       "      <td>9</td>\n",
       "      <td>1526</td>\n",
       "      <td>5268</td>\n",
       "      <td>golden_retriever</td>\n",
       "      <td>24</td>\n",
       "      <td>None</td>\n",
       "      <td>none</td>\n",
       "      <td>Twitter for iPhone</td>\n",
       "      <td>I know it's tempting, but please stop sending ...</td>\n",
       "    </tr>\n",
       "    <tr>\n",
       "      <th>474</th>\n",
       "      <td>751205363882532864</td>\n",
       "      <td>2016-07-08 00:04:50</td>\n",
       "      <td>12</td>\n",
       "      <td>2086</td>\n",
       "      <td>6948</td>\n",
       "      <td>Labrador_retriever</td>\n",
       "      <td>94</td>\n",
       "      <td>None</td>\n",
       "      <td>none</td>\n",
       "      <td>Twitter for iPhone</td>\n",
       "      <td>\"This photographer took pics of her best frien...</td>\n",
       "    </tr>\n",
       "    <tr>\n",
       "      <th>199</th>\n",
       "      <td>825147591692263424</td>\n",
       "      <td>2017-01-28 01:04:51</td>\n",
       "      <td>13</td>\n",
       "      <td>5244</td>\n",
       "      <td>20181</td>\n",
       "      <td>Pekinese</td>\n",
       "      <td>35</td>\n",
       "      <td>Sweet</td>\n",
       "      <td>none</td>\n",
       "      <td>Twitter for iPhone</td>\n",
       "      <td>This is Sweet Pea. She hides in shoe boxes and...</td>\n",
       "    </tr>\n",
       "    <tr>\n",
       "      <th>797</th>\n",
       "      <td>687096057537363968</td>\n",
       "      <td>2016-01-13 02:17:20</td>\n",
       "      <td>11</td>\n",
       "      <td>695</td>\n",
       "      <td>2449</td>\n",
       "      <td>Labrador_retriever</td>\n",
       "      <td>41</td>\n",
       "      <td>None</td>\n",
       "      <td>pupper</td>\n",
       "      <td>Twitter for iPhone</td>\n",
       "      <td>This pupper's New Year's resolution was to bec...</td>\n",
       "    </tr>\n",
       "    <tr>\n",
       "      <th>136</th>\n",
       "      <td>844973813909606400</td>\n",
       "      <td>2017-03-23 18:07:10</td>\n",
       "      <td>12</td>\n",
       "      <td>3617</td>\n",
       "      <td>16361</td>\n",
       "      <td>Labrador_retriever</td>\n",
       "      <td>74</td>\n",
       "      <td>Brady</td>\n",
       "      <td>none</td>\n",
       "      <td>Twitter for iPhone</td>\n",
       "      <td>This is Brady. He's a recovering alcoholic. De...</td>\n",
       "    </tr>\n",
       "    <tr>\n",
       "      <th>197</th>\n",
       "      <td>825829644528148480</td>\n",
       "      <td>2017-01-29 22:15:05</td>\n",
       "      <td>12</td>\n",
       "      <td>2848</td>\n",
       "      <td>14025</td>\n",
       "      <td>Great_Pyrenees</td>\n",
       "      <td>85</td>\n",
       "      <td>Toby</td>\n",
       "      <td>none</td>\n",
       "      <td>Twitter for iPhone</td>\n",
       "      <td>This is Toby. He just found out you only prete...</td>\n",
       "    </tr>\n",
       "    <tr>\n",
       "      <th>185</th>\n",
       "      <td>828376505180889089</td>\n",
       "      <td>2017-02-05 22:55:23</td>\n",
       "      <td>13</td>\n",
       "      <td>1216</td>\n",
       "      <td>8112</td>\n",
       "      <td>American_Staffordshire_terrier</td>\n",
       "      <td>52</td>\n",
       "      <td>Beebop</td>\n",
       "      <td>none</td>\n",
       "      <td>Twitter for iPhone</td>\n",
       "      <td>This is Beebop. Her name means \"Good Dog\" in r...</td>\n",
       "    </tr>\n",
       "    <tr>\n",
       "      <th>1182</th>\n",
       "      <td>666073100786774016</td>\n",
       "      <td>2015-11-16 01:59:36</td>\n",
       "      <td>10</td>\n",
       "      <td>174</td>\n",
       "      <td>335</td>\n",
       "      <td>Walker_hound</td>\n",
       "      <td>26</td>\n",
       "      <td>None</td>\n",
       "      <td>none</td>\n",
       "      <td>Twitter for iPhone</td>\n",
       "      <td>Let's hope this flight isn't Malaysian (lol). ...</td>\n",
       "    </tr>\n",
       "    <tr>\n",
       "      <th>746</th>\n",
       "      <td>693155686491000832</td>\n",
       "      <td>2016-01-29 19:36:08</td>\n",
       "      <td>12</td>\n",
       "      <td>3622</td>\n",
       "      <td>8668</td>\n",
       "      <td>Shih-Tzu</td>\n",
       "      <td>69</td>\n",
       "      <td>Dunkin</td>\n",
       "      <td>none</td>\n",
       "      <td>Twitter for iPhone</td>\n",
       "      <td>This is Dunkin. He can only see when he's wet ...</td>\n",
       "    </tr>\n",
       "    <tr>\n",
       "      <th>112</th>\n",
       "      <td>854365224396361728</td>\n",
       "      <td>2017-04-18 16:05:17</td>\n",
       "      <td>13</td>\n",
       "      <td>5159</td>\n",
       "      <td>20046</td>\n",
       "      <td>Pembroke</td>\n",
       "      <td>90</td>\n",
       "      <td>Einstein</td>\n",
       "      <td>none</td>\n",
       "      <td>Twitter for iPhone</td>\n",
       "      <td>This is Einstein. He's having a really good da...</td>\n",
       "    </tr>\n",
       "    <tr>\n",
       "      <th>91</th>\n",
       "      <td>862831371563274240</td>\n",
       "      <td>2017-05-12 00:46:44</td>\n",
       "      <td>13</td>\n",
       "      <td>5457</td>\n",
       "      <td>20011</td>\n",
       "      <td>Australian_terrier</td>\n",
       "      <td>20</td>\n",
       "      <td>Zooey</td>\n",
       "      <td>none</td>\n",
       "      <td>Twitter for iPhone</td>\n",
       "      <td>This is Zooey. She's the world's biggest fan o...</td>\n",
       "    </tr>\n",
       "    <tr>\n",
       "      <th>507</th>\n",
       "      <td>744995568523612160</td>\n",
       "      <td>2016-06-20 20:49:19</td>\n",
       "      <td>9</td>\n",
       "      <td>716</td>\n",
       "      <td>3277</td>\n",
       "      <td>Old_English_sheepdog</td>\n",
       "      <td>42</td>\n",
       "      <td>Abby</td>\n",
       "      <td>puppo</td>\n",
       "      <td>Twitter for iPhone</td>\n",
       "      <td>This is Abby. She got her face stuck in a glas...</td>\n",
       "    </tr>\n",
       "    <tr>\n",
       "      <th>842</th>\n",
       "      <td>682429480204398592</td>\n",
       "      <td>2015-12-31 05:14:01</td>\n",
       "      <td>8</td>\n",
       "      <td>1320</td>\n",
       "      <td>3769</td>\n",
       "      <td>whippet</td>\n",
       "      <td>59</td>\n",
       "      <td>None</td>\n",
       "      <td>none</td>\n",
       "      <td>Twitter for iPhone</td>\n",
       "      <td>I know we joke around on here, but this is get...</td>\n",
       "    </tr>\n",
       "    <tr>\n",
       "      <th>629</th>\n",
       "      <td>709566166965075968</td>\n",
       "      <td>2016-03-15 02:25:31</td>\n",
       "      <td>12</td>\n",
       "      <td>1367</td>\n",
       "      <td>3865</td>\n",
       "      <td>chow</td>\n",
       "      <td>99</td>\n",
       "      <td>Olaf</td>\n",
       "      <td>none</td>\n",
       "      <td>Twitter for iPhone</td>\n",
       "      <td>This is Olaf. He's gotta be rare. Seems sturdy...</td>\n",
       "    </tr>\n",
       "    <tr>\n",
       "      <th>158</th>\n",
       "      <td>834786237630337024</td>\n",
       "      <td>2017-02-23 15:25:23</td>\n",
       "      <td>13</td>\n",
       "      <td>6159</td>\n",
       "      <td>22943</td>\n",
       "      <td>Border_terrier</td>\n",
       "      <td>15</td>\n",
       "      <td>Tobi</td>\n",
       "      <td>none</td>\n",
       "      <td>Twitter for iPhone</td>\n",
       "      <td>This is Tobi. She is properly fetching her sho...</td>\n",
       "    </tr>\n",
       "    <tr>\n",
       "      <th>69</th>\n",
       "      <td>870308999962521604</td>\n",
       "      <td>2017-06-01 16:00:09</td>\n",
       "      <td>13</td>\n",
       "      <td>4384</td>\n",
       "      <td>22453</td>\n",
       "      <td>Greater_Swiss_Mountain_dog</td>\n",
       "      <td>62</td>\n",
       "      <td>Rumble</td>\n",
       "      <td>none</td>\n",
       "      <td>Twitter for iPhone</td>\n",
       "      <td>This is Rumble, but he's not ready to. Would r...</td>\n",
       "    </tr>\n",
       "    <tr>\n",
       "      <th>429</th>\n",
       "      <td>765395769549590528</td>\n",
       "      <td>2016-08-16 03:52:26</td>\n",
       "      <td>13</td>\n",
       "      <td>3127</td>\n",
       "      <td>20539</td>\n",
       "      <td>Pembroke</td>\n",
       "      <td>50</td>\n",
       "      <td>none</td>\n",
       "      <td>none</td>\n",
       "      <td>Twitter for iPhone</td>\n",
       "      <td>This is my dog. Her name is Zoey. She knows I'...</td>\n",
       "    </tr>\n",
       "    <tr>\n",
       "      <th>1027</th>\n",
       "      <td>671536543010570240</td>\n",
       "      <td>2015-12-01 03:49:23</td>\n",
       "      <td>9</td>\n",
       "      <td>441</td>\n",
       "      <td>1253</td>\n",
       "      <td>pug</td>\n",
       "      <td>53</td>\n",
       "      <td>Reginald</td>\n",
       "      <td>none</td>\n",
       "      <td>Twitter for iPhone</td>\n",
       "      <td>This is Reginald. He's pondering what life wou...</td>\n",
       "    </tr>\n",
       "    <tr>\n",
       "      <th>479</th>\n",
       "      <td>750117059602808832</td>\n",
       "      <td>2016-07-05 00:00:18</td>\n",
       "      <td>10</td>\n",
       "      <td>1466</td>\n",
       "      <td>4740</td>\n",
       "      <td>Shih-Tzu</td>\n",
       "      <td>81</td>\n",
       "      <td>Calvin</td>\n",
       "      <td>none</td>\n",
       "      <td>Twitter for iPhone</td>\n",
       "      <td>This is Calvin. He just loves America so much....</td>\n",
       "    </tr>\n",
       "    <tr>\n",
       "      <th>619</th>\n",
       "      <td>710997087345876993</td>\n",
       "      <td>2016-03-19 01:11:29</td>\n",
       "      <td>12</td>\n",
       "      <td>1561</td>\n",
       "      <td>4960</td>\n",
       "      <td>malamute</td>\n",
       "      <td>28</td>\n",
       "      <td>Milo</td>\n",
       "      <td>none</td>\n",
       "      <td>Twitter for iPhone</td>\n",
       "      <td>Meet Milo and Amos. They are the best of pals....</td>\n",
       "    </tr>\n",
       "    <tr>\n",
       "      <th>888</th>\n",
       "      <td>678774928607469569</td>\n",
       "      <td>2015-12-21 03:12:08</td>\n",
       "      <td>11</td>\n",
       "      <td>1043</td>\n",
       "      <td>3037</td>\n",
       "      <td>Pembroke</td>\n",
       "      <td>19</td>\n",
       "      <td>Tug</td>\n",
       "      <td>none</td>\n",
       "      <td>Twitter for iPhone</td>\n",
       "      <td>This is Tug. He's not required to wear the con...</td>\n",
       "    </tr>\n",
       "  </tbody>\n",
       "</table>\n",
       "</div>"
      ],
      "text/plain": [
       "                tweet_id           timestamp  rating  retweet_count  \\\n",
       "844   682259524040966145 2015-12-30 17:58:40       9           1375   \n",
       "18    886736880519319552 2017-07-16 23:58:41      13           3443   \n",
       "276   807621403335917568 2016-12-10 16:22:02      14           4288   \n",
       "1121  668190681446379520 2015-11-21 22:14:07      12            210   \n",
       "586   718234618122661888 2016-04-08 00:30:51      11           1127   \n",
       "182   828650029636317184 2017-02-06 17:02:17      14           1544   \n",
       "152   838476387338051585 2017-03-05 19:48:43      13           5484   \n",
       "349   786363235746385920 2016-10-13 00:29:39      13           4072   \n",
       "706   699072405256409088 2016-02-15 03:27:04      12           1325   \n",
       "683   702217446468493312 2016-02-23 19:44:20       9           1526   \n",
       "474   751205363882532864 2016-07-08 00:04:50      12           2086   \n",
       "199   825147591692263424 2017-01-28 01:04:51      13           5244   \n",
       "797   687096057537363968 2016-01-13 02:17:20      11            695   \n",
       "136   844973813909606400 2017-03-23 18:07:10      12           3617   \n",
       "197   825829644528148480 2017-01-29 22:15:05      12           2848   \n",
       "185   828376505180889089 2017-02-05 22:55:23      13           1216   \n",
       "1182  666073100786774016 2015-11-16 01:59:36      10            174   \n",
       "746   693155686491000832 2016-01-29 19:36:08      12           3622   \n",
       "112   854365224396361728 2017-04-18 16:05:17      13           5159   \n",
       "91    862831371563274240 2017-05-12 00:46:44      13           5457   \n",
       "507   744995568523612160 2016-06-20 20:49:19       9            716   \n",
       "842   682429480204398592 2015-12-31 05:14:01       8           1320   \n",
       "629   709566166965075968 2016-03-15 02:25:31      12           1367   \n",
       "158   834786237630337024 2017-02-23 15:25:23      13           6159   \n",
       "69    870308999962521604 2017-06-01 16:00:09      13           4384   \n",
       "429   765395769549590528 2016-08-16 03:52:26      13           3127   \n",
       "1027  671536543010570240 2015-12-01 03:49:23       9            441   \n",
       "479   750117059602808832 2016-07-05 00:00:18      10           1466   \n",
       "619   710997087345876993 2016-03-19 01:11:29      12           1561   \n",
       "888   678774928607469569 2015-12-21 03:12:08      11           1043   \n",
       "\n",
       "      favorite_count                           breed  confidence      name  \\\n",
       "844             4578                  Siberian_husky          43       Jax   \n",
       "18             12306                          kuvasz          30    Mingus   \n",
       "276            16236                golden_retriever          87     Ollie   \n",
       "1121             696                Blenheim_spaniel          95  Skittles   \n",
       "586             4217                        malamute          37      Suki   \n",
       "182            10467                golden_retriever          64      none   \n",
       "152            24664                  Great_Pyrenees          99   Stanley   \n",
       "349            12189                golden_retriever          92     Rizzo   \n",
       "706             3296                        Shih-Tzu          59      None   \n",
       "683             5268                golden_retriever          24      None   \n",
       "474             6948              Labrador_retriever          94      None   \n",
       "199            20181                        Pekinese          35     Sweet   \n",
       "797             2449              Labrador_retriever          41      None   \n",
       "136            16361              Labrador_retriever          74     Brady   \n",
       "197            14025                  Great_Pyrenees          85      Toby   \n",
       "185             8112  American_Staffordshire_terrier          52    Beebop   \n",
       "1182             335                    Walker_hound          26      None   \n",
       "746             8668                        Shih-Tzu          69    Dunkin   \n",
       "112            20046                        Pembroke          90  Einstein   \n",
       "91             20011              Australian_terrier          20     Zooey   \n",
       "507             3277            Old_English_sheepdog          42      Abby   \n",
       "842             3769                         whippet          59      None   \n",
       "629             3865                            chow          99      Olaf   \n",
       "158            22943                  Border_terrier          15      Tobi   \n",
       "69             22453      Greater_Swiss_Mountain_dog          62    Rumble   \n",
       "429            20539                        Pembroke          50      none   \n",
       "1027            1253                             pug          53  Reginald   \n",
       "479             4740                        Shih-Tzu          81    Calvin   \n",
       "619             4960                        malamute          28      Milo   \n",
       "888             3037                        Pembroke          19       Tug   \n",
       "\n",
       "      stages              source  \\\n",
       "844     none  Twitter for iPhone   \n",
       "18      none  Twitter for iPhone   \n",
       "276   pupper  Twitter for iPhone   \n",
       "1121    none  Twitter for iPhone   \n",
       "586     none  Twitter for iPhone   \n",
       "182     none  Twitter for iPhone   \n",
       "152     none  Twitter for iPhone   \n",
       "349    doggo  Twitter for iPhone   \n",
       "706     none  Twitter for iPhone   \n",
       "683     none  Twitter for iPhone   \n",
       "474     none  Twitter for iPhone   \n",
       "199     none  Twitter for iPhone   \n",
       "797   pupper  Twitter for iPhone   \n",
       "136     none  Twitter for iPhone   \n",
       "197     none  Twitter for iPhone   \n",
       "185     none  Twitter for iPhone   \n",
       "1182    none  Twitter for iPhone   \n",
       "746     none  Twitter for iPhone   \n",
       "112     none  Twitter for iPhone   \n",
       "91      none  Twitter for iPhone   \n",
       "507    puppo  Twitter for iPhone   \n",
       "842     none  Twitter for iPhone   \n",
       "629     none  Twitter for iPhone   \n",
       "158     none  Twitter for iPhone   \n",
       "69      none  Twitter for iPhone   \n",
       "429     none  Twitter for iPhone   \n",
       "1027    none  Twitter for iPhone   \n",
       "479     none  Twitter for iPhone   \n",
       "619     none  Twitter for iPhone   \n",
       "888     none  Twitter for iPhone   \n",
       "\n",
       "                                                   text  \n",
       "844   Meet Jax. He's an Iglesias Hufflepoof. Quite t...  \n",
       "18    This is Mingus. He's a wonderful father to his...  \n",
       "276   This is Ollie Vue. He was a 3 legged pupper on...  \n",
       "1121  This is Skittles. I would kidnap Skittles. Pin...  \n",
       "586   This is Suki. She was born with a blurry tail ...  \n",
       "182   Occasionally, we're sent fantastic stories. Th...  \n",
       "152   This is Stanley. Somehow he heard you tell him...  \n",
       "349   This is Rizzo. He has many talents. A true ren...  \n",
       "706   ERMAHGERD 12/10 please enjoy https://t.co/7WrA...  \n",
       "683   I know it's tempting, but please stop sending ...  \n",
       "474   \"This photographer took pics of her best frien...  \n",
       "199   This is Sweet Pea. She hides in shoe boxes and...  \n",
       "797   This pupper's New Year's resolution was to bec...  \n",
       "136   This is Brady. He's a recovering alcoholic. De...  \n",
       "197   This is Toby. He just found out you only prete...  \n",
       "185   This is Beebop. Her name means \"Good Dog\" in r...  \n",
       "1182  Let's hope this flight isn't Malaysian (lol). ...  \n",
       "746   This is Dunkin. He can only see when he's wet ...  \n",
       "112   This is Einstein. He's having a really good da...  \n",
       "91    This is Zooey. She's the world's biggest fan o...  \n",
       "507   This is Abby. She got her face stuck in a glas...  \n",
       "842   I know we joke around on here, but this is get...  \n",
       "629   This is Olaf. He's gotta be rare. Seems sturdy...  \n",
       "158   This is Tobi. She is properly fetching her sho...  \n",
       "69    This is Rumble, but he's not ready to. Would r...  \n",
       "429   This is my dog. Her name is Zoey. She knows I'...  \n",
       "1027  This is Reginald. He's pondering what life wou...  \n",
       "479   This is Calvin. He just loves America so much....  \n",
       "619   Meet Milo and Amos. They are the best of pals....  \n",
       "888   This is Tug. He's not required to wear the con...  "
      ]
     },
     "execution_count": 66,
     "metadata": {},
     "output_type": "execute_result"
    }
   ],
   "source": [
    "df_archive_clean.sample(30)"
   ]
  },
  {
   "cell_type": "markdown",
   "metadata": {},
   "source": [
    "<a id='storing'></a>\n",
    "## Storing Data\n",
    "Save gathered, assessed, and cleaned master dataset to a CSV file named \"twitter_archive_master.csv\"."
   ]
  },
  {
   "cell_type": "code",
   "execution_count": 67,
   "metadata": {},
   "outputs": [],
   "source": [
    "df_archive_clean.to_csv('twitter_archive_master.csv', index = False)"
   ]
  },
  {
   "cell_type": "markdown",
   "metadata": {},
   "source": [
    "<a id='analysis'></a>\n",
    "## Analyzing and Visualizing Data\n",
    "In this section, analyze and visualize your wrangled data. You must produce at least **three (3) insights and one (1) visualization.**"
   ]
  },
  {
   "cell_type": "code",
   "execution_count": 68,
   "metadata": {
    "scrolled": false
   },
   "outputs": [
    {
     "name": "stdout",
     "output_type": "stream",
     "text": [
      "<class 'pandas.core.frame.DataFrame'>\n",
      "Int64Index: 1192 entries, 0 to 1191\n",
      "Data columns (total 11 columns):\n",
      " #   Column          Non-Null Count  Dtype         \n",
      "---  ------          --------------  -----         \n",
      " 0   tweet_id        1192 non-null   int64         \n",
      " 1   timestamp       1192 non-null   datetime64[ns]\n",
      " 2   rating          1192 non-null   int64         \n",
      " 3   retweet_count   1192 non-null   int64         \n",
      " 4   favorite_count  1192 non-null   int64         \n",
      " 5   breed           1192 non-null   object        \n",
      " 6   confidence      1192 non-null   int32         \n",
      " 7   name            1192 non-null   object        \n",
      " 8   stages          1192 non-null   category      \n",
      " 9   source          1192 non-null   object        \n",
      " 10  text            1192 non-null   object        \n",
      "dtypes: category(1), datetime64[ns](1), int32(1), int64(4), object(4)\n",
      "memory usage: 99.2+ KB\n"
     ]
    }
   ],
   "source": [
    "# let's make a copy of the twitter archive master table for analysis\n",
    "df_analysis = df_archive_clean.copy()\n",
    "df_analysis.info()"
   ]
  },
  {
   "cell_type": "code",
   "execution_count": 69,
   "metadata": {},
   "outputs": [
    {
     "data": {
      "text/html": [
       "<div>\n",
       "<style scoped>\n",
       "    .dataframe tbody tr th:only-of-type {\n",
       "        vertical-align: middle;\n",
       "    }\n",
       "\n",
       "    .dataframe tbody tr th {\n",
       "        vertical-align: top;\n",
       "    }\n",
       "\n",
       "    .dataframe thead th {\n",
       "        text-align: right;\n",
       "    }\n",
       "</style>\n",
       "<table border=\"1\" class=\"dataframe\">\n",
       "  <thead>\n",
       "    <tr style=\"text-align: right;\">\n",
       "      <th></th>\n",
       "      <th>tweet_id</th>\n",
       "      <th>timestamp</th>\n",
       "      <th>rating</th>\n",
       "      <th>retweet_count</th>\n",
       "      <th>favorite_count</th>\n",
       "      <th>breed</th>\n",
       "      <th>confidence</th>\n",
       "      <th>name</th>\n",
       "      <th>stages</th>\n",
       "      <th>source</th>\n",
       "      <th>text</th>\n",
       "    </tr>\n",
       "  </thead>\n",
       "  <tbody>\n",
       "    <tr>\n",
       "      <th>343</th>\n",
       "      <td>787810552592695296</td>\n",
       "      <td>2016-10-17 00:20:47</td>\n",
       "      <td>11</td>\n",
       "      <td>3540</td>\n",
       "      <td>9717</td>\n",
       "      <td>pug</td>\n",
       "      <td>36</td>\n",
       "      <td>Frank</td>\n",
       "      <td>none</td>\n",
       "      <td>Twitter for iPhone</td>\n",
       "      <td>This is Frank. He wears sunglasses and walks h...</td>\n",
       "    </tr>\n",
       "    <tr>\n",
       "      <th>418</th>\n",
       "      <td>768473857036525572</td>\n",
       "      <td>2016-08-24 15:43:39</td>\n",
       "      <td>11</td>\n",
       "      <td>3958</td>\n",
       "      <td>15110</td>\n",
       "      <td>Labrador_retriever</td>\n",
       "      <td>73</td>\n",
       "      <td>Chevy</td>\n",
       "      <td>none</td>\n",
       "      <td>Twitter for iPhone</td>\n",
       "      <td>Meet Chevy. He had a late breakfast and now ha...</td>\n",
       "    </tr>\n",
       "    <tr>\n",
       "      <th>51</th>\n",
       "      <td>876120275196170240</td>\n",
       "      <td>2017-06-17 16:52:05</td>\n",
       "      <td>13</td>\n",
       "      <td>4903</td>\n",
       "      <td>28490</td>\n",
       "      <td>Bernese_mountain_dog</td>\n",
       "      <td>53</td>\n",
       "      <td>Venti</td>\n",
       "      <td>none</td>\n",
       "      <td>Twitter for iPhone</td>\n",
       "      <td>Meet Venti, a seemingly caffeinated puppoccino...</td>\n",
       "    </tr>\n",
       "    <tr>\n",
       "      <th>10</th>\n",
       "      <td>889278841981685760</td>\n",
       "      <td>2017-07-24 00:19:32</td>\n",
       "      <td>13</td>\n",
       "      <td>5637</td>\n",
       "      <td>25652</td>\n",
       "      <td>whippet</td>\n",
       "      <td>62</td>\n",
       "      <td>Oliver</td>\n",
       "      <td>none</td>\n",
       "      <td>Twitter for iPhone</td>\n",
       "      <td>This is Oliver. You're witnessing one of his m...</td>\n",
       "    </tr>\n",
       "    <tr>\n",
       "      <th>272</th>\n",
       "      <td>808838249661788160</td>\n",
       "      <td>2016-12-14 00:57:20</td>\n",
       "      <td>13</td>\n",
       "      <td>3536</td>\n",
       "      <td>11271</td>\n",
       "      <td>Rottweiler</td>\n",
       "      <td>36</td>\n",
       "      <td>Ito</td>\n",
       "      <td>none</td>\n",
       "      <td>Twitter for iPhone</td>\n",
       "      <td>This is Ito. He'll be your uber driver tonight...</td>\n",
       "    </tr>\n",
       "    <tr>\n",
       "      <th>840</th>\n",
       "      <td>682662431982772225</td>\n",
       "      <td>2015-12-31 20:39:41</td>\n",
       "      <td>11</td>\n",
       "      <td>1207</td>\n",
       "      <td>3326</td>\n",
       "      <td>beagle</td>\n",
       "      <td>41</td>\n",
       "      <td>Joey</td>\n",
       "      <td>none</td>\n",
       "      <td>Twitter for iPhone</td>\n",
       "      <td>Meet Joey and Izzy. Joey only has one ear that...</td>\n",
       "    </tr>\n",
       "    <tr>\n",
       "      <th>7</th>\n",
       "      <td>889665388333682689</td>\n",
       "      <td>2017-07-25 01:55:32</td>\n",
       "      <td>13</td>\n",
       "      <td>8538</td>\n",
       "      <td>38818</td>\n",
       "      <td>Pembroke</td>\n",
       "      <td>96</td>\n",
       "      <td>None</td>\n",
       "      <td>puppo</td>\n",
       "      <td>Twitter for iPhone</td>\n",
       "      <td>Here's a puppo that seems to be on the fence a...</td>\n",
       "    </tr>\n",
       "    <tr>\n",
       "      <th>465</th>\n",
       "      <td>753398408988139520</td>\n",
       "      <td>2016-07-14 01:19:12</td>\n",
       "      <td>12</td>\n",
       "      <td>2186</td>\n",
       "      <td>6384</td>\n",
       "      <td>whippet</td>\n",
       "      <td>16</td>\n",
       "      <td>Scout</td>\n",
       "      <td>none</td>\n",
       "      <td>Twitter for iPhone</td>\n",
       "      <td>This is Scout. Her batteries are low. 12/10 pr...</td>\n",
       "    </tr>\n",
       "    <tr>\n",
       "      <th>204</th>\n",
       "      <td>823939628516474880</td>\n",
       "      <td>2017-01-24 17:04:50</td>\n",
       "      <td>12</td>\n",
       "      <td>3123</td>\n",
       "      <td>11755</td>\n",
       "      <td>schipperke</td>\n",
       "      <td>23</td>\n",
       "      <td>Cash</td>\n",
       "      <td>none</td>\n",
       "      <td>Twitter for iPhone</td>\n",
       "      <td>This is Cash. He's officially given pup on tod...</td>\n",
       "    </tr>\n",
       "    <tr>\n",
       "      <th>220</th>\n",
       "      <td>819588359383371776</td>\n",
       "      <td>2017-01-12 16:54:26</td>\n",
       "      <td>13</td>\n",
       "      <td>2271</td>\n",
       "      <td>10606</td>\n",
       "      <td>Cardigan</td>\n",
       "      <td>54</td>\n",
       "      <td>Jazzy</td>\n",
       "      <td>none</td>\n",
       "      <td>Twitter for iPhone</td>\n",
       "      <td>This is Jazzy. She just found out that sandwic...</td>\n",
       "    </tr>\n",
       "  </tbody>\n",
       "</table>\n",
       "</div>"
      ],
      "text/plain": [
       "               tweet_id           timestamp  rating  retweet_count  \\\n",
       "343  787810552592695296 2016-10-17 00:20:47      11           3540   \n",
       "418  768473857036525572 2016-08-24 15:43:39      11           3958   \n",
       "51   876120275196170240 2017-06-17 16:52:05      13           4903   \n",
       "10   889278841981685760 2017-07-24 00:19:32      13           5637   \n",
       "272  808838249661788160 2016-12-14 00:57:20      13           3536   \n",
       "840  682662431982772225 2015-12-31 20:39:41      11           1207   \n",
       "7    889665388333682689 2017-07-25 01:55:32      13           8538   \n",
       "465  753398408988139520 2016-07-14 01:19:12      12           2186   \n",
       "204  823939628516474880 2017-01-24 17:04:50      12           3123   \n",
       "220  819588359383371776 2017-01-12 16:54:26      13           2271   \n",
       "\n",
       "     favorite_count                 breed  confidence    name stages  \\\n",
       "343            9717                   pug          36   Frank   none   \n",
       "418           15110    Labrador_retriever          73   Chevy   none   \n",
       "51            28490  Bernese_mountain_dog          53   Venti   none   \n",
       "10            25652               whippet          62  Oliver   none   \n",
       "272           11271            Rottweiler          36     Ito   none   \n",
       "840            3326                beagle          41    Joey   none   \n",
       "7             38818              Pembroke          96    None  puppo   \n",
       "465            6384               whippet          16   Scout   none   \n",
       "204           11755            schipperke          23    Cash   none   \n",
       "220           10606              Cardigan          54   Jazzy   none   \n",
       "\n",
       "                 source                                               text  \n",
       "343  Twitter for iPhone  This is Frank. He wears sunglasses and walks h...  \n",
       "418  Twitter for iPhone  Meet Chevy. He had a late breakfast and now ha...  \n",
       "51   Twitter for iPhone  Meet Venti, a seemingly caffeinated puppoccino...  \n",
       "10   Twitter for iPhone  This is Oliver. You're witnessing one of his m...  \n",
       "272  Twitter for iPhone  This is Ito. He'll be your uber driver tonight...  \n",
       "840  Twitter for iPhone  Meet Joey and Izzy. Joey only has one ear that...  \n",
       "7    Twitter for iPhone  Here's a puppo that seems to be on the fence a...  \n",
       "465  Twitter for iPhone  This is Scout. Her batteries are low. 12/10 pr...  \n",
       "204  Twitter for iPhone  This is Cash. He's officially given pup on tod...  \n",
       "220  Twitter for iPhone  This is Jazzy. She just found out that sandwic...  "
      ]
     },
     "execution_count": 69,
     "metadata": {},
     "output_type": "execute_result"
    }
   ],
   "source": [
    "df_analysis.sample(10)"
   ]
  },
  {
   "cell_type": "markdown",
   "metadata": {},
   "source": [
    "### Insights:\n",
    "1. What dog names are the most common?\n",
    "\n",
    "2. What dog breeds are the Most Rated?\n",
    "\n",
    "3. What dog breed has the most retweet count?\n",
    "\n",
    "4. What is the most common dog stage?"
   ]
  },
  {
   "cell_type": "markdown",
   "metadata": {},
   "source": [
    "## Insight #1\n",
    "- What dog names are the most common?"
   ]
  },
  {
   "cell_type": "code",
   "execution_count": 95,
   "metadata": {
    "scrolled": true
   },
   "outputs": [
    {
     "data": {
      "text/plain": [
       "None       289\n",
       "none        53\n",
       "Cooper       9\n",
       "Charlie      8\n",
       "Oliver       7\n",
       "          ... \n",
       "Stormy       1\n",
       "Dallas       1\n",
       "Mattie       1\n",
       "Rizzo        1\n",
       "Walter       1\n",
       "Name: name, Length: 632, dtype: int64"
      ]
     },
     "execution_count": 95,
     "metadata": {},
     "output_type": "execute_result"
    }
   ],
   "source": [
    "df_analysis.name.value_counts()"
   ]
  },
  {
   "cell_type": "markdown",
   "metadata": {},
   "source": [
    "From the valid dog names, Cooper is seen the most common dog name."
   ]
  },
  {
   "cell_type": "markdown",
   "metadata": {},
   "source": [
    "### Insight #2\n",
    "- What dog breeds are the Most Rated?"
   ]
  },
  {
   "cell_type": "code",
   "execution_count": 71,
   "metadata": {
    "scrolled": true
   },
   "outputs": [
    {
     "data": {
      "text/plain": [
       "breed\n",
       "clumber               27\n",
       "kuvasz                26\n",
       "Bedlington_terrier    14\n",
       "Chihuahua             14\n",
       "Eskimo_dog            14\n",
       "Name: rating, dtype: int64"
      ]
     },
     "execution_count": 71,
     "metadata": {},
     "output_type": "execute_result"
    }
   ],
   "source": [
    "df_analysis.groupby('breed')['rating'].max().nlargest(5)"
   ]
  },
  {
   "cell_type": "code",
   "execution_count": 72,
   "metadata": {
    "scrolled": false
   },
   "outputs": [
    {
     "data": {
      "image/png": "[encoded data removed]",
      "text/plain": [
       "<Figure size 576x360 with 1 Axes>"
      ]
     },
     "metadata": {
      "needs_background": "light"
     },
     "output_type": "display_data"
    }
   ],
   "source": [
    "df_analysis.groupby('breed')['rating'].max().nlargest(5).plot(kind='barh',figsize=(8,5), title=\"Most Rated Dog Breeds\")\n",
    "plt.xlabel('Rating')\n",
    "plt.ylabel('Breed')\n",
    "plt.show()"
   ]
  },
  {
   "cell_type": "code",
   "execution_count": null,
   "metadata": {},
   "outputs": [],
   "source": []
  },
  {
   "cell_type": "markdown",
   "metadata": {},
   "source": [
    "- The Most Rated dog breed is the clumber"
   ]
  },
  {
   "cell_type": "markdown",
   "metadata": {},
   "source": [
    "## Insight #3\n",
    "What dog breed has the most retweet count?"
   ]
  },
  {
   "cell_type": "code",
   "execution_count": 95,
   "metadata": {},
   "outputs": [
    {
     "data": {
      "text/plain": [
       "breed\n",
       "Chihuahua           56625\n",
       "Eskimo_dog          52360\n",
       "Lakeland_terrier    48265\n",
       "English_springer    45849\n",
       "standard_poodle     42228\n",
       "Name: retweet_count, dtype: int64"
      ]
     },
     "execution_count": 95,
     "metadata": {},
     "output_type": "execute_result"
    }
   ],
   "source": [
    "df_analysis.groupby('breed')['retweet_count'].max().nlargest(5)"
   ]
  },
  {
   "cell_type": "code",
   "execution_count": 84,
   "metadata": {
    "scrolled": true
   },
   "outputs": [
    {
     "data": {
      "image/png": "[encoded data removed]",
      "text/plain": [
       "<Figure size 504x360 with 1 Axes>"
      ]
     },
     "metadata": {
      "needs_background": "light"
     },
     "output_type": "display_data"
    }
   ],
   "source": [
    "df_analysis.groupby('breed')['retweet_count'].max().nlargest(5).plot(kind='barh', figsize=(7,5), title='Dog Breed With The Most Retweet Count')\n",
    "plt.xlabel('Retweet Count')\n",
    "plt.ylabel('Dog Breed')\n",
    "plt.show()"
   ]
  },
  {
   "cell_type": "markdown",
   "metadata": {},
   "source": [
    "- The Chihuahua is the dog breed with the most retweets. Which shows that it has quite a large fanbase. The Eskimo dog breed isn't far behind coming in second."
   ]
  },
  {
   "cell_type": "markdown",
   "metadata": {},
   "source": [
    "## Insight #4\n",
    "What is the most common dog stage?"
   ]
  },
  {
   "cell_type": "code",
   "execution_count": 96,
   "metadata": {},
   "outputs": [
    {
     "data": {
      "text/plain": [
       "floofer      7\n",
       "puppo       19\n",
       "doggo       45\n",
       "pupper     120\n",
       "Name: stages, dtype: int64"
      ]
     },
     "execution_count": 96,
     "metadata": {},
     "output_type": "execute_result"
    }
   ],
   "source": [
    "df_analysis.stages.value_counts(ascending=True)[:4]"
   ]
  },
  {
   "cell_type": "code",
   "execution_count": 90,
   "metadata": {
    "scrolled": false
   },
   "outputs": [
    {
     "data": {
      "image/png": "[encoded data removed]",
      "text/plain": [
       "<Figure size 576x360 with 1 Axes>"
      ]
     },
     "metadata": {
      "needs_background": "light"
     },
     "output_type": "display_data"
    }
   ],
   "source": [
    "df_analysis.stages.value_counts(ascending=True)[:4].plot(kind='barh',figsize=(8,5), title=\"Dog Stages\")\n",
    "plt.xlabel('Number of Occurrences')\n",
    "plt.ylabel('Stages')\n",
    "plt.show()"
   ]
  }
 ],
 "metadata": {
  "extensions": {
   "jupyter_dashboards": {
    "activeView": "report_default",
    "version": 1,
    "views": {
     "grid_default": {
      "cellMargin": 10,
      "defaultCellHeight": 20,
      "maxColumns": 12,
      "name": "grid",
      "type": "grid"
     },
     "report_default": {
      "name": "report",
      "type": "report"
     }
    }
   }
  },
  "kernelspec": {
   "display_name": "alxenv",
   "language": "python",
   "name": "myenv"
  },
  "language_info": {
   "codemirror_mode": {
    "name": "ipython",
    "version": 3
   },
   "file_extension": ".py",
   "mimetype": "text/x-python",
   "name": "python",
   "nbconvert_exporter": "python",
   "pygments_lexer": "ipython3",
   "version": "3.10.4"
  }
 },
 "nbformat": 4,
 "nbformat_minor": 2
}
